{
 "cells": [
  {
   "cell_type": "code",
   "execution_count": 49,
   "id": "686bf65f-c4f9-47ab-b26e-a6e169d5f184",
   "metadata": {},
   "outputs": [],
   "source": [
    "import pandas as pd\n",
    "import matplotlib.pyplot as plt\n",
    "import seaborn as sns\n",
    "import numpy as np\n",
    "import plotly.express as px\n"
   ]
  },
  {
   "cell_type": "code",
   "execution_count": 50,
   "id": "1fcaca71-c84e-4598-8763-4d8135bf0d0c",
   "metadata": {},
   "outputs": [
    {
     "data": {
      "text/html": [
       "<div>\n",
       "<style scoped>\n",
       "    .dataframe tbody tr th:only-of-type {\n",
       "        vertical-align: middle;\n",
       "    }\n",
       "\n",
       "    .dataframe tbody tr th {\n",
       "        vertical-align: top;\n",
       "    }\n",
       "\n",
       "    .dataframe thead th {\n",
       "        text-align: right;\n",
       "    }\n",
       "</style>\n",
       "<table border=\"1\" class=\"dataframe\">\n",
       "  <thead>\n",
       "    <tr style=\"text-align: right;\">\n",
       "      <th></th>\n",
       "      <th>RegionID</th>\n",
       "      <th>SizeRank</th>\n",
       "      <th>RegionName</th>\n",
       "      <th>RegionType</th>\n",
       "      <th>StateName</th>\n",
       "      <th>2000-01-31</th>\n",
       "      <th>2000-02-29</th>\n",
       "      <th>2000-03-31</th>\n",
       "      <th>2000-04-30</th>\n",
       "      <th>2000-05-31</th>\n",
       "      <th>...</th>\n",
       "      <th>2024-04-30</th>\n",
       "      <th>2024-05-31</th>\n",
       "      <th>2024-06-30</th>\n",
       "      <th>2024-07-31</th>\n",
       "      <th>2024-08-31</th>\n",
       "      <th>2024-09-30</th>\n",
       "      <th>2024-10-31</th>\n",
       "      <th>2024-11-30</th>\n",
       "      <th>2024-12-31</th>\n",
       "      <th>2025-01-31</th>\n",
       "    </tr>\n",
       "  </thead>\n",
       "  <tbody>\n",
       "    <tr>\n",
       "      <th>0</th>\n",
       "      <td>102001</td>\n",
       "      <td>0</td>\n",
       "      <td>United States</td>\n",
       "      <td>country</td>\n",
       "      <td>NaN</td>\n",
       "      <td>119729.572640</td>\n",
       "      <td>119940.215341</td>\n",
       "      <td>120201.443305</td>\n",
       "      <td>120761.726012</td>\n",
       "      <td>121406.544234</td>\n",
       "      <td>...</td>\n",
       "      <td>350165.829700</td>\n",
       "      <td>351570.606154</td>\n",
       "      <td>352120.860853</td>\n",
       "      <td>352265.907749</td>\n",
       "      <td>352504.359843</td>\n",
       "      <td>352945.853239</td>\n",
       "      <td>353522.496915</td>\n",
       "      <td>354005.575460</td>\n",
       "      <td>354711.020713</td>\n",
       "      <td>355327.955070</td>\n",
       "    </tr>\n",
       "    <tr>\n",
       "      <th>1</th>\n",
       "      <td>394913</td>\n",
       "      <td>1</td>\n",
       "      <td>New York, NY</td>\n",
       "      <td>msa</td>\n",
       "      <td>NY</td>\n",
       "      <td>214911.652349</td>\n",
       "      <td>215824.905614</td>\n",
       "      <td>216746.617250</td>\n",
       "      <td>218614.361683</td>\n",
       "      <td>220548.475724</td>\n",
       "      <td>...</td>\n",
       "      <td>647851.001125</td>\n",
       "      <td>652477.077381</td>\n",
       "      <td>655536.133683</td>\n",
       "      <td>658263.386724</td>\n",
       "      <td>661979.750511</td>\n",
       "      <td>665977.942675</td>\n",
       "      <td>669477.234967</td>\n",
       "      <td>672228.240789</td>\n",
       "      <td>673999.838327</td>\n",
       "      <td>675063.976036</td>\n",
       "    </tr>\n",
       "    <tr>\n",
       "      <th>2</th>\n",
       "      <td>753899</td>\n",
       "      <td>2</td>\n",
       "      <td>Los Angeles, CA</td>\n",
       "      <td>msa</td>\n",
       "      <td>CA</td>\n",
       "      <td>218489.647448</td>\n",
       "      <td>219302.706154</td>\n",
       "      <td>220385.692595</td>\n",
       "      <td>222540.471813</td>\n",
       "      <td>224897.124751</td>\n",
       "      <td>...</td>\n",
       "      <td>911031.498845</td>\n",
       "      <td>916863.716873</td>\n",
       "      <td>920777.178084</td>\n",
       "      <td>925109.643477</td>\n",
       "      <td>930243.585193</td>\n",
       "      <td>936603.517696</td>\n",
       "      <td>941773.674116</td>\n",
       "      <td>946228.303841</td>\n",
       "      <td>950210.062120</td>\n",
       "      <td>950740.494586</td>\n",
       "    </tr>\n",
       "    <tr>\n",
       "      <th>3</th>\n",
       "      <td>394463</td>\n",
       "      <td>3</td>\n",
       "      <td>Chicago, IL</td>\n",
       "      <td>msa</td>\n",
       "      <td>IL</td>\n",
       "      <td>150432.480390</td>\n",
       "      <td>150571.737044</td>\n",
       "      <td>150836.953795</td>\n",
       "      <td>151496.747161</td>\n",
       "      <td>152290.399220</td>\n",
       "      <td>...</td>\n",
       "      <td>311972.006665</td>\n",
       "      <td>314053.134292</td>\n",
       "      <td>315253.946820</td>\n",
       "      <td>315976.493240</td>\n",
       "      <td>316881.631507</td>\n",
       "      <td>317866.656523</td>\n",
       "      <td>318826.563429</td>\n",
       "      <td>319846.118364</td>\n",
       "      <td>321070.725716</td>\n",
       "      <td>322389.516129</td>\n",
       "    </tr>\n",
       "    <tr>\n",
       "      <th>4</th>\n",
       "      <td>394514</td>\n",
       "      <td>4</td>\n",
       "      <td>Dallas, TX</td>\n",
       "      <td>msa</td>\n",
       "      <td>TX</td>\n",
       "      <td>125268.936932</td>\n",
       "      <td>125324.732154</td>\n",
       "      <td>125388.874474</td>\n",
       "      <td>125555.445340</td>\n",
       "      <td>125775.064467</td>\n",
       "      <td>...</td>\n",
       "      <td>372240.198836</td>\n",
       "      <td>372383.086130</td>\n",
       "      <td>371723.001722</td>\n",
       "      <td>370790.474579</td>\n",
       "      <td>370143.446717</td>\n",
       "      <td>369946.958796</td>\n",
       "      <td>369841.800601</td>\n",
       "      <td>369555.460608</td>\n",
       "      <td>369035.088390</td>\n",
       "      <td>368515.900537</td>\n",
       "    </tr>\n",
       "    <tr>\n",
       "      <th>5</th>\n",
       "      <td>394692</td>\n",
       "      <td>5</td>\n",
       "      <td>Houston, TX</td>\n",
       "      <td>msa</td>\n",
       "      <td>TX</td>\n",
       "      <td>121445.891951</td>\n",
       "      <td>121468.513592</td>\n",
       "      <td>121383.719268</td>\n",
       "      <td>121434.404294</td>\n",
       "      <td>121481.159606</td>\n",
       "      <td>...</td>\n",
       "      <td>306473.992737</td>\n",
       "      <td>307007.423050</td>\n",
       "      <td>306889.410405</td>\n",
       "      <td>306526.817839</td>\n",
       "      <td>306309.415498</td>\n",
       "      <td>306247.064677</td>\n",
       "      <td>306049.283507</td>\n",
       "      <td>305716.951301</td>\n",
       "      <td>305539.457811</td>\n",
       "      <td>305480.078502</td>\n",
       "    </tr>\n",
       "    <tr>\n",
       "      <th>6</th>\n",
       "      <td>395209</td>\n",
       "      <td>6</td>\n",
       "      <td>Washington, DC</td>\n",
       "      <td>msa</td>\n",
       "      <td>VA</td>\n",
       "      <td>178715.808494</td>\n",
       "      <td>178861.118295</td>\n",
       "      <td>179128.933876</td>\n",
       "      <td>179735.345332</td>\n",
       "      <td>180657.193831</td>\n",
       "      <td>...</td>\n",
       "      <td>552721.857140</td>\n",
       "      <td>556137.862993</td>\n",
       "      <td>557812.715078</td>\n",
       "      <td>558372.233424</td>\n",
       "      <td>558888.746681</td>\n",
       "      <td>560312.151900</td>\n",
       "      <td>562382.785308</td>\n",
       "      <td>564682.658703</td>\n",
       "      <td>566740.444275</td>\n",
       "      <td>568309.985098</td>\n",
       "    </tr>\n",
       "    <tr>\n",
       "      <th>7</th>\n",
       "      <td>394974</td>\n",
       "      <td>7</td>\n",
       "      <td>Philadelphia, PA</td>\n",
       "      <td>msa</td>\n",
       "      <td>PA</td>\n",
       "      <td>119253.125968</td>\n",
       "      <td>119518.181024</td>\n",
       "      <td>119699.070549</td>\n",
       "      <td>120145.434054</td>\n",
       "      <td>120577.383072</td>\n",
       "      <td>...</td>\n",
       "      <td>351338.151595</td>\n",
       "      <td>353349.554670</td>\n",
       "      <td>354253.803794</td>\n",
       "      <td>354628.799425</td>\n",
       "      <td>355338.487809</td>\n",
       "      <td>356485.560449</td>\n",
       "      <td>357792.318603</td>\n",
       "      <td>358883.850814</td>\n",
       "      <td>360070.209998</td>\n",
       "      <td>361160.597202</td>\n",
       "    </tr>\n",
       "    <tr>\n",
       "      <th>8</th>\n",
       "      <td>394856</td>\n",
       "      <td>8</td>\n",
       "      <td>Miami, FL</td>\n",
       "      <td>msa</td>\n",
       "      <td>FL</td>\n",
       "      <td>112161.594666</td>\n",
       "      <td>112469.501738</td>\n",
       "      <td>112795.559504</td>\n",
       "      <td>113454.267196</td>\n",
       "      <td>114091.706444</td>\n",
       "      <td>...</td>\n",
       "      <td>483613.706399</td>\n",
       "      <td>485293.909777</td>\n",
       "      <td>485856.483975</td>\n",
       "      <td>486046.366497</td>\n",
       "      <td>486066.100977</td>\n",
       "      <td>486121.700032</td>\n",
       "      <td>485681.106405</td>\n",
       "      <td>484724.135102</td>\n",
       "      <td>483888.809901</td>\n",
       "      <td>483279.946692</td>\n",
       "    </tr>\n",
       "    <tr>\n",
       "      <th>9</th>\n",
       "      <td>394347</td>\n",
       "      <td>9</td>\n",
       "      <td>Atlanta, GA</td>\n",
       "      <td>msa</td>\n",
       "      <td>GA</td>\n",
       "      <td>143808.708064</td>\n",
       "      <td>144140.162485</td>\n",
       "      <td>144530.677149</td>\n",
       "      <td>145361.258724</td>\n",
       "      <td>146289.164055</td>\n",
       "      <td>...</td>\n",
       "      <td>378405.987076</td>\n",
       "      <td>379537.157308</td>\n",
       "      <td>379757.932962</td>\n",
       "      <td>379556.802096</td>\n",
       "      <td>379415.220758</td>\n",
       "      <td>379245.236752</td>\n",
       "      <td>378790.752521</td>\n",
       "      <td>377971.717713</td>\n",
       "      <td>377127.804830</td>\n",
       "      <td>376332.631550</td>\n",
       "    </tr>\n",
       "  </tbody>\n",
       "</table>\n",
       "<p>10 rows × 306 columns</p>\n",
       "</div>"
      ],
      "text/plain": [
       "   RegionID  SizeRank        RegionName RegionType StateName     2000-01-31  \\\n",
       "0    102001         0     United States    country       NaN  119729.572640   \n",
       "1    394913         1      New York, NY        msa        NY  214911.652349   \n",
       "2    753899         2   Los Angeles, CA        msa        CA  218489.647448   \n",
       "3    394463         3       Chicago, IL        msa        IL  150432.480390   \n",
       "4    394514         4        Dallas, TX        msa        TX  125268.936932   \n",
       "5    394692         5       Houston, TX        msa        TX  121445.891951   \n",
       "6    395209         6    Washington, DC        msa        VA  178715.808494   \n",
       "7    394974         7  Philadelphia, PA        msa        PA  119253.125968   \n",
       "8    394856         8         Miami, FL        msa        FL  112161.594666   \n",
       "9    394347         9       Atlanta, GA        msa        GA  143808.708064   \n",
       "\n",
       "      2000-02-29     2000-03-31     2000-04-30     2000-05-31  ...  \\\n",
       "0  119940.215341  120201.443305  120761.726012  121406.544234  ...   \n",
       "1  215824.905614  216746.617250  218614.361683  220548.475724  ...   \n",
       "2  219302.706154  220385.692595  222540.471813  224897.124751  ...   \n",
       "3  150571.737044  150836.953795  151496.747161  152290.399220  ...   \n",
       "4  125324.732154  125388.874474  125555.445340  125775.064467  ...   \n",
       "5  121468.513592  121383.719268  121434.404294  121481.159606  ...   \n",
       "6  178861.118295  179128.933876  179735.345332  180657.193831  ...   \n",
       "7  119518.181024  119699.070549  120145.434054  120577.383072  ...   \n",
       "8  112469.501738  112795.559504  113454.267196  114091.706444  ...   \n",
       "9  144140.162485  144530.677149  145361.258724  146289.164055  ...   \n",
       "\n",
       "      2024-04-30     2024-05-31     2024-06-30     2024-07-31     2024-08-31  \\\n",
       "0  350165.829700  351570.606154  352120.860853  352265.907749  352504.359843   \n",
       "1  647851.001125  652477.077381  655536.133683  658263.386724  661979.750511   \n",
       "2  911031.498845  916863.716873  920777.178084  925109.643477  930243.585193   \n",
       "3  311972.006665  314053.134292  315253.946820  315976.493240  316881.631507   \n",
       "4  372240.198836  372383.086130  371723.001722  370790.474579  370143.446717   \n",
       "5  306473.992737  307007.423050  306889.410405  306526.817839  306309.415498   \n",
       "6  552721.857140  556137.862993  557812.715078  558372.233424  558888.746681   \n",
       "7  351338.151595  353349.554670  354253.803794  354628.799425  355338.487809   \n",
       "8  483613.706399  485293.909777  485856.483975  486046.366497  486066.100977   \n",
       "9  378405.987076  379537.157308  379757.932962  379556.802096  379415.220758   \n",
       "\n",
       "      2024-09-30     2024-10-31     2024-11-30     2024-12-31     2025-01-31  \n",
       "0  352945.853239  353522.496915  354005.575460  354711.020713  355327.955070  \n",
       "1  665977.942675  669477.234967  672228.240789  673999.838327  675063.976036  \n",
       "2  936603.517696  941773.674116  946228.303841  950210.062120  950740.494586  \n",
       "3  317866.656523  318826.563429  319846.118364  321070.725716  322389.516129  \n",
       "4  369946.958796  369841.800601  369555.460608  369035.088390  368515.900537  \n",
       "5  306247.064677  306049.283507  305716.951301  305539.457811  305480.078502  \n",
       "6  560312.151900  562382.785308  564682.658703  566740.444275  568309.985098  \n",
       "7  356485.560449  357792.318603  358883.850814  360070.209998  361160.597202  \n",
       "8  486121.700032  485681.106405  484724.135102  483888.809901  483279.946692  \n",
       "9  379245.236752  378790.752521  377971.717713  377127.804830  376332.631550  \n",
       "\n",
       "[10 rows x 306 columns]"
      ]
     },
     "execution_count": 50,
     "metadata": {},
     "output_type": "execute_result"
    }
   ],
   "source": [
    "# Read data into dataframes \n",
    "\n",
    "home_value = pd.read_csv('homevalue.csv')\n",
    "median_income = pd.read_excel('median_income.xlsx', sheet_name='Sheet1')\n",
    "\n",
    "home_value.head(10)"
   ]
  },
  {
   "cell_type": "code",
   "execution_count": 51,
   "id": "35daaca4-e884-4066-ae8e-8d573f92b75d",
   "metadata": {},
   "outputs": [],
   "source": [
    "threshold = 0.4\n",
    "home_value = home_value.loc[home_value.isnull().mean(axis=1) < threshold]\n",
    "\n",
    "# Interpolate across columns (i.e., across time for each region)\n",
    "home_value.iloc[:, 5:] = home_value.iloc[:, 5:].interpolate(axis=1)\n",
    "\n",
    "# Optionally fill any remaining edge NaNs with forward/backward fill\n",
    "home_value.iloc[:, 5:] = home_value.iloc[:, 5:].bfill(axis=1).ffill(axis=1)"
   ]
  },
  {
   "cell_type": "code",
   "execution_count": 61,
   "id": "a814dc8f-5e46-4449-b677-c7e1ba461073",
   "metadata": {},
   "outputs": [
    {
     "data": {
      "application/vnd.plotly.v1+json": {
       "config": {
        "plotlyServerURL": "https://plot.ly"
       },
       "data": [
        {
         "alignmentgroup": "True",
         "hovertemplate": "Region=%{x}<br>Average Housing Price ($)=%{y}<extra></extra>",
         "legendgroup": "",
         "marker": {
          "color": "#636efa",
          "pattern": {
           "shape": ""
          }
         },
         "name": "",
         "offsetgroup": "",
         "orientation": "v",
         "showlegend": false,
         "textposition": "auto",
         "type": "bar",
         "x": [
          "Midwest",
          "Northeast",
          "South",
          "West"
         ],
         "xaxis": "x",
         "y": [
          134765.48307811606,
          181658.41278724212,
          142605.9461809782,
          286075.022476846
         ],
         "yaxis": "y"
        }
       ],
       "layout": {
        "barmode": "relative",
        "height": 700,
        "legend": {
         "title": {
          "text": "Region"
         },
         "tracegroupgap": 0
        },
        "template": {
         "data": {
          "bar": [
           {
            "error_x": {
             "color": "#2a3f5f"
            },
            "error_y": {
             "color": "#2a3f5f"
            },
            "marker": {
             "line": {
              "color": "#E5ECF6",
              "width": 0.5
             },
             "pattern": {
              "fillmode": "overlay",
              "size": 10,
              "solidity": 0.2
             }
            },
            "type": "bar"
           }
          ],
          "barpolar": [
           {
            "marker": {
             "line": {
              "color": "#E5ECF6",
              "width": 0.5
             },
             "pattern": {
              "fillmode": "overlay",
              "size": 10,
              "solidity": 0.2
             }
            },
            "type": "barpolar"
           }
          ],
          "carpet": [
           {
            "aaxis": {
             "endlinecolor": "#2a3f5f",
             "gridcolor": "white",
             "linecolor": "white",
             "minorgridcolor": "white",
             "startlinecolor": "#2a3f5f"
            },
            "baxis": {
             "endlinecolor": "#2a3f5f",
             "gridcolor": "white",
             "linecolor": "white",
             "minorgridcolor": "white",
             "startlinecolor": "#2a3f5f"
            },
            "type": "carpet"
           }
          ],
          "choropleth": [
           {
            "colorbar": {
             "outlinewidth": 0,
             "ticks": ""
            },
            "type": "choropleth"
           }
          ],
          "contour": [
           {
            "colorbar": {
             "outlinewidth": 0,
             "ticks": ""
            },
            "colorscale": [
             [
              0,
              "#0d0887"
             ],
             [
              0.1111111111111111,
              "#46039f"
             ],
             [
              0.2222222222222222,
              "#7201a8"
             ],
             [
              0.3333333333333333,
              "#9c179e"
             ],
             [
              0.4444444444444444,
              "#bd3786"
             ],
             [
              0.5555555555555556,
              "#d8576b"
             ],
             [
              0.6666666666666666,
              "#ed7953"
             ],
             [
              0.7777777777777778,
              "#fb9f3a"
             ],
             [
              0.8888888888888888,
              "#fdca26"
             ],
             [
              1,
              "#f0f921"
             ]
            ],
            "type": "contour"
           }
          ],
          "contourcarpet": [
           {
            "colorbar": {
             "outlinewidth": 0,
             "ticks": ""
            },
            "type": "contourcarpet"
           }
          ],
          "heatmap": [
           {
            "colorbar": {
             "outlinewidth": 0,
             "ticks": ""
            },
            "colorscale": [
             [
              0,
              "#0d0887"
             ],
             [
              0.1111111111111111,
              "#46039f"
             ],
             [
              0.2222222222222222,
              "#7201a8"
             ],
             [
              0.3333333333333333,
              "#9c179e"
             ],
             [
              0.4444444444444444,
              "#bd3786"
             ],
             [
              0.5555555555555556,
              "#d8576b"
             ],
             [
              0.6666666666666666,
              "#ed7953"
             ],
             [
              0.7777777777777778,
              "#fb9f3a"
             ],
             [
              0.8888888888888888,
              "#fdca26"
             ],
             [
              1,
              "#f0f921"
             ]
            ],
            "type": "heatmap"
           }
          ],
          "heatmapgl": [
           {
            "colorbar": {
             "outlinewidth": 0,
             "ticks": ""
            },
            "colorscale": [
             [
              0,
              "#0d0887"
             ],
             [
              0.1111111111111111,
              "#46039f"
             ],
             [
              0.2222222222222222,
              "#7201a8"
             ],
             [
              0.3333333333333333,
              "#9c179e"
             ],
             [
              0.4444444444444444,
              "#bd3786"
             ],
             [
              0.5555555555555556,
              "#d8576b"
             ],
             [
              0.6666666666666666,
              "#ed7953"
             ],
             [
              0.7777777777777778,
              "#fb9f3a"
             ],
             [
              0.8888888888888888,
              "#fdca26"
             ],
             [
              1,
              "#f0f921"
             ]
            ],
            "type": "heatmapgl"
           }
          ],
          "histogram": [
           {
            "marker": {
             "pattern": {
              "fillmode": "overlay",
              "size": 10,
              "solidity": 0.2
             }
            },
            "type": "histogram"
           }
          ],
          "histogram2d": [
           {
            "colorbar": {
             "outlinewidth": 0,
             "ticks": ""
            },
            "colorscale": [
             [
              0,
              "#0d0887"
             ],
             [
              0.1111111111111111,
              "#46039f"
             ],
             [
              0.2222222222222222,
              "#7201a8"
             ],
             [
              0.3333333333333333,
              "#9c179e"
             ],
             [
              0.4444444444444444,
              "#bd3786"
             ],
             [
              0.5555555555555556,
              "#d8576b"
             ],
             [
              0.6666666666666666,
              "#ed7953"
             ],
             [
              0.7777777777777778,
              "#fb9f3a"
             ],
             [
              0.8888888888888888,
              "#fdca26"
             ],
             [
              1,
              "#f0f921"
             ]
            ],
            "type": "histogram2d"
           }
          ],
          "histogram2dcontour": [
           {
            "colorbar": {
             "outlinewidth": 0,
             "ticks": ""
            },
            "colorscale": [
             [
              0,
              "#0d0887"
             ],
             [
              0.1111111111111111,
              "#46039f"
             ],
             [
              0.2222222222222222,
              "#7201a8"
             ],
             [
              0.3333333333333333,
              "#9c179e"
             ],
             [
              0.4444444444444444,
              "#bd3786"
             ],
             [
              0.5555555555555556,
              "#d8576b"
             ],
             [
              0.6666666666666666,
              "#ed7953"
             ],
             [
              0.7777777777777778,
              "#fb9f3a"
             ],
             [
              0.8888888888888888,
              "#fdca26"
             ],
             [
              1,
              "#f0f921"
             ]
            ],
            "type": "histogram2dcontour"
           }
          ],
          "mesh3d": [
           {
            "colorbar": {
             "outlinewidth": 0,
             "ticks": ""
            },
            "type": "mesh3d"
           }
          ],
          "parcoords": [
           {
            "line": {
             "colorbar": {
              "outlinewidth": 0,
              "ticks": ""
             }
            },
            "type": "parcoords"
           }
          ],
          "pie": [
           {
            "automargin": true,
            "type": "pie"
           }
          ],
          "scatter": [
           {
            "fillpattern": {
             "fillmode": "overlay",
             "size": 10,
             "solidity": 0.2
            },
            "type": "scatter"
           }
          ],
          "scatter3d": [
           {
            "line": {
             "colorbar": {
              "outlinewidth": 0,
              "ticks": ""
             }
            },
            "marker": {
             "colorbar": {
              "outlinewidth": 0,
              "ticks": ""
             }
            },
            "type": "scatter3d"
           }
          ],
          "scattercarpet": [
           {
            "marker": {
             "colorbar": {
              "outlinewidth": 0,
              "ticks": ""
             }
            },
            "type": "scattercarpet"
           }
          ],
          "scattergeo": [
           {
            "marker": {
             "colorbar": {
              "outlinewidth": 0,
              "ticks": ""
             }
            },
            "type": "scattergeo"
           }
          ],
          "scattergl": [
           {
            "marker": {
             "colorbar": {
              "outlinewidth": 0,
              "ticks": ""
             }
            },
            "type": "scattergl"
           }
          ],
          "scattermapbox": [
           {
            "marker": {
             "colorbar": {
              "outlinewidth": 0,
              "ticks": ""
             }
            },
            "type": "scattermapbox"
           }
          ],
          "scatterpolar": [
           {
            "marker": {
             "colorbar": {
              "outlinewidth": 0,
              "ticks": ""
             }
            },
            "type": "scatterpolar"
           }
          ],
          "scatterpolargl": [
           {
            "marker": {
             "colorbar": {
              "outlinewidth": 0,
              "ticks": ""
             }
            },
            "type": "scatterpolargl"
           }
          ],
          "scatterternary": [
           {
            "marker": {
             "colorbar": {
              "outlinewidth": 0,
              "ticks": ""
             }
            },
            "type": "scatterternary"
           }
          ],
          "surface": [
           {
            "colorbar": {
             "outlinewidth": 0,
             "ticks": ""
            },
            "colorscale": [
             [
              0,
              "#0d0887"
             ],
             [
              0.1111111111111111,
              "#46039f"
             ],
             [
              0.2222222222222222,
              "#7201a8"
             ],
             [
              0.3333333333333333,
              "#9c179e"
             ],
             [
              0.4444444444444444,
              "#bd3786"
             ],
             [
              0.5555555555555556,
              "#d8576b"
             ],
             [
              0.6666666666666666,
              "#ed7953"
             ],
             [
              0.7777777777777778,
              "#fb9f3a"
             ],
             [
              0.8888888888888888,
              "#fdca26"
             ],
             [
              1,
              "#f0f921"
             ]
            ],
            "type": "surface"
           }
          ],
          "table": [
           {
            "cells": {
             "fill": {
              "color": "#EBF0F8"
             },
             "line": {
              "color": "white"
             }
            },
            "header": {
             "fill": {
              "color": "#C8D4E3"
             },
             "line": {
              "color": "white"
             }
            },
            "type": "table"
           }
          ]
         },
         "layout": {
          "annotationdefaults": {
           "arrowcolor": "#2a3f5f",
           "arrowhead": 0,
           "arrowwidth": 1
          },
          "autotypenumbers": "strict",
          "coloraxis": {
           "colorbar": {
            "outlinewidth": 0,
            "ticks": ""
           }
          },
          "colorscale": {
           "diverging": [
            [
             0,
             "#8e0152"
            ],
            [
             0.1,
             "#c51b7d"
            ],
            [
             0.2,
             "#de77ae"
            ],
            [
             0.3,
             "#f1b6da"
            ],
            [
             0.4,
             "#fde0ef"
            ],
            [
             0.5,
             "#f7f7f7"
            ],
            [
             0.6,
             "#e6f5d0"
            ],
            [
             0.7,
             "#b8e186"
            ],
            [
             0.8,
             "#7fbc41"
            ],
            [
             0.9,
             "#4d9221"
            ],
            [
             1,
             "#276419"
            ]
           ],
           "sequential": [
            [
             0,
             "#0d0887"
            ],
            [
             0.1111111111111111,
             "#46039f"
            ],
            [
             0.2222222222222222,
             "#7201a8"
            ],
            [
             0.3333333333333333,
             "#9c179e"
            ],
            [
             0.4444444444444444,
             "#bd3786"
            ],
            [
             0.5555555555555556,
             "#d8576b"
            ],
            [
             0.6666666666666666,
             "#ed7953"
            ],
            [
             0.7777777777777778,
             "#fb9f3a"
            ],
            [
             0.8888888888888888,
             "#fdca26"
            ],
            [
             1,
             "#f0f921"
            ]
           ],
           "sequentialminus": [
            [
             0,
             "#0d0887"
            ],
            [
             0.1111111111111111,
             "#46039f"
            ],
            [
             0.2222222222222222,
             "#7201a8"
            ],
            [
             0.3333333333333333,
             "#9c179e"
            ],
            [
             0.4444444444444444,
             "#bd3786"
            ],
            [
             0.5555555555555556,
             "#d8576b"
            ],
            [
             0.6666666666666666,
             "#ed7953"
            ],
            [
             0.7777777777777778,
             "#fb9f3a"
            ],
            [
             0.8888888888888888,
             "#fdca26"
            ],
            [
             1,
             "#f0f921"
            ]
           ]
          },
          "colorway": [
           "#636efa",
           "#EF553B",
           "#00cc96",
           "#ab63fa",
           "#FFA15A",
           "#19d3f3",
           "#FF6692",
           "#B6E880",
           "#FF97FF",
           "#FECB52"
          ],
          "font": {
           "color": "#2a3f5f"
          },
          "geo": {
           "bgcolor": "white",
           "lakecolor": "white",
           "landcolor": "#E5ECF6",
           "showlakes": true,
           "showland": true,
           "subunitcolor": "white"
          },
          "hoverlabel": {
           "align": "left"
          },
          "hovermode": "closest",
          "mapbox": {
           "style": "light"
          },
          "paper_bgcolor": "white",
          "plot_bgcolor": "#E5ECF6",
          "polar": {
           "angularaxis": {
            "gridcolor": "white",
            "linecolor": "white",
            "ticks": ""
           },
           "bgcolor": "#E5ECF6",
           "radialaxis": {
            "gridcolor": "white",
            "linecolor": "white",
            "ticks": ""
           }
          },
          "scene": {
           "xaxis": {
            "backgroundcolor": "#E5ECF6",
            "gridcolor": "white",
            "gridwidth": 2,
            "linecolor": "white",
            "showbackground": true,
            "ticks": "",
            "zerolinecolor": "white"
           },
           "yaxis": {
            "backgroundcolor": "#E5ECF6",
            "gridcolor": "white",
            "gridwidth": 2,
            "linecolor": "white",
            "showbackground": true,
            "ticks": "",
            "zerolinecolor": "white"
           },
           "zaxis": {
            "backgroundcolor": "#E5ECF6",
            "gridcolor": "white",
            "gridwidth": 2,
            "linecolor": "white",
            "showbackground": true,
            "ticks": "",
            "zerolinecolor": "white"
           }
          },
          "shapedefaults": {
           "line": {
            "color": "#2a3f5f"
           }
          },
          "ternary": {
           "aaxis": {
            "gridcolor": "white",
            "linecolor": "white",
            "ticks": ""
           },
           "baxis": {
            "gridcolor": "white",
            "linecolor": "white",
            "ticks": ""
           },
           "bgcolor": "#E5ECF6",
           "caxis": {
            "gridcolor": "white",
            "linecolor": "white",
            "ticks": ""
           }
          },
          "title": {
           "x": 0.05
          },
          "xaxis": {
           "automargin": true,
           "gridcolor": "white",
           "linecolor": "white",
           "ticks": "",
           "title": {
            "standoff": 15
           },
           "zerolinecolor": "white",
           "zerolinewidth": 2
          },
          "yaxis": {
           "automargin": true,
           "gridcolor": "white",
           "linecolor": "white",
           "ticks": "",
           "title": {
            "standoff": 15
           },
           "zerolinecolor": "white",
           "zerolinewidth": 2
          }
         }
        },
        "title": {
         "text": "Average Housing Prices by Region",
         "x": 0.5
        },
        "width": 1400,
        "xaxis": {
         "anchor": "y",
         "domain": [
          0,
          1
         ],
         "title": {
          "text": "Region"
         }
        },
        "yaxis": {
         "anchor": "x",
         "domain": [
          0,
          1
         ],
         "title": {
          "text": "Average Housing Price ($)"
         }
        }
       }
      },
      "image/png": "[encoded data removed]",
      "text/html": [
       "<div>                            <div id=\"07a28257-e4e4-4b8c-b1ae-1cc47aa13a60\" class=\"plotly-graph-div\" style=\"height:700px; width:1400px;\"></div>            <script type=\"text/javascript\">                require([\"plotly\"], function(Plotly) {                    window.PLOTLYENV=window.PLOTLYENV || {};                                    if (document.getElementById(\"07a28257-e4e4-4b8c-b1ae-1cc47aa13a60\")) {                    Plotly.newPlot(                        \"07a28257-e4e4-4b8c-b1ae-1cc47aa13a60\",                        [{\"alignmentgroup\":\"True\",\"hovertemplate\":\"Region=%{x}\\u003cbr\\u003eAverage Housing Price ($)=%{y}\\u003cextra\\u003e\\u003c\\u002fextra\\u003e\",\"legendgroup\":\"\",\"marker\":{\"color\":\"#636efa\",\"pattern\":{\"shape\":\"\"}},\"name\":\"\",\"offsetgroup\":\"\",\"orientation\":\"v\",\"showlegend\":false,\"textposition\":\"auto\",\"x\":[\"Midwest\",\"Northeast\",\"South\",\"West\"],\"xaxis\":\"x\",\"y\":[134765.48307811606,181658.41278724212,142605.9461809782,286075.022476846],\"yaxis\":\"y\",\"type\":\"bar\"}],                        {\"template\":{\"data\":{\"histogram2dcontour\":[{\"type\":\"histogram2dcontour\",\"colorbar\":{\"outlinewidth\":0,\"ticks\":\"\"},\"colorscale\":[[0.0,\"#0d0887\"],[0.1111111111111111,\"#46039f\"],[0.2222222222222222,\"#7201a8\"],[0.3333333333333333,\"#9c179e\"],[0.4444444444444444,\"#bd3786\"],[0.5555555555555556,\"#d8576b\"],[0.6666666666666666,\"#ed7953\"],[0.7777777777777778,\"#fb9f3a\"],[0.8888888888888888,\"#fdca26\"],[1.0,\"#f0f921\"]]}],\"choropleth\":[{\"type\":\"choropleth\",\"colorbar\":{\"outlinewidth\":0,\"ticks\":\"\"}}],\"histogram2d\":[{\"type\":\"histogram2d\",\"colorbar\":{\"outlinewidth\":0,\"ticks\":\"\"},\"colorscale\":[[0.0,\"#0d0887\"],[0.1111111111111111,\"#46039f\"],[0.2222222222222222,\"#7201a8\"],[0.3333333333333333,\"#9c179e\"],[0.4444444444444444,\"#bd3786\"],[0.5555555555555556,\"#d8576b\"],[0.6666666666666666,\"#ed7953\"],[0.7777777777777778,\"#fb9f3a\"],[0.8888888888888888,\"#fdca26\"],[1.0,\"#f0f921\"]]}],\"heatmap\":[{\"type\":\"heatmap\",\"colorbar\":{\"outlinewidth\":0,\"ticks\":\"\"},\"colorscale\":[[0.0,\"#0d0887\"],[0.1111111111111111,\"#46039f\"],[0.2222222222222222,\"#7201a8\"],[0.3333333333333333,\"#9c179e\"],[0.4444444444444444,\"#bd3786\"],[0.5555555555555556,\"#d8576b\"],[0.6666666666666666,\"#ed7953\"],[0.7777777777777778,\"#fb9f3a\"],[0.8888888888888888,\"#fdca26\"],[1.0,\"#f0f921\"]]}],\"heatmapgl\":[{\"type\":\"heatmapgl\",\"colorbar\":{\"outlinewidth\":0,\"ticks\":\"\"},\"colorscale\":[[0.0,\"#0d0887\"],[0.1111111111111111,\"#46039f\"],[0.2222222222222222,\"#7201a8\"],[0.3333333333333333,\"#9c179e\"],[0.4444444444444444,\"#bd3786\"],[0.5555555555555556,\"#d8576b\"],[0.6666666666666666,\"#ed7953\"],[0.7777777777777778,\"#fb9f3a\"],[0.8888888888888888,\"#fdca26\"],[1.0,\"#f0f921\"]]}],\"contourcarpet\":[{\"type\":\"contourcarpet\",\"colorbar\":{\"outlinewidth\":0,\"ticks\":\"\"}}],\"contour\":[{\"type\":\"contour\",\"colorbar\":{\"outlinewidth\":0,\"ticks\":\"\"},\"colorscale\":[[0.0,\"#0d0887\"],[0.1111111111111111,\"#46039f\"],[0.2222222222222222,\"#7201a8\"],[0.3333333333333333,\"#9c179e\"],[0.4444444444444444,\"#bd3786\"],[0.5555555555555556,\"#d8576b\"],[0.6666666666666666,\"#ed7953\"],[0.7777777777777778,\"#fb9f3a\"],[0.8888888888888888,\"#fdca26\"],[1.0,\"#f0f921\"]]}],\"surface\":[{\"type\":\"surface\",\"colorbar\":{\"outlinewidth\":0,\"ticks\":\"\"},\"colorscale\":[[0.0,\"#0d0887\"],[0.1111111111111111,\"#46039f\"],[0.2222222222222222,\"#7201a8\"],[0.3333333333333333,\"#9c179e\"],[0.4444444444444444,\"#bd3786\"],[0.5555555555555556,\"#d8576b\"],[0.6666666666666666,\"#ed7953\"],[0.7777777777777778,\"#fb9f3a\"],[0.8888888888888888,\"#fdca26\"],[1.0,\"#f0f921\"]]}],\"mesh3d\":[{\"type\":\"mesh3d\",\"colorbar\":{\"outlinewidth\":0,\"ticks\":\"\"}}],\"scatter\":[{\"fillpattern\":{\"fillmode\":\"overlay\",\"size\":10,\"solidity\":0.2},\"type\":\"scatter\"}],\"parcoords\":[{\"type\":\"parcoords\",\"line\":{\"colorbar\":{\"outlinewidth\":0,\"ticks\":\"\"}}}],\"scatterpolargl\":[{\"type\":\"scatterpolargl\",\"marker\":{\"colorbar\":{\"outlinewidth\":0,\"ticks\":\"\"}}}],\"bar\":[{\"error_x\":{\"color\":\"#2a3f5f\"},\"error_y\":{\"color\":\"#2a3f5f\"},\"marker\":{\"line\":{\"color\":\"#E5ECF6\",\"width\":0.5},\"pattern\":{\"fillmode\":\"overlay\",\"size\":10,\"solidity\":0.2}},\"type\":\"bar\"}],\"scattergeo\":[{\"type\":\"scattergeo\",\"marker\":{\"colorbar\":{\"outlinewidth\":0,\"ticks\":\"\"}}}],\"scatterpolar\":[{\"type\":\"scatterpolar\",\"marker\":{\"colorbar\":{\"outlinewidth\":0,\"ticks\":\"\"}}}],\"histogram\":[{\"marker\":{\"pattern\":{\"fillmode\":\"overlay\",\"size\":10,\"solidity\":0.2}},\"type\":\"histogram\"}],\"scattergl\":[{\"type\":\"scattergl\",\"marker\":{\"colorbar\":{\"outlinewidth\":0,\"ticks\":\"\"}}}],\"scatter3d\":[{\"type\":\"scatter3d\",\"line\":{\"colorbar\":{\"outlinewidth\":0,\"ticks\":\"\"}},\"marker\":{\"colorbar\":{\"outlinewidth\":0,\"ticks\":\"\"}}}],\"scattermapbox\":[{\"type\":\"scattermapbox\",\"marker\":{\"colorbar\":{\"outlinewidth\":0,\"ticks\":\"\"}}}],\"scatterternary\":[{\"type\":\"scatterternary\",\"marker\":{\"colorbar\":{\"outlinewidth\":0,\"ticks\":\"\"}}}],\"scattercarpet\":[{\"type\":\"scattercarpet\",\"marker\":{\"colorbar\":{\"outlinewidth\":0,\"ticks\":\"\"}}}],\"carpet\":[{\"aaxis\":{\"endlinecolor\":\"#2a3f5f\",\"gridcolor\":\"white\",\"linecolor\":\"white\",\"minorgridcolor\":\"white\",\"startlinecolor\":\"#2a3f5f\"},\"baxis\":{\"endlinecolor\":\"#2a3f5f\",\"gridcolor\":\"white\",\"linecolor\":\"white\",\"minorgridcolor\":\"white\",\"startlinecolor\":\"#2a3f5f\"},\"type\":\"carpet\"}],\"table\":[{\"cells\":{\"fill\":{\"color\":\"#EBF0F8\"},\"line\":{\"color\":\"white\"}},\"header\":{\"fill\":{\"color\":\"#C8D4E3\"},\"line\":{\"color\":\"white\"}},\"type\":\"table\"}],\"barpolar\":[{\"marker\":{\"line\":{\"color\":\"#E5ECF6\",\"width\":0.5},\"pattern\":{\"fillmode\":\"overlay\",\"size\":10,\"solidity\":0.2}},\"type\":\"barpolar\"}],\"pie\":[{\"automargin\":true,\"type\":\"pie\"}]},\"layout\":{\"autotypenumbers\":\"strict\",\"colorway\":[\"#636efa\",\"#EF553B\",\"#00cc96\",\"#ab63fa\",\"#FFA15A\",\"#19d3f3\",\"#FF6692\",\"#B6E880\",\"#FF97FF\",\"#FECB52\"],\"font\":{\"color\":\"#2a3f5f\"},\"hovermode\":\"closest\",\"hoverlabel\":{\"align\":\"left\"},\"paper_bgcolor\":\"white\",\"plot_bgcolor\":\"#E5ECF6\",\"polar\":{\"bgcolor\":\"#E5ECF6\",\"angularaxis\":{\"gridcolor\":\"white\",\"linecolor\":\"white\",\"ticks\":\"\"},\"radialaxis\":{\"gridcolor\":\"white\",\"linecolor\":\"white\",\"ticks\":\"\"}},\"ternary\":{\"bgcolor\":\"#E5ECF6\",\"aaxis\":{\"gridcolor\":\"white\",\"linecolor\":\"white\",\"ticks\":\"\"},\"baxis\":{\"gridcolor\":\"white\",\"linecolor\":\"white\",\"ticks\":\"\"},\"caxis\":{\"gridcolor\":\"white\",\"linecolor\":\"white\",\"ticks\":\"\"}},\"coloraxis\":{\"colorbar\":{\"outlinewidth\":0,\"ticks\":\"\"}},\"colorscale\":{\"sequential\":[[0.0,\"#0d0887\"],[0.1111111111111111,\"#46039f\"],[0.2222222222222222,\"#7201a8\"],[0.3333333333333333,\"#9c179e\"],[0.4444444444444444,\"#bd3786\"],[0.5555555555555556,\"#d8576b\"],[0.6666666666666666,\"#ed7953\"],[0.7777777777777778,\"#fb9f3a\"],[0.8888888888888888,\"#fdca26\"],[1.0,\"#f0f921\"]],\"sequentialminus\":[[0.0,\"#0d0887\"],[0.1111111111111111,\"#46039f\"],[0.2222222222222222,\"#7201a8\"],[0.3333333333333333,\"#9c179e\"],[0.4444444444444444,\"#bd3786\"],[0.5555555555555556,\"#d8576b\"],[0.6666666666666666,\"#ed7953\"],[0.7777777777777778,\"#fb9f3a\"],[0.8888888888888888,\"#fdca26\"],[1.0,\"#f0f921\"]],\"diverging\":[[0,\"#8e0152\"],[0.1,\"#c51b7d\"],[0.2,\"#de77ae\"],[0.3,\"#f1b6da\"],[0.4,\"#fde0ef\"],[0.5,\"#f7f7f7\"],[0.6,\"#e6f5d0\"],[0.7,\"#b8e186\"],[0.8,\"#7fbc41\"],[0.9,\"#4d9221\"],[1,\"#276419\"]]},\"xaxis\":{\"gridcolor\":\"white\",\"linecolor\":\"white\",\"ticks\":\"\",\"title\":{\"standoff\":15},\"zerolinecolor\":\"white\",\"automargin\":true,\"zerolinewidth\":2},\"yaxis\":{\"gridcolor\":\"white\",\"linecolor\":\"white\",\"ticks\":\"\",\"title\":{\"standoff\":15},\"zerolinecolor\":\"white\",\"automargin\":true,\"zerolinewidth\":2},\"scene\":{\"xaxis\":{\"backgroundcolor\":\"#E5ECF6\",\"gridcolor\":\"white\",\"linecolor\":\"white\",\"showbackground\":true,\"ticks\":\"\",\"zerolinecolor\":\"white\",\"gridwidth\":2},\"yaxis\":{\"backgroundcolor\":\"#E5ECF6\",\"gridcolor\":\"white\",\"linecolor\":\"white\",\"showbackground\":true,\"ticks\":\"\",\"zerolinecolor\":\"white\",\"gridwidth\":2},\"zaxis\":{\"backgroundcolor\":\"#E5ECF6\",\"gridcolor\":\"white\",\"linecolor\":\"white\",\"showbackground\":true,\"ticks\":\"\",\"zerolinecolor\":\"white\",\"gridwidth\":2}},\"shapedefaults\":{\"line\":{\"color\":\"#2a3f5f\"}},\"annotationdefaults\":{\"arrowcolor\":\"#2a3f5f\",\"arrowhead\":0,\"arrowwidth\":1},\"geo\":{\"bgcolor\":\"white\",\"landcolor\":\"#E5ECF6\",\"subunitcolor\":\"white\",\"showland\":true,\"showlakes\":true,\"lakecolor\":\"white\"},\"title\":{\"x\":0.05},\"mapbox\":{\"style\":\"light\"}}},\"xaxis\":{\"anchor\":\"y\",\"domain\":[0.0,1.0],\"title\":{\"text\":\"Region\"}},\"yaxis\":{\"anchor\":\"x\",\"domain\":[0.0,1.0],\"title\":{\"text\":\"Average Housing Price ($)\"}},\"legend\":{\"tracegroupgap\":0,\"title\":{\"text\":\"Region\"}},\"title\":{\"text\":\"Average Housing Prices by Region\",\"x\":0.5},\"barmode\":\"relative\",\"height\":700,\"width\":1400},                        {\"responsive\": true}                    ).then(function(){\n",
       "                            \n",
       "var gd = document.getElementById('07a28257-e4e4-4b8c-b1ae-1cc47aa13a60');\n",
       "var x = new MutationObserver(function (mutations, observer) {{\n",
       "        var display = window.getComputedStyle(gd).display;\n",
       "        if (!display || display === 'none') {{\n",
       "            console.log([gd, 'removed!']);\n",
       "            Plotly.purge(gd);\n",
       "            observer.disconnect();\n",
       "        }}\n",
       "}});\n",
       "\n",
       "// Listen for the removal of the full notebook cells\n",
       "var notebookContainer = gd.closest('#notebook-container');\n",
       "if (notebookContainer) {{\n",
       "    x.observe(notebookContainer, {childList: true});\n",
       "}}\n",
       "\n",
       "// Listen for the clearing of the current output cell\n",
       "var outputEl = gd.closest('.output');\n",
       "if (outputEl) {{\n",
       "    x.observe(outputEl, {childList: true});\n",
       "}}\n",
       "\n",
       "                        })                };                });            </script>        </div>"
      ]
     },
     "metadata": {},
     "output_type": "display_data"
    }
   ],
   "source": [
    "import plotly.express as px\n",
    "import plotly.graph_objects as go\n",
    "\n",
    "# Assuming hv is the home_value DataFrame\n",
    "hv = home_value.copy()\n",
    "\n",
    "region_mapping = {\n",
    "    # list of states given, paired with their region\n",
    "    'ME': 'Northeast', 'NH': 'Northeast', 'VT': 'Northeast', 'MA': 'Northeast', \n",
    "    'RI': 'Northeast', 'CT': 'Northeast', 'NY': 'Northeast', 'NJ': 'Northeast', 'PA': 'Northeast',\n",
    "    \n",
    "    'ND': 'Midwest', 'SD': 'Midwest', 'NE': 'Midwest', 'KS': 'Midwest', 'MN': 'Midwest', 'IA': 'Midwest',\n",
    "    'MO': 'Midwest', 'WI': 'Midwest', 'IL': 'Midwest', 'IN': 'Midwest', 'OH': 'Midwest', 'MI': 'Midwest',\n",
    "    \n",
    "    'DE': 'South', 'MD': 'South', 'DC': 'South', 'VA': 'South', 'WV': 'South', 'NC': 'South', 'SC': 'South', \n",
    "    'GA': 'South', 'FL': 'South', 'KY': 'South', 'TN': 'South', 'AL': 'South', 'MS': 'South', 'AR': 'South', \n",
    "    'LA': 'South', 'OK': 'South', 'TX': 'South',\n",
    "    \n",
    "    'MT': 'West', 'ID': 'West', 'WY': 'West', 'CO': 'West', 'NM': 'West', 'AZ': 'West', 'UT': 'West', \n",
    "    'NV': 'West', 'WA': 'West', 'OR': 'West', 'CA': 'West', 'AK': 'West', 'HI': 'West'\n",
    "}\n",
    "\n",
    "\n",
    "# Add region column based on the state abbreviation\n",
    "hv['RegionName'] = hv['StateName'].map(region_mapping)\n",
    "\n",
    "# Grab Columns\n",
    "categorical_columns = hv.columns[:5]\n",
    "dates = hv.columns[5:]\n",
    "\n",
    "# Convert to date time and melt the DataFrame\n",
    "df_melted = hv.melt(id_vars=categorical_columns, value_vars=dates, var_name='Date', value_name='Value')\n",
    "df_melted['Date'] = pd.to_datetime(df_melted['Date'])\n",
    "df_melted = df_melted.dropna(subset=['Value'])\n",
    "\n",
    "# Sort the DataFrame\n",
    "df_sorted = df_melted.sort_values(by=[\"StateName\", \"Date\"])\n",
    "\n",
    "df_region = df_sorted.groupby(\"StateName\")['Value'].mean().reset_index()\n",
    "\n",
    "# Create the Plotly scatter plot\n",
    "fig = px.bar(df_sorted, x=\"Date\", y=\"Value\", color=\"StateName\", \n",
    "              title=\"Housing Prices Over The Years based by US State\",\n",
    "              labels={\"Date\": \"Year (2000-2024)\", \"Value\": \"Log of House Value ($)\", \"StateName\": \"State Abbreviation\"},\n",
    "              width=1400, height=700, hover_data=[\"StateName\"])\n",
    "\n",
    "# Update layout for better spacing\n",
    "fig.update_layout(\n",
    "    legend_title=\"State Abbreviation\",\n",
    "    legend=dict(title=\"State Abbreviation\", orientation=\"h\", yanchor=\"bottom\", y=-0.3, xanchor=\"right\", x=1),\n",
    "    xaxis_title=\"Year (2000-2024)\",\n",
    "    yaxis_title=\"House Value ($)\",\n",
    "    title_x=0.5  # Center the title\n",
    ")\n",
    "\n",
    "fig.update_traces(marker=dict(size=3))\n",
    "\n",
    "def create_visibility(region):\n",
    "    # Boolean indexing to filter the data based on the selected region\n",
    "    return [True if hv['RegionName'].iloc[i] == region else False for i in range(len(hv))]\n",
    "\n",
    "fig.update_layout(\n",
    "    updatemenus=[\n",
    "        {\n",
    "            'buttons': [\n",
    "                {\n",
    "                    'label': 'All',\n",
    "                    'method': 'update',\n",
    "                    'args': [{'visible': [True] * len(fig.data)},{'xaxis': {'title': 'All Regions'}, 'yaxis': {'title': 'Average Housing Price per Region'}}]\n",
    "                },{\n",
    "                    'label': 'Northeast',\n",
    "                    'method': 'update',\n",
    "                    'args': [ {'visible': create_visibility('Northeast')\n",
    "                    },{'xaxis': {'title': 'Northeast'}, 'yaxis': {'title': 'Average Housing Price in the Northeast'}, \n",
    "                              'x': ['Northeast']}]\n",
    "                },{\n",
    "                    'label': 'West',\n",
    "                    'method': 'update',\n",
    "                    'args': [{'visible': create_visibility('West')}, {'xaxis': {'title': 'West'}, 'yaxis': {'title': 'Average Housing Price in the West'}, \n",
    "                              'x': ['West']}]\n",
    "                },{\n",
    "                    'label': 'Midwest',\n",
    "                    'method': 'update',\n",
    "                    'args': [{'visible': create_visibility('Midwest')},{'xaxis': {'title': 'Midwest'}, 'yaxis': {'title': 'Average Housing Price in the Midwest'}, \n",
    "                              'x': ['Midwest']}]\n",
    "                },{\n",
    "                    'label': 'South',\n",
    "                    'method': 'update',\n",
    "                    'args': [{'visible': create_visibility('South')},{'xaxis': {'title': 'South'}, 'yaxis': {'title': 'Average Housing Price in the South'}, \n",
    "                              'x': ['South']}]\n",
    "                }\n",
    "            ],\n",
    "            \n",
    "            'direction': 'down',\n",
    "            'showactive': True,\n",
    "            'active': 0,  # \"All\" is the default\n",
    "            'x': 0.17,\n",
    "            'xanchor': 'left',\n",
    "            'y': 1.15,\n",
    "            'yanchor': 'top',\n",
    "        }\n",
    "    ],\n",
    "    xaxis_title=\"Region\",\n",
    "    yaxis_title=\"Average Housing Price per Region\",\n",
    "    title_x=0.5  # Center the title\n",
    ")\n",
    "\n",
    "fig.show()"
   ]
  },
  {
   "cell_type": "code",
   "execution_count": 57,
   "id": "a625a87a-3e1e-47dc-add4-82535a115ae5",
   "metadata": {},
   "outputs": [
    {
     "data": {
      "application/vnd.plotly.v1+json": {
       "config": {
        "plotlyServerURL": "https://plot.ly"
       },
       "data": [
        {
         "customdata": [
          [
           "Midwest"
          ],
          [
           "Midwest"
          ],
          [
           "Midwest"
          ],
          [
           "Midwest"
          ],
          [
           "Midwest"
          ],
          [
           "Midwest"
          ],
          [
           "Midwest"
          ],
          [
           "Midwest"
          ],
          [
           "Midwest"
          ],
          [
           "Midwest"
          ],
          [
           "Midwest"
          ],
          [
           "Midwest"
          ],
          [
           "Midwest"
          ],
          [
           "Midwest"
          ],
          [
           "Midwest"
          ],
          [
           "Midwest"
          ],
          [
           "Midwest"
          ],
          [
           "Midwest"
          ],
          [
           "Midwest"
          ],
          [
           "Midwest"
          ],
          [
           "Midwest"
          ],
          [
           "Midwest"
          ],
          [
           "Midwest"
          ],
          [
           "Midwest"
          ],
          [
           "Midwest"
          ],
          [
           "Midwest"
          ],
          [
           "Midwest"
          ],
          [
           "Midwest"
          ],
          [
           "Midwest"
          ],
          [
           "Midwest"
          ],
          [
           "Midwest"
          ],
          [
           "Midwest"
          ],
          [
           "Midwest"
          ],
          [
           "Midwest"
          ],
          [
           "Midwest"
          ],
          [
           "Midwest"
          ],
          [
           "Midwest"
          ],
          [
           "Midwest"
          ],
          [
           "Midwest"
          ],
          [
           "Midwest"
          ],
          [
           "Midwest"
          ],
          [
           "Midwest"
          ],
          [
           "Midwest"
          ],
          [
           "Midwest"
          ],
          [
           "Midwest"
          ],
          [
           "Midwest"
          ],
          [
           "Midwest"
          ],
          [
           "Midwest"
          ],
          [
           "Midwest"
          ],
          [
           "Midwest"
          ],
          [
           "Midwest"
          ],
          [
           "Midwest"
          ],
          [
           "Midwest"
          ],
          [
           "Midwest"
          ],
          [
           "Midwest"
          ],
          [
           "Midwest"
          ],
          [
           "Midwest"
          ],
          [
           "Midwest"
          ],
          [
           "Midwest"
          ],
          [
           "Midwest"
          ],
          [
           "Midwest"
          ],
          [
           "Midwest"
          ],
          [
           "Midwest"
          ],
          [
           "Midwest"
          ],
          [
           "Midwest"
          ],
          [
           "Midwest"
          ],
          [
           "Midwest"
          ],
          [
           "Midwest"
          ],
          [
           "Midwest"
          ],
          [
           "Midwest"
          ],
          [
           "Midwest"
          ],
          [
           "Midwest"
          ],
          [
           "Midwest"
          ],
          [
           "Midwest"
          ],
          [
           "Midwest"
          ],
          [
           "Midwest"
          ],
          [
           "Midwest"
          ],
          [
           "Midwest"
          ],
          [
           "Midwest"
          ],
          [
           "Midwest"
          ],
          [
           "Midwest"
          ],
          [
           "Midwest"
          ],
          [
           "Midwest"
          ],
          [
           "Midwest"
          ],
          [
           "Midwest"
          ],
          [
           "Midwest"
          ],
          [
           "Midwest"
          ],
          [
           "Midwest"
          ],
          [
           "Midwest"
          ],
          [
           "Midwest"
          ],
          [
           "Midwest"
          ],
          [
           "Midwest"
          ],
          [
           "Midwest"
          ],
          [
           "Midwest"
          ],
          [
           "Midwest"
          ],
          [
           "Midwest"
          ],
          [
           "Midwest"
          ],
          [
           "Midwest"
          ],
          [
           "Midwest"
          ],
          [
           "Midwest"
          ],
          [
           "Midwest"
          ],
          [
           "Midwest"
          ],
          [
           "Midwest"
          ],
          [
           "Midwest"
          ],
          [
           "Midwest"
          ],
          [
           "Midwest"
          ],
          [
           "Midwest"
          ],
          [
           "Midwest"
          ],
          [
           "Midwest"
          ],
          [
           "Midwest"
          ],
          [
           "Midwest"
          ],
          [
           "Midwest"
          ],
          [
           "Midwest"
          ],
          [
           "Midwest"
          ],
          [
           "Midwest"
          ],
          [
           "Midwest"
          ],
          [
           "Midwest"
          ],
          [
           "Midwest"
          ],
          [
           "Midwest"
          ],
          [
           "Midwest"
          ],
          [
           "Midwest"
          ],
          [
           "Midwest"
          ],
          [
           "Midwest"
          ],
          [
           "Midwest"
          ],
          [
           "Midwest"
          ],
          [
           "Midwest"
          ],
          [
           "Midwest"
          ],
          [
           "Midwest"
          ],
          [
           "Midwest"
          ],
          [
           "Midwest"
          ],
          [
           "Midwest"
          ],
          [
           "Midwest"
          ],
          [
           "Midwest"
          ],
          [
           "Midwest"
          ],
          [
           "Midwest"
          ],
          [
           "Midwest"
          ],
          [
           "Midwest"
          ],
          [
           "Midwest"
          ],
          [
           "Midwest"
          ],
          [
           "Midwest"
          ],
          [
           "Midwest"
          ],
          [
           "Midwest"
          ],
          [
           "Midwest"
          ],
          [
           "Midwest"
          ],
          [
           "Midwest"
          ],
          [
           "Midwest"
          ],
          [
           "Midwest"
          ],
          [
           "Midwest"
          ],
          [
           "Midwest"
          ],
          [
           "Midwest"
          ],
          [
           "Midwest"
          ],
          [
           "Midwest"
          ],
          [
           "Midwest"
          ],
          [
           "Midwest"
          ],
          [
           "Midwest"
          ],
          [
           "Midwest"
          ],
          [
           "Midwest"
          ],
          [
           "Midwest"
          ],
          [
           "Midwest"
          ],
          [
           "Midwest"
          ],
          [
           "Midwest"
          ],
          [
           "Midwest"
          ],
          [
           "Midwest"
          ],
          [
           "Midwest"
          ],
          [
           "Midwest"
          ],
          [
           "Midwest"
          ],
          [
           "Midwest"
          ],
          [
           "Midwest"
          ],
          [
           "Midwest"
          ],
          [
           "Midwest"
          ],
          [
           "Midwest"
          ],
          [
           "Midwest"
          ],
          [
           "Midwest"
          ],
          [
           "Midwest"
          ],
          [
           "Midwest"
          ],
          [
           "Midwest"
          ],
          [
           "Midwest"
          ],
          [
           "Midwest"
          ],
          [
           "Midwest"
          ],
          [
           "Midwest"
          ],
          [
           "Midwest"
          ],
          [
           "Midwest"
          ],
          [
           "Midwest"
          ],
          [
           "Midwest"
          ],
          [
           "Midwest"
          ],
          [
           "Midwest"
          ],
          [
           "Midwest"
          ],
          [
           "Midwest"
          ],
          [
           "Midwest"
          ],
          [
           "Midwest"
          ],
          [
           "Midwest"
          ],
          [
           "Midwest"
          ],
          [
           "Midwest"
          ],
          [
           "Midwest"
          ],
          [
           "Midwest"
          ],
          [
           "Midwest"
          ],
          [
           "Midwest"
          ],
          [
           "Midwest"
          ],
          [
           "Midwest"
          ],
          [
           "Midwest"
          ],
          [
           "Midwest"
          ],
          [
           "Midwest"
          ],
          [
           "Midwest"
          ],
          [
           "Midwest"
          ],
          [
           "Midwest"
          ],
          [
           "Midwest"
          ],
          [
           "Midwest"
          ],
          [
           "Midwest"
          ],
          [
           "Midwest"
          ],
          [
           "Midwest"
          ],
          [
           "Midwest"
          ],
          [
           "Midwest"
          ],
          [
           "Midwest"
          ],
          [
           "Midwest"
          ],
          [
           "Midwest"
          ],
          [
           "Midwest"
          ],
          [
           "Midwest"
          ],
          [
           "Midwest"
          ],
          [
           "Midwest"
          ],
          [
           "Midwest"
          ],
          [
           "Midwest"
          ],
          [
           "Midwest"
          ],
          [
           "Midwest"
          ],
          [
           "Midwest"
          ],
          [
           "Midwest"
          ],
          [
           "Midwest"
          ],
          [
           "Midwest"
          ],
          [
           "Midwest"
          ],
          [
           "Midwest"
          ],
          [
           "Midwest"
          ],
          [
           "Midwest"
          ],
          [
           "Midwest"
          ],
          [
           "Midwest"
          ],
          [
           "Midwest"
          ],
          [
           "Midwest"
          ],
          [
           "Midwest"
          ],
          [
           "Midwest"
          ],
          [
           "Midwest"
          ],
          [
           "Midwest"
          ],
          [
           "Midwest"
          ],
          [
           "Midwest"
          ],
          [
           "Midwest"
          ],
          [
           "Midwest"
          ],
          [
           "Midwest"
          ],
          [
           "Midwest"
          ],
          [
           "Midwest"
          ],
          [
           "Midwest"
          ],
          [
           "Midwest"
          ],
          [
           "Midwest"
          ],
          [
           "Midwest"
          ],
          [
           "Midwest"
          ],
          [
           "Midwest"
          ],
          [
           "Midwest"
          ],
          [
           "Midwest"
          ],
          [
           "Midwest"
          ],
          [
           "Midwest"
          ],
          [
           "Midwest"
          ],
          [
           "Midwest"
          ],
          [
           "Midwest"
          ],
          [
           "Midwest"
          ],
          [
           "Midwest"
          ],
          [
           "Midwest"
          ],
          [
           "Midwest"
          ],
          [
           "Midwest"
          ],
          [
           "Midwest"
          ],
          [
           "Midwest"
          ],
          [
           "Midwest"
          ],
          [
           "Midwest"
          ],
          [
           "Midwest"
          ],
          [
           "Midwest"
          ],
          [
           "Midwest"
          ],
          [
           "Midwest"
          ],
          [
           "Midwest"
          ],
          [
           "Midwest"
          ],
          [
           "Midwest"
          ],
          [
           "Midwest"
          ],
          [
           "Midwest"
          ],
          [
           "Midwest"
          ],
          [
           "Midwest"
          ],
          [
           "Midwest"
          ],
          [
           "Midwest"
          ],
          [
           "Midwest"
          ],
          [
           "Midwest"
          ],
          [
           "Midwest"
          ],
          [
           "Midwest"
          ],
          [
           "Midwest"
          ],
          [
           "Midwest"
          ],
          [
           "Midwest"
          ],
          [
           "Midwest"
          ],
          [
           "Midwest"
          ],
          [
           "Midwest"
          ],
          [
           "Midwest"
          ],
          [
           "Midwest"
          ],
          [
           "Midwest"
          ],
          [
           "Midwest"
          ],
          [
           "Midwest"
          ],
          [
           "Midwest"
          ],
          [
           "Midwest"
          ],
          [
           "Midwest"
          ],
          [
           "Midwest"
          ],
          [
           "Midwest"
          ]
         ],
         "hovertemplate": "RegionName=%{customdata[0]}<br>Year (2000-2024)=%{x}<br>Log of House Value ($)=%{y}<extra></extra>",
         "legendgroup": "Midwest",
         "line": {
          "color": "#636efa",
          "dash": "solid"
         },
         "marker": {
          "size": 3,
          "symbol": "circle"
         },
         "mode": "lines",
         "name": "Midwest",
         "showlegend": true,
         "type": "scattergl",
         "x": [
          "2000-01-31T00:00:00",
          "2000-02-29T00:00:00",
          "2000-03-31T00:00:00",
          "2000-04-30T00:00:00",
          "2000-05-31T00:00:00",
          "2000-06-30T00:00:00",
          "2000-07-31T00:00:00",
          "2000-08-31T00:00:00",
          "2000-09-30T00:00:00",
          "2000-10-31T00:00:00",
          "2000-11-30T00:00:00",
          "2000-12-31T00:00:00",
          "2001-01-31T00:00:00",
          "2001-02-28T00:00:00",
          "2001-03-31T00:00:00",
          "2001-04-30T00:00:00",
          "2001-05-31T00:00:00",
          "2001-06-30T00:00:00",
          "2001-07-31T00:00:00",
          "2001-08-31T00:00:00",
          "2001-09-30T00:00:00",
          "2001-10-31T00:00:00",
          "2001-11-30T00:00:00",
          "2001-12-31T00:00:00",
          "2002-01-31T00:00:00",
          "2002-02-28T00:00:00",
          "2002-03-31T00:00:00",
          "2002-04-30T00:00:00",
          "2002-05-31T00:00:00",
          "2002-06-30T00:00:00",
          "2002-07-31T00:00:00",
          "2002-08-31T00:00:00",
          "2002-09-30T00:00:00",
          "2002-10-31T00:00:00",
          "2002-11-30T00:00:00",
          "2002-12-31T00:00:00",
          "2003-01-31T00:00:00",
          "2003-02-28T00:00:00",
          "2003-03-31T00:00:00",
          "2003-04-30T00:00:00",
          "2003-05-31T00:00:00",
          "2003-06-30T00:00:00",
          "2003-07-31T00:00:00",
          "2003-08-31T00:00:00",
          "2003-09-30T00:00:00",
          "2003-10-31T00:00:00",
          "2003-11-30T00:00:00",
          "2003-12-31T00:00:00",
          "2004-01-31T00:00:00",
          "2004-02-29T00:00:00",
          "2004-03-31T00:00:00",
          "2004-04-30T00:00:00",
          "2004-05-31T00:00:00",
          "2004-06-30T00:00:00",
          "2004-07-31T00:00:00",
          "2004-08-31T00:00:00",
          "2004-09-30T00:00:00",
          "2004-10-31T00:00:00",
          "2004-11-30T00:00:00",
          "2004-12-31T00:00:00",
          "2005-01-31T00:00:00",
          "2005-02-28T00:00:00",
          "2005-03-31T00:00:00",
          "2005-04-30T00:00:00",
          "2005-05-31T00:00:00",
          "2005-06-30T00:00:00",
          "2005-07-31T00:00:00",
          "2005-08-31T00:00:00",
          "2005-09-30T00:00:00",
          "2005-10-31T00:00:00",
          "2005-11-30T00:00:00",
          "2005-12-31T00:00:00",
          "2006-01-31T00:00:00",
          "2006-02-28T00:00:00",
          "2006-03-31T00:00:00",
          "2006-04-30T00:00:00",
          "2006-05-31T00:00:00",
          "2006-06-30T00:00:00",
          "2006-07-31T00:00:00",
          "2006-08-31T00:00:00",
          "2006-09-30T00:00:00",
          "2006-10-31T00:00:00",
          "2006-11-30T00:00:00",
          "2006-12-31T00:00:00",
          "2007-01-31T00:00:00",
          "2007-02-28T00:00:00",
          "2007-03-31T00:00:00",
          "2007-04-30T00:00:00",
          "2007-05-31T00:00:00",
          "2007-06-30T00:00:00",
          "2007-07-31T00:00:00",
          "2007-08-31T00:00:00",
          "2007-09-30T00:00:00",
          "2007-10-31T00:00:00",
          "2007-11-30T00:00:00",
          "2007-12-31T00:00:00",
          "2008-01-31T00:00:00",
          "2008-02-29T00:00:00",
          "2008-03-31T00:00:00",
          "2008-04-30T00:00:00",
          "2008-05-31T00:00:00",
          "2008-06-30T00:00:00",
          "2008-07-31T00:00:00",
          "2008-08-31T00:00:00",
          "2008-09-30T00:00:00",
          "2008-10-31T00:00:00",
          "2008-11-30T00:00:00",
          "2008-12-31T00:00:00",
          "2009-01-31T00:00:00",
          "2009-02-28T00:00:00",
          "2009-03-31T00:00:00",
          "2009-04-30T00:00:00",
          "2009-05-31T00:00:00",
          "2009-06-30T00:00:00",
          "2009-07-31T00:00:00",
          "2009-08-31T00:00:00",
          "2009-09-30T00:00:00",
          "2009-10-31T00:00:00",
          "2009-11-30T00:00:00",
          "2009-12-31T00:00:00",
          "2010-01-31T00:00:00",
          "2010-02-28T00:00:00",
          "2010-03-31T00:00:00",
          "2010-04-30T00:00:00",
          "2010-05-31T00:00:00",
          "2010-06-30T00:00:00",
          "2010-07-31T00:00:00",
          "2010-08-31T00:00:00",
          "2010-09-30T00:00:00",
          "2010-10-31T00:00:00",
          "2010-11-30T00:00:00",
          "2010-12-31T00:00:00",
          "2011-01-31T00:00:00",
          "2011-02-28T00:00:00",
          "2011-03-31T00:00:00",
          "2011-04-30T00:00:00",
          "2011-05-31T00:00:00",
          "2011-06-30T00:00:00",
          "2011-07-31T00:00:00",
          "2011-08-31T00:00:00",
          "2011-09-30T00:00:00",
          "2011-10-31T00:00:00",
          "2011-11-30T00:00:00",
          "2011-12-31T00:00:00",
          "2012-01-31T00:00:00",
          "2012-02-29T00:00:00",
          "2012-03-31T00:00:00",
          "2012-04-30T00:00:00",
          "2012-05-31T00:00:00",
          "2012-06-30T00:00:00",
          "2012-07-31T00:00:00",
          "2012-08-31T00:00:00",
          "2012-09-30T00:00:00",
          "2012-10-31T00:00:00",
          "2012-11-30T00:00:00",
          "2012-12-31T00:00:00",
          "2013-01-31T00:00:00",
          "2013-02-28T00:00:00",
          "2013-03-31T00:00:00",
          "2013-04-30T00:00:00",
          "2013-05-31T00:00:00",
          "2013-06-30T00:00:00",
          "2013-07-31T00:00:00",
          "2013-08-31T00:00:00",
          "2013-09-30T00:00:00",
          "2013-10-31T00:00:00",
          "2013-11-30T00:00:00",
          "2013-12-31T00:00:00",
          "2014-01-31T00:00:00",
          "2014-02-28T00:00:00",
          "2014-03-31T00:00:00",
          "2014-04-30T00:00:00",
          "2014-05-31T00:00:00",
          "2014-06-30T00:00:00",
          "2014-07-31T00:00:00",
          "2014-08-31T00:00:00",
          "2014-09-30T00:00:00",
          "2014-10-31T00:00:00",
          "2014-11-30T00:00:00",
          "2014-12-31T00:00:00",
          "2015-01-31T00:00:00",
          "2015-02-28T00:00:00",
          "2015-03-31T00:00:00",
          "2015-04-30T00:00:00",
          "2015-05-31T00:00:00",
          "2015-06-30T00:00:00",
          "2015-07-31T00:00:00",
          "2015-08-31T00:00:00",
          "2015-09-30T00:00:00",
          "2015-10-31T00:00:00",
          "2015-11-30T00:00:00",
          "2015-12-31T00:00:00",
          "2016-01-31T00:00:00",
          "2016-02-29T00:00:00",
          "2016-03-31T00:00:00",
          "2016-04-30T00:00:00",
          "2016-05-31T00:00:00",
          "2016-06-30T00:00:00",
          "2016-07-31T00:00:00",
          "2016-08-31T00:00:00",
          "2016-09-30T00:00:00",
          "2016-10-31T00:00:00",
          "2016-11-30T00:00:00",
          "2016-12-31T00:00:00",
          "2017-01-31T00:00:00",
          "2017-02-28T00:00:00",
          "2017-03-31T00:00:00",
          "2017-04-30T00:00:00",
          "2017-05-31T00:00:00",
          "2017-06-30T00:00:00",
          "2017-07-31T00:00:00",
          "2017-08-31T00:00:00",
          "2017-09-30T00:00:00",
          "2017-10-31T00:00:00",
          "2017-11-30T00:00:00",
          "2017-12-31T00:00:00",
          "2018-01-31T00:00:00",
          "2018-02-28T00:00:00",
          "2018-03-31T00:00:00",
          "2018-04-30T00:00:00",
          "2018-05-31T00:00:00",
          "2018-06-30T00:00:00",
          "2018-07-31T00:00:00",
          "2018-08-31T00:00:00",
          "2018-09-30T00:00:00",
          "2018-10-31T00:00:00",
          "2018-11-30T00:00:00",
          "2018-12-31T00:00:00",
          "2019-01-31T00:00:00",
          "2019-02-28T00:00:00",
          "2019-03-31T00:00:00",
          "2019-04-30T00:00:00",
          "2019-05-31T00:00:00",
          "2019-06-30T00:00:00",
          "2019-07-31T00:00:00",
          "2019-08-31T00:00:00",
          "2019-09-30T00:00:00",
          "2019-10-31T00:00:00",
          "2019-11-30T00:00:00",
          "2019-12-31T00:00:00",
          "2020-01-31T00:00:00",
          "2020-02-29T00:00:00",
          "2020-03-31T00:00:00",
          "2020-04-30T00:00:00",
          "2020-05-31T00:00:00",
          "2020-06-30T00:00:00",
          "2020-07-31T00:00:00",
          "2020-08-31T00:00:00",
          "2020-09-30T00:00:00",
          "2020-10-31T00:00:00",
          "2020-11-30T00:00:00",
          "2020-12-31T00:00:00",
          "2021-01-31T00:00:00",
          "2021-02-28T00:00:00",
          "2021-03-31T00:00:00",
          "2021-04-30T00:00:00",
          "2021-05-31T00:00:00",
          "2021-06-30T00:00:00",
          "2021-07-31T00:00:00",
          "2021-08-31T00:00:00",
          "2021-09-30T00:00:00",
          "2021-10-31T00:00:00",
          "2021-11-30T00:00:00",
          "2021-12-31T00:00:00",
          "2022-01-31T00:00:00",
          "2022-02-28T00:00:00",
          "2022-03-31T00:00:00",
          "2022-04-30T00:00:00",
          "2022-05-31T00:00:00",
          "2022-06-30T00:00:00",
          "2022-07-31T00:00:00",
          "2022-08-31T00:00:00",
          "2022-09-30T00:00:00",
          "2022-10-31T00:00:00",
          "2022-11-30T00:00:00",
          "2022-12-31T00:00:00",
          "2023-01-31T00:00:00",
          "2023-02-28T00:00:00",
          "2023-03-31T00:00:00",
          "2023-04-30T00:00:00",
          "2023-05-31T00:00:00",
          "2023-06-30T00:00:00",
          "2023-07-31T00:00:00",
          "2023-08-31T00:00:00",
          "2023-09-30T00:00:00",
          "2023-10-31T00:00:00",
          "2023-11-30T00:00:00",
          "2023-12-31T00:00:00",
          "2024-01-31T00:00:00",
          "2024-02-29T00:00:00",
          "2024-03-31T00:00:00",
          "2024-04-30T00:00:00",
          "2024-05-31T00:00:00",
          "2024-06-30T00:00:00",
          "2024-07-31T00:00:00",
          "2024-08-31T00:00:00",
          "2024-09-30T00:00:00",
          "2024-10-31T00:00:00",
          "2024-11-30T00:00:00",
          "2024-12-31T00:00:00",
          "2025-01-31T00:00:00"
         ],
         "xaxis": "x",
         "y": [
          108623.02952840803,
          108651.538615765,
          108702.86607975172,
          108816.57093053637,
          108969.71607925907,
          109138.99869573387,
          109321.3239407599,
          109502.85315776353,
          109701.8316737503,
          109899.44615999331,
          110108.58412900838,
          110314.73732051256,
          110518.90627610915,
          110692.546538996,
          110851.54138537905,
          111000.76721839234,
          111170.24503110647,
          111343.63988234337,
          111527.59437090585,
          111709.93719775781,
          111899.55187981493,
          112076.87604122573,
          112249.67565769576,
          112405.48870162677,
          112534.229230667,
          112638.47193266156,
          112741.68442272175,
          112865.98861239421,
          113004.49158886715,
          113150.53747173121,
          113301.6273242073,
          113456.58299938406,
          113605.5265076696,
          113759.79887461795,
          113910.84769460115,
          114061.65048249938,
          114177.76635493895,
          114285.9391260582,
          114382.07557913063,
          114490.85514919598,
          114616.22719952973,
          114764.48118064374,
          114938.99142368337,
          115146.06752184885,
          115382.2471047683,
          115665.36965527579,
          115898.91666993823,
          116100.75408912974,
          116251.74606875199,
          116419.65981363815,
          116593.79846683587,
          116786.70896999176,
          117017.65582157978,
          117275.15499156633,
          117549.84898349017,
          117807.74523217054,
          118063.06207829584,
          118303.93792838459,
          118544.92058035676,
          118770.45004865411,
          119019.73466116427,
          119250.27712066357,
          119467.84890983933,
          119641.16550523206,
          119815.57686323966,
          119963.86797776856,
          120121.10806804687,
          120299.00331579875,
          120499.84422124086,
          120692.38935089477,
          120874.29002883243,
          121021.86375993676,
          121150.00634341226,
          121253.46263681918,
          121339.29311221433,
          121409.38877013129,
          121463.90199690769,
          121481.62220826288,
          121471.59593834067,
          121466.28743845534,
          121485.49933864335,
          121532.65596553136,
          121566.82499905197,
          121598.2230832934,
          121617.23786013697,
          121641.28064648,
          121644.53262608731,
          121651.3529184144,
          121611.47832244667,
          121538.91370426261,
          121388.11858104721,
          121276.81851579144,
          121179.18470237625,
          121114.02686191331,
          121009.04302505213,
          120898.837987868,
          120795.68110720991,
          120657.40350421709,
          120507.19203348151,
          120299.30624033454,
          120084.0613996977,
          119869.30984748054,
          119653.04411522634,
          119392.28600709619,
          119119.4600343399,
          118826.50836627286,
          118547.48149108175,
          118237.41955417111,
          117924.68733517556,
          117622.87357333672,
          117304.79162907487,
          116978.74946921725,
          116609.52228247107,
          116196.77603499265,
          115750.87091993529,
          115288.64610784709,
          114873.70475077732,
          114481.65033094192,
          114158.0327238374,
          113902.61433809386,
          113679.35065548049,
          113508.60751893149,
          113405.07910019848,
          113436.76115580263,
          113538.45341978574,
          113627.55911949048,
          113627.3720193014,
          113466.98131493178,
          113206.88725585889,
          112879.02303636786,
          112516.15189495082,
          112083.8296612907,
          111640.3659466867,
          111170.76558335965,
          110745.86998659652,
          110346.49351026565,
          110043.5775512011,
          109846.09186712619,
          109776.76487586302,
          109790.98486310057,
          109784.03244776114,
          109711.71255973614,
          109586.09223429706,
          109438.54355594577,
          109330.8027610837,
          109382.962102893,
          109626.7892754412,
          109989.81745753986,
          110454.0576292336,
          110920.90595121535,
          111418.0726572676,
          111818.07007783772,
          112291.61322159761,
          112711.83823158876,
          112994.77420767285,
          113163.16184597589,
          113363.40060486924,
          113652.08761628786,
          114068.34200153963,
          114496.52633867216,
          115007.62558219841,
          115529.30208625182,
          116028.27613769229,
          116697.30124220751,
          117285.95080537527,
          117883.51571160388,
          118085.65727866333,
          118195.41197106495,
          118259.31041295778,
          118472.57789500889,
          118691.38681846336,
          119039.06499340657,
          119517.18087149395,
          120132.27484158531,
          120800.39525705237,
          121342.862944415,
          121650.69541243314,
          121617.01888728091,
          121596.26093032477,
          121750.67393636396,
          122037.35016427816,
          122300.08379615234,
          122636.64698221632,
          123169.50273920063,
          123872.64133842512,
          124536.7889821923,
          125140.66176797159,
          125745.10033550442,
          126296.77354162442,
          126850.45907796684,
          127197.3929350676,
          127644.52366185673,
          128157.32757628911,
          128738.59149306324,
          129010.4862190246,
          129196.30703113413,
          129386.5752411563,
          129754.46272921874,
          129909.77620471174,
          130041.51712619908,
          130204.52867535315,
          130602.6049365812,
          131070.78611659053,
          131590.5223376868,
          132062.63951850723,
          132465.88203962153,
          132831.7879526106,
          133265.33879941062,
          133735.42850890162,
          134214.78037333107,
          134704.35073151765,
          135166.6163107158,
          135675.252351716,
          136212.98821812432,
          136835.91499286873,
          137408.22449568528,
          137930.57512007706,
          138411.94815581516,
          139152.45438681493,
          139903.81665663046,
          140644.41164840435,
          141077.85321537434,
          141659.68790174715,
          142136.3310018618,
          142696.58509171367,
          142956.10683182234,
          143382.04928553596,
          143837.04430306322,
          144521.5030362714,
          145424.05940269373,
          146511.2570536323,
          147491.10580211875,
          148184.49065921849,
          148720.98810437546,
          149190.3756874248,
          149631.43215080022,
          149961.52394015243,
          150507.66540235482,
          151258.16370958977,
          152112.5556711,
          152814.92141273266,
          153512.01181013993,
          154291.8369911844,
          155172.37121165317,
          155785.34511039456,
          156176.01564355564,
          156698.75053712673,
          157768.12939033424,
          159663.70163713387,
          161804.69181715947,
          164004.01380699078,
          165808.99352263397,
          167424.58905694916,
          169124.8898878651,
          170952.79281567284,
          172975.1632419539,
          175247.80047809237,
          177782.3584511589,
          179939.1877850881,
          181170.52631352024,
          181533.78024265598,
          181965.74789116025,
          182919.8859593303,
          184209.34942787327,
          186242.69058244853,
          188740.01980159685,
          191646.86857149116,
          194440.2044907072,
          196760.36975990873,
          198819.03155635257,
          199782.93567979062,
          199864.20926792664,
          199244.63329235575,
          198932.5206867843,
          198871.58560941272,
          198900.0444634385,
          198780.81091421444,
          198778.86862374487,
          199296.8372152709,
          200482.36539430064,
          202136.43037603976,
          203775.75715928632,
          205001.0909282094,
          205961.70728278978,
          206630.67088064764,
          207044.52203206954,
          207304.37224527844,
          207391.70853651597,
          207582.56626627062,
          208260.06554372516,
          209748.35995430002,
          211590.99739439535,
          212983.38491726606,
          213792.2723307526,
          214177.16385770807,
          214594.1699796232,
          214992.42367173507,
          215704.7052847605,
          216570.73448894164,
          217788.03922659997,
          218947.7829175733
         ],
         "yaxis": "y"
        },
        {
         "customdata": [
          [
           "Northeast"
          ],
          [
           "Northeast"
          ],
          [
           "Northeast"
          ],
          [
           "Northeast"
          ],
          [
           "Northeast"
          ],
          [
           "Northeast"
          ],
          [
           "Northeast"
          ],
          [
           "Northeast"
          ],
          [
           "Northeast"
          ],
          [
           "Northeast"
          ],
          [
           "Northeast"
          ],
          [
           "Northeast"
          ],
          [
           "Northeast"
          ],
          [
           "Northeast"
          ],
          [
           "Northeast"
          ],
          [
           "Northeast"
          ],
          [
           "Northeast"
          ],
          [
           "Northeast"
          ],
          [
           "Northeast"
          ],
          [
           "Northeast"
          ],
          [
           "Northeast"
          ],
          [
           "Northeast"
          ],
          [
           "Northeast"
          ],
          [
           "Northeast"
          ],
          [
           "Northeast"
          ],
          [
           "Northeast"
          ],
          [
           "Northeast"
          ],
          [
           "Northeast"
          ],
          [
           "Northeast"
          ],
          [
           "Northeast"
          ],
          [
           "Northeast"
          ],
          [
           "Northeast"
          ],
          [
           "Northeast"
          ],
          [
           "Northeast"
          ],
          [
           "Northeast"
          ],
          [
           "Northeast"
          ],
          [
           "Northeast"
          ],
          [
           "Northeast"
          ],
          [
           "Northeast"
          ],
          [
           "Northeast"
          ],
          [
           "Northeast"
          ],
          [
           "Northeast"
          ],
          [
           "Northeast"
          ],
          [
           "Northeast"
          ],
          [
           "Northeast"
          ],
          [
           "Northeast"
          ],
          [
           "Northeast"
          ],
          [
           "Northeast"
          ],
          [
           "Northeast"
          ],
          [
           "Northeast"
          ],
          [
           "Northeast"
          ],
          [
           "Northeast"
          ],
          [
           "Northeast"
          ],
          [
           "Northeast"
          ],
          [
           "Northeast"
          ],
          [
           "Northeast"
          ],
          [
           "Northeast"
          ],
          [
           "Northeast"
          ],
          [
           "Northeast"
          ],
          [
           "Northeast"
          ],
          [
           "Northeast"
          ],
          [
           "Northeast"
          ],
          [
           "Northeast"
          ],
          [
           "Northeast"
          ],
          [
           "Northeast"
          ],
          [
           "Northeast"
          ],
          [
           "Northeast"
          ],
          [
           "Northeast"
          ],
          [
           "Northeast"
          ],
          [
           "Northeast"
          ],
          [
           "Northeast"
          ],
          [
           "Northeast"
          ],
          [
           "Northeast"
          ],
          [
           "Northeast"
          ],
          [
           "Northeast"
          ],
          [
           "Northeast"
          ],
          [
           "Northeast"
          ],
          [
           "Northeast"
          ],
          [
           "Northeast"
          ],
          [
           "Northeast"
          ],
          [
           "Northeast"
          ],
          [
           "Northeast"
          ],
          [
           "Northeast"
          ],
          [
           "Northeast"
          ],
          [
           "Northeast"
          ],
          [
           "Northeast"
          ],
          [
           "Northeast"
          ],
          [
           "Northeast"
          ],
          [
           "Northeast"
          ],
          [
           "Northeast"
          ],
          [
           "Northeast"
          ],
          [
           "Northeast"
          ],
          [
           "Northeast"
          ],
          [
           "Northeast"
          ],
          [
           "Northeast"
          ],
          [
           "Northeast"
          ],
          [
           "Northeast"
          ],
          [
           "Northeast"
          ],
          [
           "Northeast"
          ],
          [
           "Northeast"
          ],
          [
           "Northeast"
          ],
          [
           "Northeast"
          ],
          [
           "Northeast"
          ],
          [
           "Northeast"
          ],
          [
           "Northeast"
          ],
          [
           "Northeast"
          ],
          [
           "Northeast"
          ],
          [
           "Northeast"
          ],
          [
           "Northeast"
          ],
          [
           "Northeast"
          ],
          [
           "Northeast"
          ],
          [
           "Northeast"
          ],
          [
           "Northeast"
          ],
          [
           "Northeast"
          ],
          [
           "Northeast"
          ],
          [
           "Northeast"
          ],
          [
           "Northeast"
          ],
          [
           "Northeast"
          ],
          [
           "Northeast"
          ],
          [
           "Northeast"
          ],
          [
           "Northeast"
          ],
          [
           "Northeast"
          ],
          [
           "Northeast"
          ],
          [
           "Northeast"
          ],
          [
           "Northeast"
          ],
          [
           "Northeast"
          ],
          [
           "Northeast"
          ],
          [
           "Northeast"
          ],
          [
           "Northeast"
          ],
          [
           "Northeast"
          ],
          [
           "Northeast"
          ],
          [
           "Northeast"
          ],
          [
           "Northeast"
          ],
          [
           "Northeast"
          ],
          [
           "Northeast"
          ],
          [
           "Northeast"
          ],
          [
           "Northeast"
          ],
          [
           "Northeast"
          ],
          [
           "Northeast"
          ],
          [
           "Northeast"
          ],
          [
           "Northeast"
          ],
          [
           "Northeast"
          ],
          [
           "Northeast"
          ],
          [
           "Northeast"
          ],
          [
           "Northeast"
          ],
          [
           "Northeast"
          ],
          [
           "Northeast"
          ],
          [
           "Northeast"
          ],
          [
           "Northeast"
          ],
          [
           "Northeast"
          ],
          [
           "Northeast"
          ],
          [
           "Northeast"
          ],
          [
           "Northeast"
          ],
          [
           "Northeast"
          ],
          [
           "Northeast"
          ],
          [
           "Northeast"
          ],
          [
           "Northeast"
          ],
          [
           "Northeast"
          ],
          [
           "Northeast"
          ],
          [
           "Northeast"
          ],
          [
           "Northeast"
          ],
          [
           "Northeast"
          ],
          [
           "Northeast"
          ],
          [
           "Northeast"
          ],
          [
           "Northeast"
          ],
          [
           "Northeast"
          ],
          [
           "Northeast"
          ],
          [
           "Northeast"
          ],
          [
           "Northeast"
          ],
          [
           "Northeast"
          ],
          [
           "Northeast"
          ],
          [
           "Northeast"
          ],
          [
           "Northeast"
          ],
          [
           "Northeast"
          ],
          [
           "Northeast"
          ],
          [
           "Northeast"
          ],
          [
           "Northeast"
          ],
          [
           "Northeast"
          ],
          [
           "Northeast"
          ],
          [
           "Northeast"
          ],
          [
           "Northeast"
          ],
          [
           "Northeast"
          ],
          [
           "Northeast"
          ],
          [
           "Northeast"
          ],
          [
           "Northeast"
          ],
          [
           "Northeast"
          ],
          [
           "Northeast"
          ],
          [
           "Northeast"
          ],
          [
           "Northeast"
          ],
          [
           "Northeast"
          ],
          [
           "Northeast"
          ],
          [
           "Northeast"
          ],
          [
           "Northeast"
          ],
          [
           "Northeast"
          ],
          [
           "Northeast"
          ],
          [
           "Northeast"
          ],
          [
           "Northeast"
          ],
          [
           "Northeast"
          ],
          [
           "Northeast"
          ],
          [
           "Northeast"
          ],
          [
           "Northeast"
          ],
          [
           "Northeast"
          ],
          [
           "Northeast"
          ],
          [
           "Northeast"
          ],
          [
           "Northeast"
          ],
          [
           "Northeast"
          ],
          [
           "Northeast"
          ],
          [
           "Northeast"
          ],
          [
           "Northeast"
          ],
          [
           "Northeast"
          ],
          [
           "Northeast"
          ],
          [
           "Northeast"
          ],
          [
           "Northeast"
          ],
          [
           "Northeast"
          ],
          [
           "Northeast"
          ],
          [
           "Northeast"
          ],
          [
           "Northeast"
          ],
          [
           "Northeast"
          ],
          [
           "Northeast"
          ],
          [
           "Northeast"
          ],
          [
           "Northeast"
          ],
          [
           "Northeast"
          ],
          [
           "Northeast"
          ],
          [
           "Northeast"
          ],
          [
           "Northeast"
          ],
          [
           "Northeast"
          ],
          [
           "Northeast"
          ],
          [
           "Northeast"
          ],
          [
           "Northeast"
          ],
          [
           "Northeast"
          ],
          [
           "Northeast"
          ],
          [
           "Northeast"
          ],
          [
           "Northeast"
          ],
          [
           "Northeast"
          ],
          [
           "Northeast"
          ],
          [
           "Northeast"
          ],
          [
           "Northeast"
          ],
          [
           "Northeast"
          ],
          [
           "Northeast"
          ],
          [
           "Northeast"
          ],
          [
           "Northeast"
          ],
          [
           "Northeast"
          ],
          [
           "Northeast"
          ],
          [
           "Northeast"
          ],
          [
           "Northeast"
          ],
          [
           "Northeast"
          ],
          [
           "Northeast"
          ],
          [
           "Northeast"
          ],
          [
           "Northeast"
          ],
          [
           "Northeast"
          ],
          [
           "Northeast"
          ],
          [
           "Northeast"
          ],
          [
           "Northeast"
          ],
          [
           "Northeast"
          ],
          [
           "Northeast"
          ],
          [
           "Northeast"
          ],
          [
           "Northeast"
          ],
          [
           "Northeast"
          ],
          [
           "Northeast"
          ],
          [
           "Northeast"
          ],
          [
           "Northeast"
          ],
          [
           "Northeast"
          ],
          [
           "Northeast"
          ],
          [
           "Northeast"
          ],
          [
           "Northeast"
          ],
          [
           "Northeast"
          ],
          [
           "Northeast"
          ],
          [
           "Northeast"
          ],
          [
           "Northeast"
          ],
          [
           "Northeast"
          ],
          [
           "Northeast"
          ],
          [
           "Northeast"
          ],
          [
           "Northeast"
          ],
          [
           "Northeast"
          ],
          [
           "Northeast"
          ],
          [
           "Northeast"
          ],
          [
           "Northeast"
          ],
          [
           "Northeast"
          ],
          [
           "Northeast"
          ],
          [
           "Northeast"
          ],
          [
           "Northeast"
          ],
          [
           "Northeast"
          ],
          [
           "Northeast"
          ],
          [
           "Northeast"
          ],
          [
           "Northeast"
          ],
          [
           "Northeast"
          ],
          [
           "Northeast"
          ],
          [
           "Northeast"
          ],
          [
           "Northeast"
          ],
          [
           "Northeast"
          ],
          [
           "Northeast"
          ],
          [
           "Northeast"
          ],
          [
           "Northeast"
          ],
          [
           "Northeast"
          ],
          [
           "Northeast"
          ],
          [
           "Northeast"
          ],
          [
           "Northeast"
          ],
          [
           "Northeast"
          ],
          [
           "Northeast"
          ],
          [
           "Northeast"
          ],
          [
           "Northeast"
          ]
         ],
         "hovertemplate": "RegionName=%{customdata[0]}<br>Year (2000-2024)=%{x}<br>Log of House Value ($)=%{y}<extra></extra>",
         "legendgroup": "Northeast",
         "line": {
          "color": "#EF553B",
          "dash": "solid"
         },
         "marker": {
          "size": 3,
          "symbol": "circle"
         },
         "mode": "lines",
         "name": "Northeast",
         "showlegend": true,
         "type": "scattergl",
         "x": [
          "2000-01-31T00:00:00",
          "2000-02-29T00:00:00",
          "2000-03-31T00:00:00",
          "2000-04-30T00:00:00",
          "2000-05-31T00:00:00",
          "2000-06-30T00:00:00",
          "2000-07-31T00:00:00",
          "2000-08-31T00:00:00",
          "2000-09-30T00:00:00",
          "2000-10-31T00:00:00",
          "2000-11-30T00:00:00",
          "2000-12-31T00:00:00",
          "2001-01-31T00:00:00",
          "2001-02-28T00:00:00",
          "2001-03-31T00:00:00",
          "2001-04-30T00:00:00",
          "2001-05-31T00:00:00",
          "2001-06-30T00:00:00",
          "2001-07-31T00:00:00",
          "2001-08-31T00:00:00",
          "2001-09-30T00:00:00",
          "2001-10-31T00:00:00",
          "2001-11-30T00:00:00",
          "2001-12-31T00:00:00",
          "2002-01-31T00:00:00",
          "2002-02-28T00:00:00",
          "2002-03-31T00:00:00",
          "2002-04-30T00:00:00",
          "2002-05-31T00:00:00",
          "2002-06-30T00:00:00",
          "2002-07-31T00:00:00",
          "2002-08-31T00:00:00",
          "2002-09-30T00:00:00",
          "2002-10-31T00:00:00",
          "2002-11-30T00:00:00",
          "2002-12-31T00:00:00",
          "2003-01-31T00:00:00",
          "2003-02-28T00:00:00",
          "2003-03-31T00:00:00",
          "2003-04-30T00:00:00",
          "2003-05-31T00:00:00",
          "2003-06-30T00:00:00",
          "2003-07-31T00:00:00",
          "2003-08-31T00:00:00",
          "2003-09-30T00:00:00",
          "2003-10-31T00:00:00",
          "2003-11-30T00:00:00",
          "2003-12-31T00:00:00",
          "2004-01-31T00:00:00",
          "2004-02-29T00:00:00",
          "2004-03-31T00:00:00",
          "2004-04-30T00:00:00",
          "2004-05-31T00:00:00",
          "2004-06-30T00:00:00",
          "2004-07-31T00:00:00",
          "2004-08-31T00:00:00",
          "2004-09-30T00:00:00",
          "2004-10-31T00:00:00",
          "2004-11-30T00:00:00",
          "2004-12-31T00:00:00",
          "2005-01-31T00:00:00",
          "2005-02-28T00:00:00",
          "2005-03-31T00:00:00",
          "2005-04-30T00:00:00",
          "2005-05-31T00:00:00",
          "2005-06-30T00:00:00",
          "2005-07-31T00:00:00",
          "2005-08-31T00:00:00",
          "2005-09-30T00:00:00",
          "2005-10-31T00:00:00",
          "2005-11-30T00:00:00",
          "2005-12-31T00:00:00",
          "2006-01-31T00:00:00",
          "2006-02-28T00:00:00",
          "2006-03-31T00:00:00",
          "2006-04-30T00:00:00",
          "2006-05-31T00:00:00",
          "2006-06-30T00:00:00",
          "2006-07-31T00:00:00",
          "2006-08-31T00:00:00",
          "2006-09-30T00:00:00",
          "2006-10-31T00:00:00",
          "2006-11-30T00:00:00",
          "2006-12-31T00:00:00",
          "2007-01-31T00:00:00",
          "2007-02-28T00:00:00",
          "2007-03-31T00:00:00",
          "2007-04-30T00:00:00",
          "2007-05-31T00:00:00",
          "2007-06-30T00:00:00",
          "2007-07-31T00:00:00",
          "2007-08-31T00:00:00",
          "2007-09-30T00:00:00",
          "2007-10-31T00:00:00",
          "2007-11-30T00:00:00",
          "2007-12-31T00:00:00",
          "2008-01-31T00:00:00",
          "2008-02-29T00:00:00",
          "2008-03-31T00:00:00",
          "2008-04-30T00:00:00",
          "2008-05-31T00:00:00",
          "2008-06-30T00:00:00",
          "2008-07-31T00:00:00",
          "2008-08-31T00:00:00",
          "2008-09-30T00:00:00",
          "2008-10-31T00:00:00",
          "2008-11-30T00:00:00",
          "2008-12-31T00:00:00",
          "2009-01-31T00:00:00",
          "2009-02-28T00:00:00",
          "2009-03-31T00:00:00",
          "2009-04-30T00:00:00",
          "2009-05-31T00:00:00",
          "2009-06-30T00:00:00",
          "2009-07-31T00:00:00",
          "2009-08-31T00:00:00",
          "2009-09-30T00:00:00",
          "2009-10-31T00:00:00",
          "2009-11-30T00:00:00",
          "2009-12-31T00:00:00",
          "2010-01-31T00:00:00",
          "2010-02-28T00:00:00",
          "2010-03-31T00:00:00",
          "2010-04-30T00:00:00",
          "2010-05-31T00:00:00",
          "2010-06-30T00:00:00",
          "2010-07-31T00:00:00",
          "2010-08-31T00:00:00",
          "2010-09-30T00:00:00",
          "2010-10-31T00:00:00",
          "2010-11-30T00:00:00",
          "2010-12-31T00:00:00",
          "2011-01-31T00:00:00",
          "2011-02-28T00:00:00",
          "2011-03-31T00:00:00",
          "2011-04-30T00:00:00",
          "2011-05-31T00:00:00",
          "2011-06-30T00:00:00",
          "2011-07-31T00:00:00",
          "2011-08-31T00:00:00",
          "2011-09-30T00:00:00",
          "2011-10-31T00:00:00",
          "2011-11-30T00:00:00",
          "2011-12-31T00:00:00",
          "2012-01-31T00:00:00",
          "2012-02-29T00:00:00",
          "2012-03-31T00:00:00",
          "2012-04-30T00:00:00",
          "2012-05-31T00:00:00",
          "2012-06-30T00:00:00",
          "2012-07-31T00:00:00",
          "2012-08-31T00:00:00",
          "2012-09-30T00:00:00",
          "2012-10-31T00:00:00",
          "2012-11-30T00:00:00",
          "2012-12-31T00:00:00",
          "2013-01-31T00:00:00",
          "2013-02-28T00:00:00",
          "2013-03-31T00:00:00",
          "2013-04-30T00:00:00",
          "2013-05-31T00:00:00",
          "2013-06-30T00:00:00",
          "2013-07-31T00:00:00",
          "2013-08-31T00:00:00",
          "2013-09-30T00:00:00",
          "2013-10-31T00:00:00",
          "2013-11-30T00:00:00",
          "2013-12-31T00:00:00",
          "2014-01-31T00:00:00",
          "2014-02-28T00:00:00",
          "2014-03-31T00:00:00",
          "2014-04-30T00:00:00",
          "2014-05-31T00:00:00",
          "2014-06-30T00:00:00",
          "2014-07-31T00:00:00",
          "2014-08-31T00:00:00",
          "2014-09-30T00:00:00",
          "2014-10-31T00:00:00",
          "2014-11-30T00:00:00",
          "2014-12-31T00:00:00",
          "2015-01-31T00:00:00",
          "2015-02-28T00:00:00",
          "2015-03-31T00:00:00",
          "2015-04-30T00:00:00",
          "2015-05-31T00:00:00",
          "2015-06-30T00:00:00",
          "2015-07-31T00:00:00",
          "2015-08-31T00:00:00",
          "2015-09-30T00:00:00",
          "2015-10-31T00:00:00",
          "2015-11-30T00:00:00",
          "2015-12-31T00:00:00",
          "2016-01-31T00:00:00",
          "2016-02-29T00:00:00",
          "2016-03-31T00:00:00",
          "2016-04-30T00:00:00",
          "2016-05-31T00:00:00",
          "2016-06-30T00:00:00",
          "2016-07-31T00:00:00",
          "2016-08-31T00:00:00",
          "2016-09-30T00:00:00",
          "2016-10-31T00:00:00",
          "2016-11-30T00:00:00",
          "2016-12-31T00:00:00",
          "2017-01-31T00:00:00",
          "2017-02-28T00:00:00",
          "2017-03-31T00:00:00",
          "2017-04-30T00:00:00",
          "2017-05-31T00:00:00",
          "2017-06-30T00:00:00",
          "2017-07-31T00:00:00",
          "2017-08-31T00:00:00",
          "2017-09-30T00:00:00",
          "2017-10-31T00:00:00",
          "2017-11-30T00:00:00",
          "2017-12-31T00:00:00",
          "2018-01-31T00:00:00",
          "2018-02-28T00:00:00",
          "2018-03-31T00:00:00",
          "2018-04-30T00:00:00",
          "2018-05-31T00:00:00",
          "2018-06-30T00:00:00",
          "2018-07-31T00:00:00",
          "2018-08-31T00:00:00",
          "2018-09-30T00:00:00",
          "2018-10-31T00:00:00",
          "2018-11-30T00:00:00",
          "2018-12-31T00:00:00",
          "2019-01-31T00:00:00",
          "2019-02-28T00:00:00",
          "2019-03-31T00:00:00",
          "2019-04-30T00:00:00",
          "2019-05-31T00:00:00",
          "2019-06-30T00:00:00",
          "2019-07-31T00:00:00",
          "2019-08-31T00:00:00",
          "2019-09-30T00:00:00",
          "2019-10-31T00:00:00",
          "2019-11-30T00:00:00",
          "2019-12-31T00:00:00",
          "2020-01-31T00:00:00",
          "2020-02-29T00:00:00",
          "2020-03-31T00:00:00",
          "2020-04-30T00:00:00",
          "2020-05-31T00:00:00",
          "2020-06-30T00:00:00",
          "2020-07-31T00:00:00",
          "2020-08-31T00:00:00",
          "2020-09-30T00:00:00",
          "2020-10-31T00:00:00",
          "2020-11-30T00:00:00",
          "2020-12-31T00:00:00",
          "2021-01-31T00:00:00",
          "2021-02-28T00:00:00",
          "2021-03-31T00:00:00",
          "2021-04-30T00:00:00",
          "2021-05-31T00:00:00",
          "2021-06-30T00:00:00",
          "2021-07-31T00:00:00",
          "2021-08-31T00:00:00",
          "2021-09-30T00:00:00",
          "2021-10-31T00:00:00",
          "2021-11-30T00:00:00",
          "2021-12-31T00:00:00",
          "2022-01-31T00:00:00",
          "2022-02-28T00:00:00",
          "2022-03-31T00:00:00",
          "2022-04-30T00:00:00",
          "2022-05-31T00:00:00",
          "2022-06-30T00:00:00",
          "2022-07-31T00:00:00",
          "2022-08-31T00:00:00",
          "2022-09-30T00:00:00",
          "2022-10-31T00:00:00",
          "2022-11-30T00:00:00",
          "2022-12-31T00:00:00",
          "2023-01-31T00:00:00",
          "2023-02-28T00:00:00",
          "2023-03-31T00:00:00",
          "2023-04-30T00:00:00",
          "2023-05-31T00:00:00",
          "2023-06-30T00:00:00",
          "2023-07-31T00:00:00",
          "2023-08-31T00:00:00",
          "2023-09-30T00:00:00",
          "2023-10-31T00:00:00",
          "2023-11-30T00:00:00",
          "2023-12-31T00:00:00",
          "2024-01-31T00:00:00",
          "2024-02-29T00:00:00",
          "2024-03-31T00:00:00",
          "2024-04-30T00:00:00",
          "2024-05-31T00:00:00",
          "2024-06-30T00:00:00",
          "2024-07-31T00:00:00",
          "2024-08-31T00:00:00",
          "2024-09-30T00:00:00",
          "2024-10-31T00:00:00",
          "2024-11-30T00:00:00",
          "2024-12-31T00:00:00",
          "2025-01-31T00:00:00"
         ],
         "xaxis": "x",
         "y": [
          106130.9058124586,
          106389.8200572149,
          106652.38865354471,
          107209.84501033585,
          107770.65355289653,
          108355.14237109949,
          108940.1719130394,
          109539.73071230791,
          110150.00461484084,
          110790.93084019868,
          111479.9833181393,
          112200.7991891774,
          112899.25675784974,
          113545.06242987516,
          114171.5248019484,
          114807.91038157008,
          115499.17340371221,
          116226.91605810246,
          116979.33100031568,
          117722.67189362446,
          118464.66811666715,
          119208.9512149882,
          119984.91991683382,
          120756.36289814365,
          121502.7002440862,
          122236.04576619377,
          122965.90091329084,
          123723.69948870772,
          124525.62652404528,
          125392.50534789411,
          126323.38942201504,
          127266.03409114903,
          128217.48452848704,
          129214.83848245026,
          130247.87567374027,
          131265.52379951606,
          132212.08447375143,
          133092.86016170346,
          133934.37858753753,
          134786.78279256797,
          135727.8494643088,
          136734.7191284372,
          137767.54594492732,
          138942.38196133752,
          140245.16770333142,
          141630.88940176353,
          142831.41146360032,
          143894.8607843288,
          144835.1731929285,
          145837.50251971593,
          146841.92964649547,
          147929.5186441168,
          149247.4400039237,
          150697.5050022675,
          152203.2620697768,
          153528.26206662811,
          154822.17926400504,
          156103.49614983966,
          157471.23733581472,
          158814.8127247445,
          160110.94498713364,
          161354.9458654632,
          162620.16563377346,
          163944.18056631225,
          165250.46255588642,
          166544.83702401404,
          167813.07850341903,
          169192.17046600627,
          170579.1571538255,
          171971.66895009356,
          173262.35008999705,
          174413.42421584402,
          175440.45962794058,
          176247.8012216033,
          176998.86927115577,
          177713.57969594965,
          178456.19001116586,
          179133.81371450075,
          179654.78546712702,
          180117.4739458699,
          180463.58501573594,
          180774.7091421992,
          180933.5285615936,
          181014.3183470799,
          181108.29984324882,
          181210.45740561906,
          181299.18917373347,
          181346.92758317883,
          181361.36667308913,
          181292.856856668,
          181120.29835599536,
          181036.6716305731,
          181063.55353068025,
          181117.1367965295,
          181074.48779287972,
          180907.2508025324,
          180707.27601195328,
          180435.52422443638,
          180101.44435154978,
          179644.40773807434,
          179139.70441464524,
          178575.79959343822,
          177908.37448380963,
          177134.87851522426,
          176277.4307020119,
          175368.5941066801,
          174445.66081434555,
          173610.900837493,
          172992.04295621614,
          172503.50974167796,
          171967.22134660237,
          171280.95051397439,
          170380.5789441138,
          169415.0326876874,
          168440.2537957395,
          167620.15231489183,
          166974.2274890678,
          166496.45968076112,
          166160.08085764822,
          165914.59746958304,
          165800.3602072408,
          165824.1936566747,
          165929.72097318686,
          166132.32903491092,
          166270.41192789876,
          166391.50181737586,
          166332.5797343056,
          166153.66711268318,
          165776.15428186324,
          165230.01877179943,
          164592.03051345787,
          163929.21034295193,
          163358.7528978762,
          162871.4069775898,
          162441.93694268298,
          162004.88983631448,
          161489.86695477559,
          160936.6775460687,
          160410.93793359434,
          159947.38144760745,
          159552.2824608645,
          159141.344438289,
          158775.157912474,
          158431.30322722316,
          158193.22623569443,
          158184.11039586083,
          158494.5792301877,
          158877.3079125061,
          159244.3338290646,
          159434.18079397798,
          159608.5712998044,
          159586.00742187924,
          159622.89357976374,
          159599.10722206623,
          159639.75452198499,
          159660.1879420614,
          159793.20989916005,
          160024.2601715821,
          160376.90440401694,
          160826.2401418916,
          161458.0063844443,
          162102.11599985353,
          162565.92727035092,
          162898.34242875405,
          163111.47428418222,
          163443.0917761823,
          163632.799641411,
          163796.22111547407,
          163975.7189451074,
          164245.11081114117,
          164603.5468783409,
          165028.71537035148,
          165624.29550670105,
          166107.57775819316,
          166539.89994180689,
          166691.12152811303,
          166741.58469992894,
          166449.06717299428,
          166259.2152569559,
          166183.60244357216,
          166258.0202988341,
          166374.5553255226,
          166606.66035100806,
          167057.78111115997,
          167670.68487698305,
          168259.3085667865,
          168905.00946865848,
          169582.87883243134,
          170272.52653289307,
          170881.50909183844,
          171242.37118548993,
          171580.06625672622,
          171942.72127903177,
          172285.95964376925,
          172318.23411076056,
          172335.77767948626,
          172588.71773696964,
          173156.25269910635,
          173591.76471834234,
          173909.63894702948,
          174221.99650014957,
          174711.60289265832,
          175276.8223086974,
          175994.90559555608,
          176652.68004465319,
          177201.70275894908,
          177660.7841125816,
          178259.85931270602,
          178954.38860212348,
          179633.1319279708,
          180338.02668541236,
          181040.93189422172,
          181773.7046959254,
          182495.5901823936,
          183268.2138680432,
          183996.23771415724,
          184662.25234248507,
          185155.39348797634,
          185894.54418806641,
          186625.18814237945,
          187449.25018669784,
          188056.4250661346,
          188825.52711737508,
          189593.4285496402,
          190302.7167724162,
          190604.92821404198,
          190831.52639028098,
          190996.25998872585,
          191309.63274516127,
          191864.08928852074,
          192666.86152274325,
          193509.83198918006,
          194084.29300628492,
          194617.38089844992,
          195182.3870528228,
          195823.88531134292,
          196349.3061280055,
          197070.0295863255,
          198021.8242616223,
          199051.7215993622,
          199959.56661409026,
          200889.59837422977,
          201953.19645188045,
          203191.52399414335,
          204003.8444583349,
          204472.50932281994,
          204989.9309914297,
          206353.14117580213,
          209017.40065058396,
          212414.0181008945,
          216311.83003634552,
          219989.9084020534,
          223313.9857907445,
          226540.21266817077,
          229779.2796691988,
          233270.00431029758,
          237129.6119655192,
          241306.79836745613,
          244737.24440025788,
          246562.8785458235,
          246847.0480827591,
          247097.34003314754,
          248061.78370862306,
          249636.35015751142,
          252598.92237952133,
          256549.66001428658,
          261499.45856828825,
          266262.1262335242,
          270398.452739774,
          274009.1748163919,
          275952.7561297554,
          276207.586734533,
          275132.12215648877,
          274353.50414909713,
          274171.8374150788,
          274289.7851193378,
          274330.68054620095,
          274522.84345885814,
          275239.14023428585,
          276692.05376369937,
          278807.855781696,
          281358.67966963863,
          283805.85339147685,
          286034.24996221345,
          287824.0270503295,
          289202.93051030976,
          290235.4181172985,
          290917.6945384988,
          291324.18422846927,
          292044.6454535018,
          293637.11934664164,
          295975.93023896933,
          298205.3678947263,
          299725.1916208614,
          300634.066654173,
          301556.91601865244,
          302501.12434132176,
          303514.03899941355,
          304120.8841698552,
          304816.68047567026,
          305372.0511964293
         ],
         "yaxis": "y"
        },
        {
         "customdata": [
          [
           "South"
          ],
          [
           "South"
          ],
          [
           "South"
          ],
          [
           "South"
          ],
          [
           "South"
          ],
          [
           "South"
          ],
          [
           "South"
          ],
          [
           "South"
          ],
          [
           "South"
          ],
          [
           "South"
          ],
          [
           "South"
          ],
          [
           "South"
          ],
          [
           "South"
          ],
          [
           "South"
          ],
          [
           "South"
          ],
          [
           "South"
          ],
          [
           "South"
          ],
          [
           "South"
          ],
          [
           "South"
          ],
          [
           "South"
          ],
          [
           "South"
          ],
          [
           "South"
          ],
          [
           "South"
          ],
          [
           "South"
          ],
          [
           "South"
          ],
          [
           "South"
          ],
          [
           "South"
          ],
          [
           "South"
          ],
          [
           "South"
          ],
          [
           "South"
          ],
          [
           "South"
          ],
          [
           "South"
          ],
          [
           "South"
          ],
          [
           "South"
          ],
          [
           "South"
          ],
          [
           "South"
          ],
          [
           "South"
          ],
          [
           "South"
          ],
          [
           "South"
          ],
          [
           "South"
          ],
          [
           "South"
          ],
          [
           "South"
          ],
          [
           "South"
          ],
          [
           "South"
          ],
          [
           "South"
          ],
          [
           "South"
          ],
          [
           "South"
          ],
          [
           "South"
          ],
          [
           "South"
          ],
          [
           "South"
          ],
          [
           "South"
          ],
          [
           "South"
          ],
          [
           "South"
          ],
          [
           "South"
          ],
          [
           "South"
          ],
          [
           "South"
          ],
          [
           "South"
          ],
          [
           "South"
          ],
          [
           "South"
          ],
          [
           "South"
          ],
          [
           "South"
          ],
          [
           "South"
          ],
          [
           "South"
          ],
          [
           "South"
          ],
          [
           "South"
          ],
          [
           "South"
          ],
          [
           "South"
          ],
          [
           "South"
          ],
          [
           "South"
          ],
          [
           "South"
          ],
          [
           "South"
          ],
          [
           "South"
          ],
          [
           "South"
          ],
          [
           "South"
          ],
          [
           "South"
          ],
          [
           "South"
          ],
          [
           "South"
          ],
          [
           "South"
          ],
          [
           "South"
          ],
          [
           "South"
          ],
          [
           "South"
          ],
          [
           "South"
          ],
          [
           "South"
          ],
          [
           "South"
          ],
          [
           "South"
          ],
          [
           "South"
          ],
          [
           "South"
          ],
          [
           "South"
          ],
          [
           "South"
          ],
          [
           "South"
          ],
          [
           "South"
          ],
          [
           "South"
          ],
          [
           "South"
          ],
          [
           "South"
          ],
          [
           "South"
          ],
          [
           "South"
          ],
          [
           "South"
          ],
          [
           "South"
          ],
          [
           "South"
          ],
          [
           "South"
          ],
          [
           "South"
          ],
          [
           "South"
          ],
          [
           "South"
          ],
          [
           "South"
          ],
          [
           "South"
          ],
          [
           "South"
          ],
          [
           "South"
          ],
          [
           "South"
          ],
          [
           "South"
          ],
          [
           "South"
          ],
          [
           "South"
          ],
          [
           "South"
          ],
          [
           "South"
          ],
          [
           "South"
          ],
          [
           "South"
          ],
          [
           "South"
          ],
          [
           "South"
          ],
          [
           "South"
          ],
          [
           "South"
          ],
          [
           "South"
          ],
          [
           "South"
          ],
          [
           "South"
          ],
          [
           "South"
          ],
          [
           "South"
          ],
          [
           "South"
          ],
          [
           "South"
          ],
          [
           "South"
          ],
          [
           "South"
          ],
          [
           "South"
          ],
          [
           "South"
          ],
          [
           "South"
          ],
          [
           "South"
          ],
          [
           "South"
          ],
          [
           "South"
          ],
          [
           "South"
          ],
          [
           "South"
          ],
          [
           "South"
          ],
          [
           "South"
          ],
          [
           "South"
          ],
          [
           "South"
          ],
          [
           "South"
          ],
          [
           "South"
          ],
          [
           "South"
          ],
          [
           "South"
          ],
          [
           "South"
          ],
          [
           "South"
          ],
          [
           "South"
          ],
          [
           "South"
          ],
          [
           "South"
          ],
          [
           "South"
          ],
          [
           "South"
          ],
          [
           "South"
          ],
          [
           "South"
          ],
          [
           "South"
          ],
          [
           "South"
          ],
          [
           "South"
          ],
          [
           "South"
          ],
          [
           "South"
          ],
          [
           "South"
          ],
          [
           "South"
          ],
          [
           "South"
          ],
          [
           "South"
          ],
          [
           "South"
          ],
          [
           "South"
          ],
          [
           "South"
          ],
          [
           "South"
          ],
          [
           "South"
          ],
          [
           "South"
          ],
          [
           "South"
          ],
          [
           "South"
          ],
          [
           "South"
          ],
          [
           "South"
          ],
          [
           "South"
          ],
          [
           "South"
          ],
          [
           "South"
          ],
          [
           "South"
          ],
          [
           "South"
          ],
          [
           "South"
          ],
          [
           "South"
          ],
          [
           "South"
          ],
          [
           "South"
          ],
          [
           "South"
          ],
          [
           "South"
          ],
          [
           "South"
          ],
          [
           "South"
          ],
          [
           "South"
          ],
          [
           "South"
          ],
          [
           "South"
          ],
          [
           "South"
          ],
          [
           "South"
          ],
          [
           "South"
          ],
          [
           "South"
          ],
          [
           "South"
          ],
          [
           "South"
          ],
          [
           "South"
          ],
          [
           "South"
          ],
          [
           "South"
          ],
          [
           "South"
          ],
          [
           "South"
          ],
          [
           "South"
          ],
          [
           "South"
          ],
          [
           "South"
          ],
          [
           "South"
          ],
          [
           "South"
          ],
          [
           "South"
          ],
          [
           "South"
          ],
          [
           "South"
          ],
          [
           "South"
          ],
          [
           "South"
          ],
          [
           "South"
          ],
          [
           "South"
          ],
          [
           "South"
          ],
          [
           "South"
          ],
          [
           "South"
          ],
          [
           "South"
          ],
          [
           "South"
          ],
          [
           "South"
          ],
          [
           "South"
          ],
          [
           "South"
          ],
          [
           "South"
          ],
          [
           "South"
          ],
          [
           "South"
          ],
          [
           "South"
          ],
          [
           "South"
          ],
          [
           "South"
          ],
          [
           "South"
          ],
          [
           "South"
          ],
          [
           "South"
          ],
          [
           "South"
          ],
          [
           "South"
          ],
          [
           "South"
          ],
          [
           "South"
          ],
          [
           "South"
          ],
          [
           "South"
          ],
          [
           "South"
          ],
          [
           "South"
          ],
          [
           "South"
          ],
          [
           "South"
          ],
          [
           "South"
          ],
          [
           "South"
          ],
          [
           "South"
          ],
          [
           "South"
          ],
          [
           "South"
          ],
          [
           "South"
          ],
          [
           "South"
          ],
          [
           "South"
          ],
          [
           "South"
          ],
          [
           "South"
          ],
          [
           "South"
          ],
          [
           "South"
          ],
          [
           "South"
          ],
          [
           "South"
          ],
          [
           "South"
          ],
          [
           "South"
          ],
          [
           "South"
          ],
          [
           "South"
          ],
          [
           "South"
          ],
          [
           "South"
          ],
          [
           "South"
          ],
          [
           "South"
          ],
          [
           "South"
          ],
          [
           "South"
          ],
          [
           "South"
          ],
          [
           "South"
          ],
          [
           "South"
          ],
          [
           "South"
          ],
          [
           "South"
          ],
          [
           "South"
          ],
          [
           "South"
          ],
          [
           "South"
          ],
          [
           "South"
          ],
          [
           "South"
          ],
          [
           "South"
          ],
          [
           "South"
          ],
          [
           "South"
          ],
          [
           "South"
          ],
          [
           "South"
          ],
          [
           "South"
          ],
          [
           "South"
          ],
          [
           "South"
          ],
          [
           "South"
          ],
          [
           "South"
          ],
          [
           "South"
          ],
          [
           "South"
          ],
          [
           "South"
          ],
          [
           "South"
          ],
          [
           "South"
          ],
          [
           "South"
          ],
          [
           "South"
          ],
          [
           "South"
          ],
          [
           "South"
          ],
          [
           "South"
          ],
          [
           "South"
          ],
          [
           "South"
          ],
          [
           "South"
          ],
          [
           "South"
          ],
          [
           "South"
          ],
          [
           "South"
          ],
          [
           "South"
          ],
          [
           "South"
          ],
          [
           "South"
          ]
         ],
         "hovertemplate": "RegionName=%{customdata[0]}<br>Year (2000-2024)=%{x}<br>Log of House Value ($)=%{y}<extra></extra>",
         "legendgroup": "South",
         "line": {
          "color": "#00cc96",
          "dash": "solid"
         },
         "marker": {
          "size": 3,
          "symbol": "circle"
         },
         "mode": "lines",
         "name": "South",
         "showlegend": true,
         "type": "scattergl",
         "x": [
          "2000-01-31T00:00:00",
          "2000-02-29T00:00:00",
          "2000-03-31T00:00:00",
          "2000-04-30T00:00:00",
          "2000-05-31T00:00:00",
          "2000-06-30T00:00:00",
          "2000-07-31T00:00:00",
          "2000-08-31T00:00:00",
          "2000-09-30T00:00:00",
          "2000-10-31T00:00:00",
          "2000-11-30T00:00:00",
          "2000-12-31T00:00:00",
          "2001-01-31T00:00:00",
          "2001-02-28T00:00:00",
          "2001-03-31T00:00:00",
          "2001-04-30T00:00:00",
          "2001-05-31T00:00:00",
          "2001-06-30T00:00:00",
          "2001-07-31T00:00:00",
          "2001-08-31T00:00:00",
          "2001-09-30T00:00:00",
          "2001-10-31T00:00:00",
          "2001-11-30T00:00:00",
          "2001-12-31T00:00:00",
          "2002-01-31T00:00:00",
          "2002-02-28T00:00:00",
          "2002-03-31T00:00:00",
          "2002-04-30T00:00:00",
          "2002-05-31T00:00:00",
          "2002-06-30T00:00:00",
          "2002-07-31T00:00:00",
          "2002-08-31T00:00:00",
          "2002-09-30T00:00:00",
          "2002-10-31T00:00:00",
          "2002-11-30T00:00:00",
          "2002-12-31T00:00:00",
          "2003-01-31T00:00:00",
          "2003-02-28T00:00:00",
          "2003-03-31T00:00:00",
          "2003-04-30T00:00:00",
          "2003-05-31T00:00:00",
          "2003-06-30T00:00:00",
          "2003-07-31T00:00:00",
          "2003-08-31T00:00:00",
          "2003-09-30T00:00:00",
          "2003-10-31T00:00:00",
          "2003-11-30T00:00:00",
          "2003-12-31T00:00:00",
          "2004-01-31T00:00:00",
          "2004-02-29T00:00:00",
          "2004-03-31T00:00:00",
          "2004-04-30T00:00:00",
          "2004-05-31T00:00:00",
          "2004-06-30T00:00:00",
          "2004-07-31T00:00:00",
          "2004-08-31T00:00:00",
          "2004-09-30T00:00:00",
          "2004-10-31T00:00:00",
          "2004-11-30T00:00:00",
          "2004-12-31T00:00:00",
          "2005-01-31T00:00:00",
          "2005-02-28T00:00:00",
          "2005-03-31T00:00:00",
          "2005-04-30T00:00:00",
          "2005-05-31T00:00:00",
          "2005-06-30T00:00:00",
          "2005-07-31T00:00:00",
          "2005-08-31T00:00:00",
          "2005-09-30T00:00:00",
          "2005-10-31T00:00:00",
          "2005-11-30T00:00:00",
          "2005-12-31T00:00:00",
          "2006-01-31T00:00:00",
          "2006-02-28T00:00:00",
          "2006-03-31T00:00:00",
          "2006-04-30T00:00:00",
          "2006-05-31T00:00:00",
          "2006-06-30T00:00:00",
          "2006-07-31T00:00:00",
          "2006-08-31T00:00:00",
          "2006-09-30T00:00:00",
          "2006-10-31T00:00:00",
          "2006-11-30T00:00:00",
          "2006-12-31T00:00:00",
          "2007-01-31T00:00:00",
          "2007-02-28T00:00:00",
          "2007-03-31T00:00:00",
          "2007-04-30T00:00:00",
          "2007-05-31T00:00:00",
          "2007-06-30T00:00:00",
          "2007-07-31T00:00:00",
          "2007-08-31T00:00:00",
          "2007-09-30T00:00:00",
          "2007-10-31T00:00:00",
          "2007-11-30T00:00:00",
          "2007-12-31T00:00:00",
          "2008-01-31T00:00:00",
          "2008-02-29T00:00:00",
          "2008-03-31T00:00:00",
          "2008-04-30T00:00:00",
          "2008-05-31T00:00:00",
          "2008-06-30T00:00:00",
          "2008-07-31T00:00:00",
          "2008-08-31T00:00:00",
          "2008-09-30T00:00:00",
          "2008-10-31T00:00:00",
          "2008-11-30T00:00:00",
          "2008-12-31T00:00:00",
          "2009-01-31T00:00:00",
          "2009-02-28T00:00:00",
          "2009-03-31T00:00:00",
          "2009-04-30T00:00:00",
          "2009-05-31T00:00:00",
          "2009-06-30T00:00:00",
          "2009-07-31T00:00:00",
          "2009-08-31T00:00:00",
          "2009-09-30T00:00:00",
          "2009-10-31T00:00:00",
          "2009-11-30T00:00:00",
          "2009-12-31T00:00:00",
          "2010-01-31T00:00:00",
          "2010-02-28T00:00:00",
          "2010-03-31T00:00:00",
          "2010-04-30T00:00:00",
          "2010-05-31T00:00:00",
          "2010-06-30T00:00:00",
          "2010-07-31T00:00:00",
          "2010-08-31T00:00:00",
          "2010-09-30T00:00:00",
          "2010-10-31T00:00:00",
          "2010-11-30T00:00:00",
          "2010-12-31T00:00:00",
          "2011-01-31T00:00:00",
          "2011-02-28T00:00:00",
          "2011-03-31T00:00:00",
          "2011-04-30T00:00:00",
          "2011-05-31T00:00:00",
          "2011-06-30T00:00:00",
          "2011-07-31T00:00:00",
          "2011-08-31T00:00:00",
          "2011-09-30T00:00:00",
          "2011-10-31T00:00:00",
          "2011-11-30T00:00:00",
          "2011-12-31T00:00:00",
          "2012-01-31T00:00:00",
          "2012-02-29T00:00:00",
          "2012-03-31T00:00:00",
          "2012-04-30T00:00:00",
          "2012-05-31T00:00:00",
          "2012-06-30T00:00:00",
          "2012-07-31T00:00:00",
          "2012-08-31T00:00:00",
          "2012-09-30T00:00:00",
          "2012-10-31T00:00:00",
          "2012-11-30T00:00:00",
          "2012-12-31T00:00:00",
          "2013-01-31T00:00:00",
          "2013-02-28T00:00:00",
          "2013-03-31T00:00:00",
          "2013-04-30T00:00:00",
          "2013-05-31T00:00:00",
          "2013-06-30T00:00:00",
          "2013-07-31T00:00:00",
          "2013-08-31T00:00:00",
          "2013-09-30T00:00:00",
          "2013-10-31T00:00:00",
          "2013-11-30T00:00:00",
          "2013-12-31T00:00:00",
          "2014-01-31T00:00:00",
          "2014-02-28T00:00:00",
          "2014-03-31T00:00:00",
          "2014-04-30T00:00:00",
          "2014-05-31T00:00:00",
          "2014-06-30T00:00:00",
          "2014-07-31T00:00:00",
          "2014-08-31T00:00:00",
          "2014-09-30T00:00:00",
          "2014-10-31T00:00:00",
          "2014-11-30T00:00:00",
          "2014-12-31T00:00:00",
          "2015-01-31T00:00:00",
          "2015-02-28T00:00:00",
          "2015-03-31T00:00:00",
          "2015-04-30T00:00:00",
          "2015-05-31T00:00:00",
          "2015-06-30T00:00:00",
          "2015-07-31T00:00:00",
          "2015-08-31T00:00:00",
          "2015-09-30T00:00:00",
          "2015-10-31T00:00:00",
          "2015-11-30T00:00:00",
          "2015-12-31T00:00:00",
          "2016-01-31T00:00:00",
          "2016-02-29T00:00:00",
          "2016-03-31T00:00:00",
          "2016-04-30T00:00:00",
          "2016-05-31T00:00:00",
          "2016-06-30T00:00:00",
          "2016-07-31T00:00:00",
          "2016-08-31T00:00:00",
          "2016-09-30T00:00:00",
          "2016-10-31T00:00:00",
          "2016-11-30T00:00:00",
          "2016-12-31T00:00:00",
          "2017-01-31T00:00:00",
          "2017-02-28T00:00:00",
          "2017-03-31T00:00:00",
          "2017-04-30T00:00:00",
          "2017-05-31T00:00:00",
          "2017-06-30T00:00:00",
          "2017-07-31T00:00:00",
          "2017-08-31T00:00:00",
          "2017-09-30T00:00:00",
          "2017-10-31T00:00:00",
          "2017-11-30T00:00:00",
          "2017-12-31T00:00:00",
          "2018-01-31T00:00:00",
          "2018-02-28T00:00:00",
          "2018-03-31T00:00:00",
          "2018-04-30T00:00:00",
          "2018-05-31T00:00:00",
          "2018-06-30T00:00:00",
          "2018-07-31T00:00:00",
          "2018-08-31T00:00:00",
          "2018-09-30T00:00:00",
          "2018-10-31T00:00:00",
          "2018-11-30T00:00:00",
          "2018-12-31T00:00:00",
          "2019-01-31T00:00:00",
          "2019-02-28T00:00:00",
          "2019-03-31T00:00:00",
          "2019-04-30T00:00:00",
          "2019-05-31T00:00:00",
          "2019-06-30T00:00:00",
          "2019-07-31T00:00:00",
          "2019-08-31T00:00:00",
          "2019-09-30T00:00:00",
          "2019-10-31T00:00:00",
          "2019-11-30T00:00:00",
          "2019-12-31T00:00:00",
          "2020-01-31T00:00:00",
          "2020-02-29T00:00:00",
          "2020-03-31T00:00:00",
          "2020-04-30T00:00:00",
          "2020-05-31T00:00:00",
          "2020-06-30T00:00:00",
          "2020-07-31T00:00:00",
          "2020-08-31T00:00:00",
          "2020-09-30T00:00:00",
          "2020-10-31T00:00:00",
          "2020-11-30T00:00:00",
          "2020-12-31T00:00:00",
          "2021-01-31T00:00:00",
          "2021-02-28T00:00:00",
          "2021-03-31T00:00:00",
          "2021-04-30T00:00:00",
          "2021-05-31T00:00:00",
          "2021-06-30T00:00:00",
          "2021-07-31T00:00:00",
          "2021-08-31T00:00:00",
          "2021-09-30T00:00:00",
          "2021-10-31T00:00:00",
          "2021-11-30T00:00:00",
          "2021-12-31T00:00:00",
          "2022-01-31T00:00:00",
          "2022-02-28T00:00:00",
          "2022-03-31T00:00:00",
          "2022-04-30T00:00:00",
          "2022-05-31T00:00:00",
          "2022-06-30T00:00:00",
          "2022-07-31T00:00:00",
          "2022-08-31T00:00:00",
          "2022-09-30T00:00:00",
          "2022-10-31T00:00:00",
          "2022-11-30T00:00:00",
          "2022-12-31T00:00:00",
          "2023-01-31T00:00:00",
          "2023-02-28T00:00:00",
          "2023-03-31T00:00:00",
          "2023-04-30T00:00:00",
          "2023-05-31T00:00:00",
          "2023-06-30T00:00:00",
          "2023-07-31T00:00:00",
          "2023-08-31T00:00:00",
          "2023-09-30T00:00:00",
          "2023-10-31T00:00:00",
          "2023-11-30T00:00:00",
          "2023-12-31T00:00:00",
          "2024-01-31T00:00:00",
          "2024-02-29T00:00:00",
          "2024-03-31T00:00:00",
          "2024-04-30T00:00:00",
          "2024-05-31T00:00:00",
          "2024-06-30T00:00:00",
          "2024-07-31T00:00:00",
          "2024-08-31T00:00:00",
          "2024-09-30T00:00:00",
          "2024-10-31T00:00:00",
          "2024-11-30T00:00:00",
          "2024-12-31T00:00:00",
          "2025-01-31T00:00:00"
         ],
         "xaxis": "x",
         "y": [
          100839.24121343093,
          100907.55961128543,
          101005.07586776014,
          101205.07076562254,
          101439.19754795308,
          101681.17308778431,
          101934.35039789132,
          102203.12621740984,
          102481.34996113487,
          102749.65973789849,
          103055.41566167389,
          103405.31346585012,
          103808.11204080872,
          104129.70972208558,
          104404.44315703287,
          104637.86294178333,
          104910.7371210275,
          105178.40899896254,
          105447.14382349885,
          105713.68622337459,
          105983.42000775023,
          106245.18340318555,
          106475.95590234731,
          106682.44219360592,
          106849.63023048775,
          107026.78135740037,
          107212.11162139422,
          107431.19375325754,
          107694.90326807273,
          107976.7173450435,
          108292.09542399926,
          108591.60100149161,
          108896.46198584531,
          109192.65472850263,
          109478.77461566348,
          109751.39324776604,
          109979.35373492962,
          110219.08583849839,
          110476.66559587835,
          110776.58902421438,
          111085.4378954959,
          111397.23399911444,
          111720.75630835102,
          112073.10967108326,
          112459.9081704214,
          112844.4786433063,
          113209.16620438115,
          113580.91761927055,
          113934.20483120298,
          114323.74230808491,
          114746.16594224471,
          115224.59517915465,
          115730.88471522718,
          116294.48372743386,
          116911.65079513789,
          117562.64606309727,
          118228.11747054559,
          118893.64850699659,
          119522.58148166678,
          120118.87804534579,
          120679.16123238948,
          121274.93492468317,
          121922.58801180622,
          122708.3618534134,
          123563.69955822275,
          124472.53974996286,
          125421.89294807852,
          126380.40785210457,
          127307.84895814076,
          128194.72367416327,
          129037.00596362496,
          129849.91084888947,
          130585.1152823736,
          131328.10648706686,
          132082.9852740829,
          132890.2048920799,
          133651.89411691437,
          134351.1854811463,
          134953.7298943109,
          135502.70108075856,
          135958.0552684158,
          136330.1728618646,
          136595.72265075706,
          136787.8987561607,
          136921.2060132106,
          137055.3177563463,
          137229.61472283612,
          137382.7962137213,
          137438.4141761783,
          137383.18554019093,
          137238.34207522834,
          137110.28331223302,
          136961.95630920725,
          136788.57396445223,
          136536.88394885554,
          136238.56842143263,
          135902.83287232346,
          135571.5831387921,
          135187.2967513621,
          134785.82374255912,
          134332.46752651237,
          133871.8269855673,
          133384.63665731376,
          132848.44015943265,
          132262.64460283014,
          131667.36545179994,
          131064.4646579503,
          130452.61152284582,
          129894.45056409872,
          129370.5300479315,
          128867.77032043006,
          128300.47246166757,
          127701.00190596556,
          127069.41677067839,
          126455.53496099518,
          125834.9935583865,
          125221.9325840926,
          124637.83148882969,
          124158.00695399827,
          123751.64272643578,
          123452.24770698261,
          123182.2358468193,
          122995.0475194677,
          122854.97671374986,
          122782.39506692672,
          122685.50121397171,
          122502.0850171699,
          122198.52284991388,
          121806.22631392625,
          121370.5551595268,
          120848.93355528648,
          120310.74407436028,
          119747.00717037573,
          119229.38117957402,
          118743.63680793328,
          118291.14776778487,
          117894.81724164805,
          117554.59029786085,
          117307.03656166309,
          117101.60370919808,
          116926.50970883021,
          116689.6158345135,
          116464.81676741327,
          116240.00717554078,
          116114.06443149058,
          116126.61060181662,
          116287.6360517261,
          116561.410496073,
          116981.66745716565,
          117456.37205984318,
          117912.63468939159,
          118083.31985070523,
          118226.30684324427,
          118292.56092794926,
          118405.0146579149,
          118515.76331070697,
          118707.65796870901,
          118938.13680244566,
          119273.24353609279,
          119645.11485800674,
          120133.48556928211,
          120672.50094133495,
          121121.12953158602,
          121660.99586894274,
          122080.98159256153,
          122558.18951463072,
          122751.03142363261,
          122932.43509471792,
          123175.72256311815,
          123626.11211359169,
          124036.6948805063,
          124462.02868564105,
          124914.56954420233,
          125411.31627055383,
          125936.69499146234,
          126380.2995118699,
          126700.67699776845,
          126773.39874481171,
          126907.86134428067,
          127172.81658837428,
          127509.28093384103,
          127824.87022942046,
          128194.15442427155,
          128756.32223588438,
          129463.83000644034,
          130139.21750545995,
          130817.2141391417,
          131461.063943,
          132146.17839281537,
          132857.88962148523,
          133413.33978821186,
          133956.85811596346,
          134502.0995501224,
          135051.66710268616,
          135314.7994825038,
          135530.32202455527,
          135788.2289747116,
          136268.21299392573,
          136567.3475192586,
          136878.8923890692,
          137225.48014967077,
          137800.24836290668,
          138354.04515353747,
          138854.3018998602,
          139223.02431894516,
          139555.5343975378,
          139864.97284079032,
          140254.9823594132,
          140619.41184065444,
          141013.71357468975,
          141488.6399634754,
          142075.03220792228,
          142758.42097041113,
          143463.39844756128,
          144182.98761422533,
          144855.06005101005,
          145475.42516127272,
          146038.84726650204,
          146842.48321677794,
          147592.9622565532,
          148294.44261903377,
          148653.8423107768,
          149187.93310984896,
          149723.42786587274,
          150386.2411481982,
          150768.09443566253,
          151311.3731800725,
          151905.68337482112,
          152610.43055717633,
          153356.49806562733,
          154218.69079878335,
          155061.00531621455,
          155756.68745201957,
          156363.01042753356,
          156942.98174602378,
          157527.98915389227,
          157992.32572207318,
          158657.83525067798,
          159517.47369103078,
          160542.07127395534,
          161445.15182629047,
          162299.83756647634,
          163200.61189259644,
          164169.14099702926,
          164849.11194429078,
          165327.92902712114,
          165998.67040455702,
          167333.64107442452,
          169473.7741184347,
          171803.80899322525,
          174106.37129097586,
          176070.59625868493,
          177988.39983893573,
          180080.18331868725,
          182345.2739597826,
          184779.01745558757,
          187492.4273017716,
          190636.9296237639,
          193589.16931805463,
          195857.65512765318,
          197325.91544667954,
          198977.6190577413,
          201202.71873458105,
          203696.9481247235,
          206802.79089222173,
          210130.36277303795,
          213710.25850956017,
          217127.56713617753,
          220250.57580502116,
          223326.13513506227,
          225331.9488128114,
          226140.5645359646,
          225773.53282285764,
          225314.87435420748,
          224874.01976445288,
          224364.79657582415,
          223594.15812084213,
          223102.16789131006,
          223376.6453504673,
          224435.9313148659,
          225889.4038757141,
          227289.11267267633,
          228273.33849920725,
          228927.2411149679,
          229346.93739606824,
          229650.19849775435,
          229961.10665915484,
          230092.51674179905,
          230082.3389946231,
          230356.509919874,
          231343.67673422507,
          232873.1500788624,
          234194.6299842202,
          234878.6604137051,
          235024.97606903323,
          234992.111685944,
          234815.92327586253,
          234794.91754784677,
          234806.15189604534,
          235338.0280474793,
          235932.91346098276
         ],
         "yaxis": "y"
        },
        {
         "customdata": [
          [
           "West"
          ],
          [
           "West"
          ],
          [
           "West"
          ],
          [
           "West"
          ],
          [
           "West"
          ],
          [
           "West"
          ],
          [
           "West"
          ],
          [
           "West"
          ],
          [
           "West"
          ],
          [
           "West"
          ],
          [
           "West"
          ],
          [
           "West"
          ],
          [
           "West"
          ],
          [
           "West"
          ],
          [
           "West"
          ],
          [
           "West"
          ],
          [
           "West"
          ],
          [
           "West"
          ],
          [
           "West"
          ],
          [
           "West"
          ],
          [
           "West"
          ],
          [
           "West"
          ],
          [
           "West"
          ],
          [
           "West"
          ],
          [
           "West"
          ],
          [
           "West"
          ],
          [
           "West"
          ],
          [
           "West"
          ],
          [
           "West"
          ],
          [
           "West"
          ],
          [
           "West"
          ],
          [
           "West"
          ],
          [
           "West"
          ],
          [
           "West"
          ],
          [
           "West"
          ],
          [
           "West"
          ],
          [
           "West"
          ],
          [
           "West"
          ],
          [
           "West"
          ],
          [
           "West"
          ],
          [
           "West"
          ],
          [
           "West"
          ],
          [
           "West"
          ],
          [
           "West"
          ],
          [
           "West"
          ],
          [
           "West"
          ],
          [
           "West"
          ],
          [
           "West"
          ],
          [
           "West"
          ],
          [
           "West"
          ],
          [
           "West"
          ],
          [
           "West"
          ],
          [
           "West"
          ],
          [
           "West"
          ],
          [
           "West"
          ],
          [
           "West"
          ],
          [
           "West"
          ],
          [
           "West"
          ],
          [
           "West"
          ],
          [
           "West"
          ],
          [
           "West"
          ],
          [
           "West"
          ],
          [
           "West"
          ],
          [
           "West"
          ],
          [
           "West"
          ],
          [
           "West"
          ],
          [
           "West"
          ],
          [
           "West"
          ],
          [
           "West"
          ],
          [
           "West"
          ],
          [
           "West"
          ],
          [
           "West"
          ],
          [
           "West"
          ],
          [
           "West"
          ],
          [
           "West"
          ],
          [
           "West"
          ],
          [
           "West"
          ],
          [
           "West"
          ],
          [
           "West"
          ],
          [
           "West"
          ],
          [
           "West"
          ],
          [
           "West"
          ],
          [
           "West"
          ],
          [
           "West"
          ],
          [
           "West"
          ],
          [
           "West"
          ],
          [
           "West"
          ],
          [
           "West"
          ],
          [
           "West"
          ],
          [
           "West"
          ],
          [
           "West"
          ],
          [
           "West"
          ],
          [
           "West"
          ],
          [
           "West"
          ],
          [
           "West"
          ],
          [
           "West"
          ],
          [
           "West"
          ],
          [
           "West"
          ],
          [
           "West"
          ],
          [
           "West"
          ],
          [
           "West"
          ],
          [
           "West"
          ],
          [
           "West"
          ],
          [
           "West"
          ],
          [
           "West"
          ],
          [
           "West"
          ],
          [
           "West"
          ],
          [
           "West"
          ],
          [
           "West"
          ],
          [
           "West"
          ],
          [
           "West"
          ],
          [
           "West"
          ],
          [
           "West"
          ],
          [
           "West"
          ],
          [
           "West"
          ],
          [
           "West"
          ],
          [
           "West"
          ],
          [
           "West"
          ],
          [
           "West"
          ],
          [
           "West"
          ],
          [
           "West"
          ],
          [
           "West"
          ],
          [
           "West"
          ],
          [
           "West"
          ],
          [
           "West"
          ],
          [
           "West"
          ],
          [
           "West"
          ],
          [
           "West"
          ],
          [
           "West"
          ],
          [
           "West"
          ],
          [
           "West"
          ],
          [
           "West"
          ],
          [
           "West"
          ],
          [
           "West"
          ],
          [
           "West"
          ],
          [
           "West"
          ],
          [
           "West"
          ],
          [
           "West"
          ],
          [
           "West"
          ],
          [
           "West"
          ],
          [
           "West"
          ],
          [
           "West"
          ],
          [
           "West"
          ],
          [
           "West"
          ],
          [
           "West"
          ],
          [
           "West"
          ],
          [
           "West"
          ],
          [
           "West"
          ],
          [
           "West"
          ],
          [
           "West"
          ],
          [
           "West"
          ],
          [
           "West"
          ],
          [
           "West"
          ],
          [
           "West"
          ],
          [
           "West"
          ],
          [
           "West"
          ],
          [
           "West"
          ],
          [
           "West"
          ],
          [
           "West"
          ],
          [
           "West"
          ],
          [
           "West"
          ],
          [
           "West"
          ],
          [
           "West"
          ],
          [
           "West"
          ],
          [
           "West"
          ],
          [
           "West"
          ],
          [
           "West"
          ],
          [
           "West"
          ],
          [
           "West"
          ],
          [
           "West"
          ],
          [
           "West"
          ],
          [
           "West"
          ],
          [
           "West"
          ],
          [
           "West"
          ],
          [
           "West"
          ],
          [
           "West"
          ],
          [
           "West"
          ],
          [
           "West"
          ],
          [
           "West"
          ],
          [
           "West"
          ],
          [
           "West"
          ],
          [
           "West"
          ],
          [
           "West"
          ],
          [
           "West"
          ],
          [
           "West"
          ],
          [
           "West"
          ],
          [
           "West"
          ],
          [
           "West"
          ],
          [
           "West"
          ],
          [
           "West"
          ],
          [
           "West"
          ],
          [
           "West"
          ],
          [
           "West"
          ],
          [
           "West"
          ],
          [
           "West"
          ],
          [
           "West"
          ],
          [
           "West"
          ],
          [
           "West"
          ],
          [
           "West"
          ],
          [
           "West"
          ],
          [
           "West"
          ],
          [
           "West"
          ],
          [
           "West"
          ],
          [
           "West"
          ],
          [
           "West"
          ],
          [
           "West"
          ],
          [
           "West"
          ],
          [
           "West"
          ],
          [
           "West"
          ],
          [
           "West"
          ],
          [
           "West"
          ],
          [
           "West"
          ],
          [
           "West"
          ],
          [
           "West"
          ],
          [
           "West"
          ],
          [
           "West"
          ],
          [
           "West"
          ],
          [
           "West"
          ],
          [
           "West"
          ],
          [
           "West"
          ],
          [
           "West"
          ],
          [
           "West"
          ],
          [
           "West"
          ],
          [
           "West"
          ],
          [
           "West"
          ],
          [
           "West"
          ],
          [
           "West"
          ],
          [
           "West"
          ],
          [
           "West"
          ],
          [
           "West"
          ],
          [
           "West"
          ],
          [
           "West"
          ],
          [
           "West"
          ],
          [
           "West"
          ],
          [
           "West"
          ],
          [
           "West"
          ],
          [
           "West"
          ],
          [
           "West"
          ],
          [
           "West"
          ],
          [
           "West"
          ],
          [
           "West"
          ],
          [
           "West"
          ],
          [
           "West"
          ],
          [
           "West"
          ],
          [
           "West"
          ],
          [
           "West"
          ],
          [
           "West"
          ],
          [
           "West"
          ],
          [
           "West"
          ],
          [
           "West"
          ],
          [
           "West"
          ],
          [
           "West"
          ],
          [
           "West"
          ],
          [
           "West"
          ],
          [
           "West"
          ],
          [
           "West"
          ],
          [
           "West"
          ],
          [
           "West"
          ],
          [
           "West"
          ],
          [
           "West"
          ],
          [
           "West"
          ],
          [
           "West"
          ],
          [
           "West"
          ],
          [
           "West"
          ],
          [
           "West"
          ],
          [
           "West"
          ],
          [
           "West"
          ],
          [
           "West"
          ],
          [
           "West"
          ],
          [
           "West"
          ],
          [
           "West"
          ],
          [
           "West"
          ],
          [
           "West"
          ],
          [
           "West"
          ],
          [
           "West"
          ],
          [
           "West"
          ],
          [
           "West"
          ],
          [
           "West"
          ],
          [
           "West"
          ],
          [
           "West"
          ],
          [
           "West"
          ],
          [
           "West"
          ],
          [
           "West"
          ],
          [
           "West"
          ],
          [
           "West"
          ],
          [
           "West"
          ],
          [
           "West"
          ],
          [
           "West"
          ],
          [
           "West"
          ],
          [
           "West"
          ],
          [
           "West"
          ],
          [
           "West"
          ],
          [
           "West"
          ],
          [
           "West"
          ],
          [
           "West"
          ],
          [
           "West"
          ],
          [
           "West"
          ],
          [
           "West"
          ],
          [
           "West"
          ],
          [
           "West"
          ],
          [
           "West"
          ]
         ],
         "hovertemplate": "RegionName=%{customdata[0]}<br>Year (2000-2024)=%{x}<br>Log of House Value ($)=%{y}<extra></extra>",
         "legendgroup": "West",
         "line": {
          "color": "#ab63fa",
          "dash": "solid"
         },
         "marker": {
          "size": 3,
          "symbol": "circle"
         },
         "mode": "lines",
         "name": "West",
         "showlegend": true,
         "type": "scattergl",
         "x": [
          "2000-01-31T00:00:00",
          "2000-02-29T00:00:00",
          "2000-03-31T00:00:00",
          "2000-04-30T00:00:00",
          "2000-05-31T00:00:00",
          "2000-06-30T00:00:00",
          "2000-07-31T00:00:00",
          "2000-08-31T00:00:00",
          "2000-09-30T00:00:00",
          "2000-10-31T00:00:00",
          "2000-11-30T00:00:00",
          "2000-12-31T00:00:00",
          "2001-01-31T00:00:00",
          "2001-02-28T00:00:00",
          "2001-03-31T00:00:00",
          "2001-04-30T00:00:00",
          "2001-05-31T00:00:00",
          "2001-06-30T00:00:00",
          "2001-07-31T00:00:00",
          "2001-08-31T00:00:00",
          "2001-09-30T00:00:00",
          "2001-10-31T00:00:00",
          "2001-11-30T00:00:00",
          "2001-12-31T00:00:00",
          "2002-01-31T00:00:00",
          "2002-02-28T00:00:00",
          "2002-03-31T00:00:00",
          "2002-04-30T00:00:00",
          "2002-05-31T00:00:00",
          "2002-06-30T00:00:00",
          "2002-07-31T00:00:00",
          "2002-08-31T00:00:00",
          "2002-09-30T00:00:00",
          "2002-10-31T00:00:00",
          "2002-11-30T00:00:00",
          "2002-12-31T00:00:00",
          "2003-01-31T00:00:00",
          "2003-02-28T00:00:00",
          "2003-03-31T00:00:00",
          "2003-04-30T00:00:00",
          "2003-05-31T00:00:00",
          "2003-06-30T00:00:00",
          "2003-07-31T00:00:00",
          "2003-08-31T00:00:00",
          "2003-09-30T00:00:00",
          "2003-10-31T00:00:00",
          "2003-11-30T00:00:00",
          "2003-12-31T00:00:00",
          "2004-01-31T00:00:00",
          "2004-02-29T00:00:00",
          "2004-03-31T00:00:00",
          "2004-04-30T00:00:00",
          "2004-05-31T00:00:00",
          "2004-06-30T00:00:00",
          "2004-07-31T00:00:00",
          "2004-08-31T00:00:00",
          "2004-09-30T00:00:00",
          "2004-10-31T00:00:00",
          "2004-11-30T00:00:00",
          "2004-12-31T00:00:00",
          "2005-01-31T00:00:00",
          "2005-02-28T00:00:00",
          "2005-03-31T00:00:00",
          "2005-04-30T00:00:00",
          "2005-05-31T00:00:00",
          "2005-06-30T00:00:00",
          "2005-07-31T00:00:00",
          "2005-08-31T00:00:00",
          "2005-09-30T00:00:00",
          "2005-10-31T00:00:00",
          "2005-11-30T00:00:00",
          "2005-12-31T00:00:00",
          "2006-01-31T00:00:00",
          "2006-02-28T00:00:00",
          "2006-03-31T00:00:00",
          "2006-04-30T00:00:00",
          "2006-05-31T00:00:00",
          "2006-06-30T00:00:00",
          "2006-07-31T00:00:00",
          "2006-08-31T00:00:00",
          "2006-09-30T00:00:00",
          "2006-10-31T00:00:00",
          "2006-11-30T00:00:00",
          "2006-12-31T00:00:00",
          "2007-01-31T00:00:00",
          "2007-02-28T00:00:00",
          "2007-03-31T00:00:00",
          "2007-04-30T00:00:00",
          "2007-05-31T00:00:00",
          "2007-06-30T00:00:00",
          "2007-07-31T00:00:00",
          "2007-08-31T00:00:00",
          "2007-09-30T00:00:00",
          "2007-10-31T00:00:00",
          "2007-11-30T00:00:00",
          "2007-12-31T00:00:00",
          "2008-01-31T00:00:00",
          "2008-02-29T00:00:00",
          "2008-03-31T00:00:00",
          "2008-04-30T00:00:00",
          "2008-05-31T00:00:00",
          "2008-06-30T00:00:00",
          "2008-07-31T00:00:00",
          "2008-08-31T00:00:00",
          "2008-09-30T00:00:00",
          "2008-10-31T00:00:00",
          "2008-11-30T00:00:00",
          "2008-12-31T00:00:00",
          "2009-01-31T00:00:00",
          "2009-02-28T00:00:00",
          "2009-03-31T00:00:00",
          "2009-04-30T00:00:00",
          "2009-05-31T00:00:00",
          "2009-06-30T00:00:00",
          "2009-07-31T00:00:00",
          "2009-08-31T00:00:00",
          "2009-09-30T00:00:00",
          "2009-10-31T00:00:00",
          "2009-11-30T00:00:00",
          "2009-12-31T00:00:00",
          "2010-01-31T00:00:00",
          "2010-02-28T00:00:00",
          "2010-03-31T00:00:00",
          "2010-04-30T00:00:00",
          "2010-05-31T00:00:00",
          "2010-06-30T00:00:00",
          "2010-07-31T00:00:00",
          "2010-08-31T00:00:00",
          "2010-09-30T00:00:00",
          "2010-10-31T00:00:00",
          "2010-11-30T00:00:00",
          "2010-12-31T00:00:00",
          "2011-01-31T00:00:00",
          "2011-02-28T00:00:00",
          "2011-03-31T00:00:00",
          "2011-04-30T00:00:00",
          "2011-05-31T00:00:00",
          "2011-06-30T00:00:00",
          "2011-07-31T00:00:00",
          "2011-08-31T00:00:00",
          "2011-09-30T00:00:00",
          "2011-10-31T00:00:00",
          "2011-11-30T00:00:00",
          "2011-12-31T00:00:00",
          "2012-01-31T00:00:00",
          "2012-02-29T00:00:00",
          "2012-03-31T00:00:00",
          "2012-04-30T00:00:00",
          "2012-05-31T00:00:00",
          "2012-06-30T00:00:00",
          "2012-07-31T00:00:00",
          "2012-08-31T00:00:00",
          "2012-09-30T00:00:00",
          "2012-10-31T00:00:00",
          "2012-11-30T00:00:00",
          "2012-12-31T00:00:00",
          "2013-01-31T00:00:00",
          "2013-02-28T00:00:00",
          "2013-03-31T00:00:00",
          "2013-04-30T00:00:00",
          "2013-05-31T00:00:00",
          "2013-06-30T00:00:00",
          "2013-07-31T00:00:00",
          "2013-08-31T00:00:00",
          "2013-09-30T00:00:00",
          "2013-10-31T00:00:00",
          "2013-11-30T00:00:00",
          "2013-12-31T00:00:00",
          "2014-01-31T00:00:00",
          "2014-02-28T00:00:00",
          "2014-03-31T00:00:00",
          "2014-04-30T00:00:00",
          "2014-05-31T00:00:00",
          "2014-06-30T00:00:00",
          "2014-07-31T00:00:00",
          "2014-08-31T00:00:00",
          "2014-09-30T00:00:00",
          "2014-10-31T00:00:00",
          "2014-11-30T00:00:00",
          "2014-12-31T00:00:00",
          "2015-01-31T00:00:00",
          "2015-02-28T00:00:00",
          "2015-03-31T00:00:00",
          "2015-04-30T00:00:00",
          "2015-05-31T00:00:00",
          "2015-06-30T00:00:00",
          "2015-07-31T00:00:00",
          "2015-08-31T00:00:00",
          "2015-09-30T00:00:00",
          "2015-10-31T00:00:00",
          "2015-11-30T00:00:00",
          "2015-12-31T00:00:00",
          "2016-01-31T00:00:00",
          "2016-02-29T00:00:00",
          "2016-03-31T00:00:00",
          "2016-04-30T00:00:00",
          "2016-05-31T00:00:00",
          "2016-06-30T00:00:00",
          "2016-07-31T00:00:00",
          "2016-08-31T00:00:00",
          "2016-09-30T00:00:00",
          "2016-10-31T00:00:00",
          "2016-11-30T00:00:00",
          "2016-12-31T00:00:00",
          "2017-01-31T00:00:00",
          "2017-02-28T00:00:00",
          "2017-03-31T00:00:00",
          "2017-04-30T00:00:00",
          "2017-05-31T00:00:00",
          "2017-06-30T00:00:00",
          "2017-07-31T00:00:00",
          "2017-08-31T00:00:00",
          "2017-09-30T00:00:00",
          "2017-10-31T00:00:00",
          "2017-11-30T00:00:00",
          "2017-12-31T00:00:00",
          "2018-01-31T00:00:00",
          "2018-02-28T00:00:00",
          "2018-03-31T00:00:00",
          "2018-04-30T00:00:00",
          "2018-05-31T00:00:00",
          "2018-06-30T00:00:00",
          "2018-07-31T00:00:00",
          "2018-08-31T00:00:00",
          "2018-09-30T00:00:00",
          "2018-10-31T00:00:00",
          "2018-11-30T00:00:00",
          "2018-12-31T00:00:00",
          "2019-01-31T00:00:00",
          "2019-02-28T00:00:00",
          "2019-03-31T00:00:00",
          "2019-04-30T00:00:00",
          "2019-05-31T00:00:00",
          "2019-06-30T00:00:00",
          "2019-07-31T00:00:00",
          "2019-08-31T00:00:00",
          "2019-09-30T00:00:00",
          "2019-10-31T00:00:00",
          "2019-11-30T00:00:00",
          "2019-12-31T00:00:00",
          "2020-01-31T00:00:00",
          "2020-02-29T00:00:00",
          "2020-03-31T00:00:00",
          "2020-04-30T00:00:00",
          "2020-05-31T00:00:00",
          "2020-06-30T00:00:00",
          "2020-07-31T00:00:00",
          "2020-08-31T00:00:00",
          "2020-09-30T00:00:00",
          "2020-10-31T00:00:00",
          "2020-11-30T00:00:00",
          "2020-12-31T00:00:00",
          "2021-01-31T00:00:00",
          "2021-02-28T00:00:00",
          "2021-03-31T00:00:00",
          "2021-04-30T00:00:00",
          "2021-05-31T00:00:00",
          "2021-06-30T00:00:00",
          "2021-07-31T00:00:00",
          "2021-08-31T00:00:00",
          "2021-09-30T00:00:00",
          "2021-10-31T00:00:00",
          "2021-11-30T00:00:00",
          "2021-12-31T00:00:00",
          "2022-01-31T00:00:00",
          "2022-02-28T00:00:00",
          "2022-03-31T00:00:00",
          "2022-04-30T00:00:00",
          "2022-05-31T00:00:00",
          "2022-06-30T00:00:00",
          "2022-07-31T00:00:00",
          "2022-08-31T00:00:00",
          "2022-09-30T00:00:00",
          "2022-10-31T00:00:00",
          "2022-11-30T00:00:00",
          "2022-12-31T00:00:00",
          "2023-01-31T00:00:00",
          "2023-02-28T00:00:00",
          "2023-03-31T00:00:00",
          "2023-04-30T00:00:00",
          "2023-05-31T00:00:00",
          "2023-06-30T00:00:00",
          "2023-07-31T00:00:00",
          "2023-08-31T00:00:00",
          "2023-09-30T00:00:00",
          "2023-10-31T00:00:00",
          "2023-11-30T00:00:00",
          "2023-12-31T00:00:00",
          "2024-01-31T00:00:00",
          "2024-02-29T00:00:00",
          "2024-03-31T00:00:00",
          "2024-04-30T00:00:00",
          "2024-05-31T00:00:00",
          "2024-06-30T00:00:00",
          "2024-07-31T00:00:00",
          "2024-08-31T00:00:00",
          "2024-09-30T00:00:00",
          "2024-10-31T00:00:00",
          "2024-11-30T00:00:00",
          "2024-12-31T00:00:00",
          "2025-01-31T00:00:00"
         ],
         "xaxis": "x",
         "y": [
          179457.7052353552,
          179605.3706495985,
          179800.6402852449,
          180242.82451378673,
          180789.7917280935,
          181424.6676178152,
          182117.42701382664,
          182871.22923601797,
          183642.99374227526,
          184391.55740630862,
          185129.91948764373,
          185866.528362769,
          186621.9831164523,
          187367.0637360521,
          188168.90659355262,
          189004.4494471157,
          189835.68302826674,
          190575.31610974536,
          191291.56328477425,
          192011.05879809326,
          192716.24550252222,
          193356.72736676564,
          193928.51051491278,
          194448.35632035756,
          194866.64858384454,
          195277.81326809505,
          195713.27255968345,
          196256.36634622086,
          196850.63295248267,
          197508.78486456035,
          198253.8016915562,
          199042.2040042617,
          199842.9432236207,
          200619.44136576017,
          201404.9595765892,
          202161.16286249436,
          202893.5358524494,
          203629.0062407755,
          204429.380473645,
          205340.84191923172,
          206293.43559658015,
          207266.05766323933,
          208262.7480367134,
          209378.30522228015,
          210600.88453278196,
          211865.95379643267,
          213035.20233781042,
          214115.6744155768,
          215168.83152167546,
          216431.6736939074,
          217864.0362612209,
          219508.1119362121,
          221332.29014941776,
          223362.5930946336,
          225616.8392379137,
          227812.84401593363,
          229997.1252519533,
          232084.25164327514,
          234187.31848153492,
          236222.40508375218,
          238143.04354489615,
          240085.30208656212,
          242251.807732498,
          244746.06331974006,
          247392.16566746682,
          250098.02638464002,
          252810.42978138605,
          255550.9850260157,
          258218.89600017044,
          260710.18867445347,
          262887.1577029923,
          264859.9090563072,
          266595.3193565853,
          268235.1469543396,
          269862.87628797395,
          271488.72703624965,
          272974.68711078604,
          274187.2352928919,
          275159.6540610947,
          275934.27597527613,
          276430.9833630834,
          276568.40620265494,
          276512.8965819226,
          276397.2298570217,
          276324.41920012,
          276328.15054890723,
          276408.99495516124,
          276464.1683095101,
          276302.8840336329,
          275940.9859939491,
          275415.160862056,
          274793.35451690626,
          274006.43991147226,
          273070.0850547068,
          271895.42675336706,
          270569.8506657429,
          269121.33757735643,
          267564.020705015,
          265644.00304289797,
          263461.8193499916,
          261099.87218854434,
          258722.1965000809,
          256158.8620951271,
          253487.81930814238,
          250765.59484363956,
          248200.360553823,
          245660.13299556763,
          243348.18120450966,
          241231.1431613823,
          239351.7202288387,
          237325.6249919133,
          235149.01757523062,
          232954.39357546688,
          230908.97124004576,
          229097.41655861147,
          227291.79847601012,
          225483.7053529342,
          223911.47987036812,
          222931.27945425973,
          222370.37206603092,
          222071.4123879603,
          221712.45012908312,
          221540.41447052328,
          221408.1003615112,
          221198.95908599376,
          220665.40808551727,
          219820.02769115116,
          218838.8109137134,
          217632.70374620092,
          216282.97415331443,
          214842.05549343152,
          213393.9595069684,
          212017.53074531574,
          210651.70775130406,
          209336.06043371503,
          207988.2245742943,
          206623.3736423036,
          205434.52572354712,
          204447.49452739992,
          203602.70565224302,
          202858.6013132899,
          202188.46584300662,
          201706.21465454155,
          201379.82188862393,
          201269.9081432831,
          201326.54655486814,
          201598.93950031511,
          202048.63476328953,
          202752.86015646518,
          203663.40853508134,
          204570.63615686444,
          205454.5870885941,
          206476.26238656932,
          207672.43513067006,
          209039.45468553764,
          210466.5529998728,
          211932.86601538974,
          213249.22007933783,
          214533.15644237335,
          216105.00534916337,
          218241.0108430419,
          220701.64281795485,
          222898.17614658902,
          224926.05911346263,
          226818.70735723965,
          228775.78299773135,
          230342.0564639467,
          231641.83038887064,
          232752.4068224243,
          233886.71938439758,
          235107.2116329301,
          236484.0148487121,
          238088.76670814888,
          239421.2332888591,
          240516.7084473361,
          241310.75904907918,
          242266.89967446539,
          243223.16423047442,
          244421.9570105923,
          245714.9070747115,
          247101.39714708165,
          248541.7966282665,
          249983.43758662217,
          251542.6780613094,
          253219.2303780352,
          254865.06506771105,
          256517.28390005976,
          258217.9810494359,
          260110.7104268778,
          262160.3149807012,
          264034.23146223923,
          265811.0849055815,
          267725.2558674318,
          269683.7122266196,
          271314.4388896514,
          272681.63687449653,
          273903.6538303994,
          275226.4049523227,
          276242.1915539979,
          277142.53301991586,
          278049.6747584062,
          279361.68169895903,
          280993.0011857659,
          282890.13432899484,
          284826.96761212574,
          286911.1430038761,
          289017.9121575341,
          291191.99506186636,
          293037.1119346348,
          294853.0386507085,
          296416.9316401207,
          298011.59801104426,
          299646.66742239555,
          301524.46884155995,
          303499.2862653145,
          305615.20467817766,
          307802.6389171807,
          310100.4242322255,
          312543.97719637444,
          314853.2844261163,
          317166.4205912289,
          319057.7485948048,
          321054.81643582246,
          322901.19678547553,
          324661.965389272,
          326061.89439922455,
          327268.21148656175,
          328384.70311200153,
          329488.33961097966,
          330677.01153286686,
          332144.07408487034,
          333681.6144682976,
          335006.9277458569,
          336192.24155653885,
          337369.52000925643,
          338760.1599408945,
          340065.2439934401,
          341554.94501821615,
          343310.02048664296,
          345304.84058816975,
          347396.8686809111,
          349526.791480753,
          351889.9971470736,
          354145.0555112667,
          355386.59950246365,
          355888.4241308617,
          356712.18057154136,
          359232.3283678308,
          363763.4610593152,
          369425.31189837534,
          375869.0206775732,
          382318.4762264034,
          388538.3618361257,
          395001.28764367156,
          401953.72680731985,
          409882.5997018699,
          418665.61765979393,
          427527.68480362755,
          435414.5952474635,
          441069.8872301989,
          445140.245544826,
          448891.9710651576,
          453310.3070957716,
          458212.2617544475,
          464728.17707448505,
          472890.5702691785,
          482914.6492121179,
          492649.4276368733,
          500662.9720113371,
          505843.0042632093,
          506732.6773573695,
          503863.8807792655,
          498691.1068583175,
          494313.76424702903,
          490834.2250932908,
          487890.9040309465,
          484498.41975521407,
          481769.80743532535,
          480271.83355888014,
          480672.37645311625,
          482326.03567755787,
          484891.2119295651,
          487490.30304398015,
          490115.5591304156,
          492196.8207265127,
          493604.777912509,
          494307.90015181556,
          494458.15642185946,
          494490.0195177474,
          495116.4380474209,
          497028.6097939991,
          499723.7513992676,
          502061.2069755814,
          503048.43544349837,
          503468.95511325455,
          503957.89144384506,
          505047.4495234961,
          506183.3558802403,
          507136.14146953967,
          508135.4092839291,
          508749.5576040633
         ],
         "yaxis": "y"
        }
       ],
       "layout": {
        "height": 700,
        "legend": {
         "orientation": "h",
         "title": {
          "text": "Region"
         },
         "tracegroupgap": 0,
         "x": 1,
         "xanchor": "right",
         "y": -0.3,
         "yanchor": "bottom"
        },
        "template": {
         "data": {
          "bar": [
           {
            "error_x": {
             "color": "#2a3f5f"
            },
            "error_y": {
             "color": "#2a3f5f"
            },
            "marker": {
             "line": {
              "color": "#E5ECF6",
              "width": 0.5
             },
             "pattern": {
              "fillmode": "overlay",
              "size": 10,
              "solidity": 0.2
             }
            },
            "type": "bar"
           }
          ],
          "barpolar": [
           {
            "marker": {
             "line": {
              "color": "#E5ECF6",
              "width": 0.5
             },
             "pattern": {
              "fillmode": "overlay",
              "size": 10,
              "solidity": 0.2
             }
            },
            "type": "barpolar"
           }
          ],
          "carpet": [
           {
            "aaxis": {
             "endlinecolor": "#2a3f5f",
             "gridcolor": "white",
             "linecolor": "white",
             "minorgridcolor": "white",
             "startlinecolor": "#2a3f5f"
            },
            "baxis": {
             "endlinecolor": "#2a3f5f",
             "gridcolor": "white",
             "linecolor": "white",
             "minorgridcolor": "white",
             "startlinecolor": "#2a3f5f"
            },
            "type": "carpet"
           }
          ],
          "choropleth": [
           {
            "colorbar": {
             "outlinewidth": 0,
             "ticks": ""
            },
            "type": "choropleth"
           }
          ],
          "contour": [
           {
            "colorbar": {
             "outlinewidth": 0,
             "ticks": ""
            },
            "colorscale": [
             [
              0,
              "#0d0887"
             ],
             [
              0.1111111111111111,
              "#46039f"
             ],
             [
              0.2222222222222222,
              "#7201a8"
             ],
             [
              0.3333333333333333,
              "#9c179e"
             ],
             [
              0.4444444444444444,
              "#bd3786"
             ],
             [
              0.5555555555555556,
              "#d8576b"
             ],
             [
              0.6666666666666666,
              "#ed7953"
             ],
             [
              0.7777777777777778,
              "#fb9f3a"
             ],
             [
              0.8888888888888888,
              "#fdca26"
             ],
             [
              1,
              "#f0f921"
             ]
            ],
            "type": "contour"
           }
          ],
          "contourcarpet": [
           {
            "colorbar": {
             "outlinewidth": 0,
             "ticks": ""
            },
            "type": "contourcarpet"
           }
          ],
          "heatmap": [
           {
            "colorbar": {
             "outlinewidth": 0,
             "ticks": ""
            },
            "colorscale": [
             [
              0,
              "#0d0887"
             ],
             [
              0.1111111111111111,
              "#46039f"
             ],
             [
              0.2222222222222222,
              "#7201a8"
             ],
             [
              0.3333333333333333,
              "#9c179e"
             ],
             [
              0.4444444444444444,
              "#bd3786"
             ],
             [
              0.5555555555555556,
              "#d8576b"
             ],
             [
              0.6666666666666666,
              "#ed7953"
             ],
             [
              0.7777777777777778,
              "#fb9f3a"
             ],
             [
              0.8888888888888888,
              "#fdca26"
             ],
             [
              1,
              "#f0f921"
             ]
            ],
            "type": "heatmap"
           }
          ],
          "heatmapgl": [
           {
            "colorbar": {
             "outlinewidth": 0,
             "ticks": ""
            },
            "colorscale": [
             [
              0,
              "#0d0887"
             ],
             [
              0.1111111111111111,
              "#46039f"
             ],
             [
              0.2222222222222222,
              "#7201a8"
             ],
             [
              0.3333333333333333,
              "#9c179e"
             ],
             [
              0.4444444444444444,
              "#bd3786"
             ],
             [
              0.5555555555555556,
              "#d8576b"
             ],
             [
              0.6666666666666666,
              "#ed7953"
             ],
             [
              0.7777777777777778,
              "#fb9f3a"
             ],
             [
              0.8888888888888888,
              "#fdca26"
             ],
             [
              1,
              "#f0f921"
             ]
            ],
            "type": "heatmapgl"
           }
          ],
          "histogram": [
           {
            "marker": {
             "pattern": {
              "fillmode": "overlay",
              "size": 10,
              "solidity": 0.2
             }
            },
            "type": "histogram"
           }
          ],
          "histogram2d": [
           {
            "colorbar": {
             "outlinewidth": 0,
             "ticks": ""
            },
            "colorscale": [
             [
              0,
              "#0d0887"
             ],
             [
              0.1111111111111111,
              "#46039f"
             ],
             [
              0.2222222222222222,
              "#7201a8"
             ],
             [
              0.3333333333333333,
              "#9c179e"
             ],
             [
              0.4444444444444444,
              "#bd3786"
             ],
             [
              0.5555555555555556,
              "#d8576b"
             ],
             [
              0.6666666666666666,
              "#ed7953"
             ],
             [
              0.7777777777777778,
              "#fb9f3a"
             ],
             [
              0.8888888888888888,
              "#fdca26"
             ],
             [
              1,
              "#f0f921"
             ]
            ],
            "type": "histogram2d"
           }
          ],
          "histogram2dcontour": [
           {
            "colorbar": {
             "outlinewidth": 0,
             "ticks": ""
            },
            "colorscale": [
             [
              0,
              "#0d0887"
             ],
             [
              0.1111111111111111,
              "#46039f"
             ],
             [
              0.2222222222222222,
              "#7201a8"
             ],
             [
              0.3333333333333333,
              "#9c179e"
             ],
             [
              0.4444444444444444,
              "#bd3786"
             ],
             [
              0.5555555555555556,
              "#d8576b"
             ],
             [
              0.6666666666666666,
              "#ed7953"
             ],
             [
              0.7777777777777778,
              "#fb9f3a"
             ],
             [
              0.8888888888888888,
              "#fdca26"
             ],
             [
              1,
              "#f0f921"
             ]
            ],
            "type": "histogram2dcontour"
           }
          ],
          "mesh3d": [
           {
            "colorbar": {
             "outlinewidth": 0,
             "ticks": ""
            },
            "type": "mesh3d"
           }
          ],
          "parcoords": [
           {
            "line": {
             "colorbar": {
              "outlinewidth": 0,
              "ticks": ""
             }
            },
            "type": "parcoords"
           }
          ],
          "pie": [
           {
            "automargin": true,
            "type": "pie"
           }
          ],
          "scatter": [
           {
            "fillpattern": {
             "fillmode": "overlay",
             "size": 10,
             "solidity": 0.2
            },
            "type": "scatter"
           }
          ],
          "scatter3d": [
           {
            "line": {
             "colorbar": {
              "outlinewidth": 0,
              "ticks": ""
             }
            },
            "marker": {
             "colorbar": {
              "outlinewidth": 0,
              "ticks": ""
             }
            },
            "type": "scatter3d"
           }
          ],
          "scattercarpet": [
           {
            "marker": {
             "colorbar": {
              "outlinewidth": 0,
              "ticks": ""
             }
            },
            "type": "scattercarpet"
           }
          ],
          "scattergeo": [
           {
            "marker": {
             "colorbar": {
              "outlinewidth": 0,
              "ticks": ""
             }
            },
            "type": "scattergeo"
           }
          ],
          "scattergl": [
           {
            "marker": {
             "colorbar": {
              "outlinewidth": 0,
              "ticks": ""
             }
            },
            "type": "scattergl"
           }
          ],
          "scattermapbox": [
           {
            "marker": {
             "colorbar": {
              "outlinewidth": 0,
              "ticks": ""
             }
            },
            "type": "scattermapbox"
           }
          ],
          "scatterpolar": [
           {
            "marker": {
             "colorbar": {
              "outlinewidth": 0,
              "ticks": ""
             }
            },
            "type": "scatterpolar"
           }
          ],
          "scatterpolargl": [
           {
            "marker": {
             "colorbar": {
              "outlinewidth": 0,
              "ticks": ""
             }
            },
            "type": "scatterpolargl"
           }
          ],
          "scatterternary": [
           {
            "marker": {
             "colorbar": {
              "outlinewidth": 0,
              "ticks": ""
             }
            },
            "type": "scatterternary"
           }
          ],
          "surface": [
           {
            "colorbar": {
             "outlinewidth": 0,
             "ticks": ""
            },
            "colorscale": [
             [
              0,
              "#0d0887"
             ],
             [
              0.1111111111111111,
              "#46039f"
             ],
             [
              0.2222222222222222,
              "#7201a8"
             ],
             [
              0.3333333333333333,
              "#9c179e"
             ],
             [
              0.4444444444444444,
              "#bd3786"
             ],
             [
              0.5555555555555556,
              "#d8576b"
             ],
             [
              0.6666666666666666,
              "#ed7953"
             ],
             [
              0.7777777777777778,
              "#fb9f3a"
             ],
             [
              0.8888888888888888,
              "#fdca26"
             ],
             [
              1,
              "#f0f921"
             ]
            ],
            "type": "surface"
           }
          ],
          "table": [
           {
            "cells": {
             "fill": {
              "color": "#EBF0F8"
             },
             "line": {
              "color": "white"
             }
            },
            "header": {
             "fill": {
              "color": "#C8D4E3"
             },
             "line": {
              "color": "white"
             }
            },
            "type": "table"
           }
          ]
         },
         "layout": {
          "annotationdefaults": {
           "arrowcolor": "#2a3f5f",
           "arrowhead": 0,
           "arrowwidth": 1
          },
          "autotypenumbers": "strict",
          "coloraxis": {
           "colorbar": {
            "outlinewidth": 0,
            "ticks": ""
           }
          },
          "colorscale": {
           "diverging": [
            [
             0,
             "#8e0152"
            ],
            [
             0.1,
             "#c51b7d"
            ],
            [
             0.2,
             "#de77ae"
            ],
            [
             0.3,
             "#f1b6da"
            ],
            [
             0.4,
             "#fde0ef"
            ],
            [
             0.5,
             "#f7f7f7"
            ],
            [
             0.6,
             "#e6f5d0"
            ],
            [
             0.7,
             "#b8e186"
            ],
            [
             0.8,
             "#7fbc41"
            ],
            [
             0.9,
             "#4d9221"
            ],
            [
             1,
             "#276419"
            ]
           ],
           "sequential": [
            [
             0,
             "#0d0887"
            ],
            [
             0.1111111111111111,
             "#46039f"
            ],
            [
             0.2222222222222222,
             "#7201a8"
            ],
            [
             0.3333333333333333,
             "#9c179e"
            ],
            [
             0.4444444444444444,
             "#bd3786"
            ],
            [
             0.5555555555555556,
             "#d8576b"
            ],
            [
             0.6666666666666666,
             "#ed7953"
            ],
            [
             0.7777777777777778,
             "#fb9f3a"
            ],
            [
             0.8888888888888888,
             "#fdca26"
            ],
            [
             1,
             "#f0f921"
            ]
           ],
           "sequentialminus": [
            [
             0,
             "#0d0887"
            ],
            [
             0.1111111111111111,
             "#46039f"
            ],
            [
             0.2222222222222222,
             "#7201a8"
            ],
            [
             0.3333333333333333,
             "#9c179e"
            ],
            [
             0.4444444444444444,
             "#bd3786"
            ],
            [
             0.5555555555555556,
             "#d8576b"
            ],
            [
             0.6666666666666666,
             "#ed7953"
            ],
            [
             0.7777777777777778,
             "#fb9f3a"
            ],
            [
             0.8888888888888888,
             "#fdca26"
            ],
            [
             1,
             "#f0f921"
            ]
           ]
          },
          "colorway": [
           "#636efa",
           "#EF553B",
           "#00cc96",
           "#ab63fa",
           "#FFA15A",
           "#19d3f3",
           "#FF6692",
           "#B6E880",
           "#FF97FF",
           "#FECB52"
          ],
          "font": {
           "color": "#2a3f5f"
          },
          "geo": {
           "bgcolor": "white",
           "lakecolor": "white",
           "landcolor": "#E5ECF6",
           "showlakes": true,
           "showland": true,
           "subunitcolor": "white"
          },
          "hoverlabel": {
           "align": "left"
          },
          "hovermode": "closest",
          "mapbox": {
           "style": "light"
          },
          "paper_bgcolor": "white",
          "plot_bgcolor": "#E5ECF6",
          "polar": {
           "angularaxis": {
            "gridcolor": "white",
            "linecolor": "white",
            "ticks": ""
           },
           "bgcolor": "#E5ECF6",
           "radialaxis": {
            "gridcolor": "white",
            "linecolor": "white",
            "ticks": ""
           }
          },
          "scene": {
           "xaxis": {
            "backgroundcolor": "#E5ECF6",
            "gridcolor": "white",
            "gridwidth": 2,
            "linecolor": "white",
            "showbackground": true,
            "ticks": "",
            "zerolinecolor": "white"
           },
           "yaxis": {
            "backgroundcolor": "#E5ECF6",
            "gridcolor": "white",
            "gridwidth": 2,
            "linecolor": "white",
            "showbackground": true,
            "ticks": "",
            "zerolinecolor": "white"
           },
           "zaxis": {
            "backgroundcolor": "#E5ECF6",
            "gridcolor": "white",
            "gridwidth": 2,
            "linecolor": "white",
            "showbackground": true,
            "ticks": "",
            "zerolinecolor": "white"
           }
          },
          "shapedefaults": {
           "line": {
            "color": "#2a3f5f"
           }
          },
          "ternary": {
           "aaxis": {
            "gridcolor": "white",
            "linecolor": "white",
            "ticks": ""
           },
           "baxis": {
            "gridcolor": "white",
            "linecolor": "white",
            "ticks": ""
           },
           "bgcolor": "#E5ECF6",
           "caxis": {
            "gridcolor": "white",
            "linecolor": "white",
            "ticks": ""
           }
          },
          "title": {
           "x": 0.05
          },
          "xaxis": {
           "automargin": true,
           "gridcolor": "white",
           "linecolor": "white",
           "ticks": "",
           "title": {
            "standoff": 15
           },
           "zerolinecolor": "white",
           "zerolinewidth": 2
          },
          "yaxis": {
           "automargin": true,
           "gridcolor": "white",
           "linecolor": "white",
           "ticks": "",
           "title": {
            "standoff": 15
           },
           "zerolinecolor": "white",
           "zerolinewidth": 2
          }
         }
        },
        "title": {
         "text": "Average Prices based on Region",
         "x": 0.5
        },
        "updatemenus": [
         {
          "active": 0,
          "buttons": [
           {
            "args": [
             {
              "visible": [
               true,
               true,
               true,
               true
              ]
             },
             {
              "xaxis": {
               "title": "All Regions"
              },
              "yaxis": {
               "title": "Average Housing Price per Region"
              }
             }
            ],
            "label": "All",
            "method": "update"
           },
           {
            "args": [
             {
              "visible": [
               false,
               true,
               false,
               false,
               false,
               false,
               false,
               true,
               false,
               false,
               true,
               false,
               false,
               false,
               false,
               false,
               false,
               false,
               false,
               false,
               false,
               false,
               false,
               false,
               false,
               false,
               false,
               true,
               false,
               false,
               false,
               false,
               false,
               false,
               false,
               false,
               false,
               false,
               true,
               false,
               false,
               false,
               false,
               false,
               false,
               false,
               false,
               false,
               true,
               true,
               false,
               true,
               false,
               false,
               false,
               false,
               false,
               true,
               false,
               true,
               false,
               false,
               false,
               true,
               false,
               false,
               false,
               true,
               false,
               true,
               false,
               false,
               false,
               false,
               false,
               false,
               false,
               false,
               false,
               false,
               false,
               false,
               false,
               true,
               false,
               false,
               false,
               false,
               true,
               false,
               false,
               false,
               false,
               false,
               false,
               false,
               true,
               false,
               true,
               false,
               false,
               true,
               true,
               false,
               false,
               false,
               false,
               false,
               false,
               false,
               false,
               false,
               false,
               false,
               false,
               false,
               false,
               false,
               false,
               true,
               false,
               false,
               false,
               false,
               false,
               true,
               false,
               false,
               true,
               false,
               false,
               false,
               false,
               false,
               false,
               false,
               false,
               false,
               true,
               false,
               false,
               false,
               false,
               false,
               false,
               false,
               false,
               false,
               false,
               false,
               false,
               false,
               false,
               false,
               false,
               false,
               false,
               false,
               false,
               false,
               false,
               false,
               false,
               false,
               true,
               false,
               false,
               false,
               false,
               false,
               false,
               false,
               false,
               false,
               false,
               true,
               false,
               false,
               false,
               true,
               true,
               false,
               false,
               false,
               false,
               false,
               false,
               false,
               false,
               false,
               true,
               false,
               false,
               false,
               false,
               false,
               true,
               false,
               false,
               true,
               false,
               false,
               false,
               false,
               false,
               false,
               false,
               false,
               false,
               false,
               false,
               false,
               false,
               false,
               false,
               false,
               false,
               false,
               false,
               false,
               false,
               false,
               false,
               false,
               false,
               false,
               true,
               false,
               false,
               false,
               true,
               false,
               false,
               false,
               false,
               false,
               false,
               false,
               false,
               false,
               false,
               false,
               false,
               false,
               false,
               false,
               false,
               false,
               false,
               false,
               true,
               false,
               false,
               false,
               false,
               false,
               false,
               false,
               true,
               false,
               false,
               false,
               true,
               true,
               false,
               false,
               false,
               false,
               false,
               false,
               true,
               false,
               false,
               true,
               false,
               false,
               false,
               false,
               false,
               false,
               false,
               false,
               false,
               false,
               false,
               false,
               false,
               false,
               true,
               false,
               true,
               false,
               false,
               false,
               false,
               false,
               false,
               false,
               false,
               false,
               false,
               false,
               false,
               false,
               false,
               true,
               false,
               false,
               false,
               true,
               false,
               true,
               false,
               false,
               true,
               false,
               false,
               false,
               false,
               false,
               false,
               true,
               true,
               false,
               false,
               false,
               false,
               false,
               false,
               false,
               false,
               true,
               false,
               false,
               false,
               false,
               false,
               true,
               false,
               false,
               false,
               false,
               false,
               false,
               false,
               true,
               false,
               true,
               false,
               false,
               false,
               false,
               false,
               false,
               true,
               false,
               false,
               false,
               false,
               true,
               false,
               false,
               false,
               false,
               false,
               false,
               false,
               false,
               false,
               false,
               false,
               false,
               false,
               false,
               false,
               false,
               false,
               false,
               false,
               false,
               false,
               false,
               false,
               false,
               true,
               false,
               false,
               true,
               false,
               true,
               false,
               false,
               false,
               false,
               false,
               false,
               false,
               false,
               false,
               false,
               true,
               false,
               false,
               false,
               true,
               true,
               false,
               false,
               true,
               false,
               false,
               true,
               false,
               false,
               false,
               false,
               false,
               false,
               false,
               false,
               false,
               true,
               false,
               true,
               false,
               false,
               false,
               false,
               true,
               false,
               false,
               false,
               false,
               true,
               false,
               true,
               false,
               false,
               false,
               false,
               false,
               false,
               false,
               false,
               true,
               false,
               false,
               false,
               false,
               false,
               false,
               false,
               false,
               false,
               false,
               false,
               false,
               false,
               false,
               false,
               false,
               false,
               false,
               false,
               false,
               false,
               false,
               false,
               false,
               false,
               false,
               false,
               false,
               false,
               false,
               false,
               false,
               false,
               true,
               false,
               false,
               false,
               false,
               false,
               true,
               false,
               false,
               false,
               true,
               false,
               true,
               false,
               true,
               false,
               true,
               false,
               true,
               false,
               false,
               false,
               false,
               false,
               false,
               false,
               false,
               false,
               false,
               false,
               false,
               false,
               false,
               false,
               false,
               false,
               false,
               false,
               false,
               false,
               false,
               false,
               false,
               false,
               false,
               false,
               false,
               false,
               false,
               false,
               true,
               false,
               false,
               false,
               false,
               false,
               false,
               false,
               false,
               false,
               false,
               false,
               false,
               false,
               false,
               true,
               false,
               false,
               false,
               false,
               false,
               false,
               false,
               true,
               false,
               false,
               false,
               false,
               false,
               false,
               false,
               false,
               false,
               false,
               true,
               false,
               false,
               false,
               false,
               false,
               true,
               false,
               false,
               false,
               false,
               false,
               false,
               false,
               false,
               false,
               false,
               false,
               false,
               false,
               false,
               false,
               false,
               false,
               false,
               false,
               false,
               false,
               false,
               false,
               false,
               false,
               true,
               false,
               false,
               false,
               false,
               false,
               false,
               false,
               false,
               false,
               false,
               false,
               false,
               false,
               false,
               false,
               false,
               false,
               false,
               false,
               false,
               false,
               false,
               false,
               false,
               false,
               true,
               false,
               false,
               false,
               false,
               false,
               false,
               false,
               false,
               false,
               false,
               false,
               false,
               false,
               false,
               false,
               false,
               false,
               false,
               false,
               false,
               false,
               false,
               false,
               false,
               false,
               false,
               false,
               true,
               false,
               false,
               false,
               false,
               false,
               false,
               true,
               false,
               false,
               false,
               false,
               false,
               false,
               false,
               false,
               false,
               false,
               false,
               false,
               false,
               false,
               false,
               false,
               false,
               false,
               false,
               false,
               false,
               false,
               false,
               false,
               false,
               false,
               false,
               false,
               false,
               true,
               false,
               false,
               false,
               false,
               false,
               false,
               false,
               false,
               false,
               false,
               false,
               false,
               true,
               false,
               false,
               false,
               false,
               false,
               false,
               false,
               false,
               false,
               false,
               false,
               false,
               false,
               false,
               false,
               false,
               false,
               false,
               false,
               false,
               false,
               false,
               false,
               false,
               false,
               false,
               false,
               false,
               false,
               false,
               false,
               false,
               false,
               false,
               false,
               false,
               false,
               false,
               false,
               false,
               false,
               false,
               false,
               false,
               false,
               false,
               false,
               false,
               false,
               false,
               false,
               false,
               false,
               false,
               false,
               false,
               false,
               false,
               true,
               false,
               false,
               false,
               false,
               false,
               false,
               false,
               false,
               false,
               false,
               false,
               false,
               false
              ]
             },
             {
              "x": [
               "Northeast"
              ],
              "xaxis": {
               "title": "Northeast"
              },
              "yaxis": {
               "title": "Average Housing Price in the Northeast"
              }
             }
            ],
            "label": "Northeast",
            "method": "update"
           },
           {
            "args": [
             {
              "visible": [
               false,
               false,
               true,
               false,
               false,
               false,
               false,
               false,
               false,
               false,
               false,
               true,
               true,
               true,
               false,
               true,
               false,
               true,
               false,
               true,
               false,
               false,
               false,
               false,
               false,
               true,
               true,
               false,
               false,
               false,
               true,
               false,
               false,
               false,
               false,
               true,
               false,
               false,
               false,
               false,
               false,
               false,
               false,
               false,
               false,
               false,
               false,
               true,
               false,
               false,
               false,
               false,
               false,
               true,
               true,
               false,
               true,
               false,
               false,
               false,
               false,
               true,
               true,
               false,
               false,
               false,
               false,
               false,
               false,
               false,
               true,
               false,
               false,
               false,
               false,
               true,
               false,
               true,
               true,
               false,
               false,
               false,
               false,
               false,
               true,
               false,
               false,
               false,
               false,
               true,
               false,
               false,
               false,
               false,
               false,
               false,
               false,
               true,
               false,
               false,
               true,
               false,
               false,
               false,
               false,
               false,
               false,
               false,
               false,
               true,
               true,
               false,
               false,
               false,
               false,
               false,
               true,
               false,
               false,
               false,
               true,
               true,
               true,
               true,
               false,
               false,
               false,
               false,
               false,
               false,
               false,
               false,
               false,
               false,
               false,
               true,
               false,
               false,
               false,
               false,
               false,
               false,
               true,
               false,
               false,
               false,
               false,
               false,
               true,
               false,
               false,
               false,
               true,
               false,
               false,
               false,
               false,
               true,
               false,
               false,
               false,
               false,
               false,
               true,
               false,
               false,
               false,
               true,
               false,
               false,
               true,
               false,
               true,
               false,
               false,
               false,
               true,
               false,
               true,
               false,
               false,
               false,
               false,
               false,
               false,
               false,
               false,
               false,
               true,
               false,
               false,
               false,
               false,
               false,
               false,
               false,
               false,
               false,
               true,
               false,
               false,
               false,
               false,
               true,
               false,
               true,
               true,
               false,
               false,
               true,
               false,
               false,
               false,
               false,
               false,
               false,
               true,
               false,
               false,
               false,
               false,
               false,
               true,
               false,
               false,
               false,
               false,
               false,
               true,
               true,
               false,
               false,
               false,
               false,
               true,
               false,
               true,
               false,
               true,
               false,
               false,
               false,
               false,
               false,
               false,
               false,
               false,
               false,
               false,
               true,
               false,
               true,
               false,
               false,
               true,
               false,
               false,
               false,
               false,
               false,
               true,
               false,
               false,
               false,
               true,
               true,
               false,
               false,
               false,
               true,
               false,
               false,
               false,
               false,
               false,
               true,
               false,
               false,
               false,
               false,
               false,
               false,
               false,
               false,
               false,
               true,
               true,
               false,
               false,
               false,
               false,
               false,
               false,
               false,
               false,
               false,
               true,
               false,
               false,
               true,
               false,
               false,
               false,
               false,
               false,
               false,
               false,
               false,
               false,
               false,
               true,
               false,
               false,
               true,
               false,
               false,
               false,
               true,
               false,
               false,
               false,
               false,
               false,
               false,
               true,
               false,
               true,
               false,
               false,
               false,
               false,
               false,
               false,
               false,
               true,
               true,
               false,
               false,
               false,
               false,
               true,
               false,
               false,
               false,
               true,
               false,
               true,
               false,
               false,
               false,
               true,
               false,
               false,
               false,
               false,
               false,
               false,
               false,
               false,
               false,
               false,
               true,
               false,
               false,
               false,
               false,
               true,
               false,
               true,
               false,
               false,
               false,
               false,
               false,
               false,
               false,
               false,
               true,
               false,
               false,
               false,
               true,
               false,
               false,
               false,
               true,
               true,
               false,
               false,
               false,
               true,
               true,
               false,
               false,
               false,
               false,
               true,
               false,
               false,
               false,
               false,
               true,
               false,
               false,
               false,
               false,
               true,
               false,
               false,
               false,
               false,
               false,
               false,
               true,
               false,
               false,
               false,
               false,
               true,
               false,
               false,
               false,
               false,
               false,
               false,
               false,
               true,
               false,
               false,
               false,
               false,
               false,
               true,
               false,
               false,
               false,
               true,
               false,
               false,
               false,
               false,
               false,
               true,
               false,
               false,
               false,
               false,
               true,
               false,
               false,
               false,
               false,
               false,
               false,
               true,
               false,
               true,
               false,
               false,
               false,
               false,
               false,
               false,
               false,
               false,
               false,
               false,
               false,
               true,
               true,
               false,
               false,
               false,
               true,
               false,
               false,
               true,
               true,
               false,
               false,
               false,
               false,
               false,
               true,
               false,
               false,
               true,
               false,
               false,
               false,
               false,
               false,
               false,
               false,
               false,
               false,
               false,
               false,
               false,
               false,
               false,
               true,
               true,
               false,
               false,
               false,
               false,
               false,
               true,
               false,
               false,
               false,
               true,
               false,
               false,
               false,
               true,
               true,
               false,
               false,
               false,
               false,
               true,
               false,
               false,
               false,
               false,
               false,
               false,
               false,
               false,
               false,
               true,
               false,
               false,
               false,
               false,
               false,
               false,
               false,
               false,
               false,
               false,
               false,
               false,
               false,
               false,
               true,
               false,
               true,
               false,
               false,
               false,
               false,
               true,
               false,
               false,
               false,
               false,
               false,
               false,
               true,
               false,
               false,
               false,
               true,
               false,
               true,
               false,
               false,
               false,
               true,
               false,
               false,
               false,
               false,
               false,
               false,
               true,
               false,
               false,
               false,
               false,
               false,
               false,
               false,
               false,
               false,
               false,
               false,
               false,
               false,
               false,
               false,
               false,
               true,
               false,
               false,
               false,
               false,
               false,
               false,
               false,
               false,
               false,
               false,
               false,
               false,
               false,
               false,
               false,
               false,
               false,
               false,
               false,
               false,
               false,
               false,
               false,
               true,
               false,
               false,
               false,
               false,
               false,
               false,
               false,
               false,
               false,
               true,
               false,
               true,
               false,
               false,
               false,
               false,
               false,
               false,
               false,
               false,
               false,
               true,
               false,
               false,
               false,
               false,
               false,
               false,
               false,
               false,
               false,
               false,
               true,
               false,
               false,
               false,
               false,
               false,
               false,
               false,
               false,
               false,
               false,
               false,
               false,
               false,
               false,
               false,
               false,
               false,
               false,
               false,
               false,
               true,
               false,
               true,
               false,
               false,
               false,
               false,
               false,
               false,
               false,
               false,
               false,
               false,
               false,
               false,
               false,
               false,
               true,
               false,
               false,
               false,
               false,
               false,
               false,
               true,
               false,
               false,
               false,
               false,
               true,
               false,
               false,
               false,
               false,
               false,
               false,
               false,
               false,
               false,
               false,
               true,
               false,
               false,
               false,
               true,
               false,
               false,
               false,
               false,
               true,
               true,
               false,
               false,
               false,
               false,
               true,
               false,
               false,
               true,
               true,
               false,
               false,
               false,
               true,
               true,
               false,
               true,
               false,
               false,
               false,
               false,
               false,
               false,
               true,
               false,
               false,
               false,
               false,
               false,
               false,
               false,
               true,
               false,
               true,
               false,
               true,
               true,
               false,
               false,
               false,
               false,
               false,
               false,
               false,
               false,
               true,
               true,
               false
              ]
             },
             {
              "x": [
               "West"
              ],
              "xaxis": {
               "title": "West"
              },
              "yaxis": {
               "title": "Average Housing Price in the West"
              }
             }
            ],
            "label": "West",
            "method": "update"
           },
           {
            "args": [
             {
              "visible": [
               false,
               false,
               false,
               true,
               false,
               false,
               false,
               false,
               false,
               false,
               false,
               false,
               false,
               false,
               true,
               false,
               true,
               false,
               false,
               false,
               false,
               true,
               false,
               false,
               false,
               false,
               false,
               false,
               true,
               false,
               false,
               true,
               true,
               true,
               true,
               false,
               false,
               false,
               false,
               false,
               true,
               false,
               false,
               false,
               false,
               false,
               false,
               false,
               false,
               false,
               false,
               false,
               true,
               false,
               false,
               false,
               false,
               false,
               true,
               false,
               false,
               false,
               false,
               false,
               false,
               false,
               false,
               false,
               false,
               false,
               false,
               false,
               false,
               false,
               false,
               false,
               false,
               false,
               false,
               false,
               false,
               true,
               true,
               false,
               false,
               true,
               false,
               false,
               false,
               false,
               true,
               true,
               false,
               false,
               false,
               false,
               false,
               false,
               false,
               false,
               false,
               false,
               false,
               true,
               true,
               false,
               false,
               false,
               false,
               false,
               false,
               false,
               false,
               false,
               false,
               true,
               false,
               false,
               false,
               false,
               false,
               false,
               false,
               false,
               false,
               false,
               false,
               false,
               false,
               true,
               false,
               true,
               true,
               true,
               false,
               false,
               false,
               false,
               false,
               false,
               true,
               false,
               false,
               false,
               true,
               false,
               false,
               true,
               false,
               true,
               true,
               false,
               false,
               true,
               false,
               true,
               false,
               false,
               false,
               false,
               false,
               true,
               false,
               false,
               false,
               false,
               true,
               false,
               false,
               false,
               false,
               false,
               false,
               false,
               true,
               false,
               false,
               true,
               false,
               false,
               false,
               false,
               false,
               false,
               false,
               true,
               false,
               false,
               false,
               true,
               false,
               false,
               true,
               true,
               false,
               false,
               false,
               false,
               false,
               false,
               true,
               true,
               true,
               false,
               false,
               false,
               false,
               false,
               false,
               false,
               true,
               true,
               false,
               false,
               true,
               false,
               false,
               false,
               false,
               false,
               true,
               true,
               false,
               true,
               false,
               true,
               false,
               false,
               false,
               false,
               false,
               false,
               true,
               false,
               false,
               false,
               false,
               false,
               false,
               true,
               false,
               true,
               false,
               false,
               true,
               true,
               true,
               false,
               true,
               false,
               false,
               false,
               false,
               true,
               false,
               true,
               false,
               true,
               false,
               false,
               false,
               false,
               false,
               false,
               false,
               false,
               false,
               true,
               true,
               false,
               false,
               false,
               true,
               false,
               false,
               false,
               true,
               false,
               false,
               false,
               false,
               true,
               false,
               false,
               false,
               false,
               false,
               false,
               false,
               false,
               false,
               false,
               false,
               true,
               false,
               true,
               false,
               true,
               false,
               false,
               true,
               false,
               true,
               true,
               true,
               false,
               false,
               true,
               false,
               false,
               false,
               false,
               false,
               false,
               false,
               false,
               false,
               false,
               true,
               true,
               false,
               false,
               false,
               false,
               false,
               true,
               false,
               false,
               true,
               true,
               false,
               false,
               true,
               true,
               false,
               false,
               false,
               false,
               false,
               false,
               false,
               false,
               true,
               true,
               false,
               false,
               false,
               false,
               true,
               false,
               false,
               false,
               false,
               true,
               false,
               true,
               false,
               true,
               true,
               false,
               false,
               false,
               false,
               true,
               true,
               true,
               false,
               false,
               false,
               false,
               true,
               false,
               true,
               false,
               false,
               false,
               false,
               false,
               true,
               true,
               false,
               false,
               true,
               false,
               false,
               false,
               false,
               false,
               true,
               false,
               false,
               false,
               false,
               false,
               true,
               false,
               false,
               false,
               false,
               true,
               false,
               false,
               false,
               true,
               false,
               false,
               false,
               false,
               false,
               true,
               true,
               false,
               false,
               false,
               false,
               false,
               true,
               false,
               false,
               true,
               false,
               false,
               true,
               false,
               false,
               false,
               false,
               true,
               false,
               true,
               false,
               true,
               false,
               false,
               false,
               false,
               false,
               true,
               true,
               true,
               false,
               true,
               false,
               true,
               false,
               true,
               false,
               false,
               false,
               false,
               false,
               false,
               false,
               false,
               false,
               false,
               false,
               false,
               false,
               true,
               true,
               true,
               true,
               false,
               false,
               true,
               true,
               true,
               false,
               false,
               false,
               false,
               false,
               false,
               false,
               false,
               false,
               false,
               false,
               true,
               false,
               false,
               true,
               false,
               false,
               false,
               false,
               true,
               false,
               false,
               false,
               true,
               false,
               true,
               false,
               true,
               false,
               false,
               false,
               true,
               true,
               false,
               false,
               false,
               false,
               false,
               true,
               false,
               false,
               false,
               true,
               true,
               false,
               false,
               false,
               true,
               false,
               false,
               false,
               true,
               false,
               true,
               false,
               false,
               false,
               false,
               false,
               true,
               false,
               true,
               true,
               false,
               false,
               true,
               false,
               false,
               false,
               false,
               true,
               false,
               true,
               true,
               false,
               false,
               true,
               false,
               true,
               false,
               false,
               false,
               false,
               false,
               false,
               false,
               false,
               false,
               true,
               true,
               true,
               false,
               true,
               false,
               false,
               false,
               true,
               false,
               false,
               false,
               false,
               false,
               true,
               false,
               false,
               true,
               true,
               true,
               true,
               true,
               false,
               false,
               false,
               false,
               false,
               true,
               false,
               false,
               true,
               false,
               true,
               true,
               false,
               true,
               false,
               true,
               false,
               false,
               false,
               false,
               false,
               false,
               true,
               false,
               true,
               true,
               false,
               true,
               false,
               false,
               true,
               true,
               false,
               true,
               true,
               false,
               false,
               false,
               false,
               false,
               false,
               false,
               false,
               false,
               false,
               true,
               true,
               true,
               true,
               false,
               true,
               false,
               false,
               false,
               false,
               false,
               true,
               true,
               true,
               true,
               true,
               true,
               true,
               false,
               true,
               false,
               false,
               true,
               true,
               false,
               false,
               false,
               true,
               true,
               false,
               false,
               true,
               false,
               true,
               false,
               false,
               false,
               false,
               true,
               true,
               true,
               false,
               true,
               true,
               true,
               true,
               false,
               true,
               false,
               false,
               false,
               true,
               false,
               true,
               true,
               true,
               false,
               false,
               true,
               true,
               false,
               false,
               false,
               true,
               false,
               true,
               false,
               false,
               false,
               false,
               false,
               true,
               false,
               false,
               false,
               false,
               true,
               false,
               true,
               false,
               false,
               false,
               false,
               true,
               false,
               true,
               true,
               true,
               true,
               false,
               false,
               false,
               true,
               false,
               false,
               true,
               false,
               false,
               false,
               false,
               false,
               true,
               true,
               false,
               true,
               false,
               false,
               false,
               false,
               false,
               false,
               false,
               false,
               false,
               false,
               false,
               false,
               true,
               true,
               false,
               false,
               true,
               false,
               false,
               true,
               false,
               false,
               false,
               true,
               true,
               false,
               false,
               false,
               false,
               false,
               false,
               false,
               false,
               true,
               false,
               false,
               true,
               true,
               false,
               false,
               false,
               false,
               false
              ]
             },
             {
              "x": [
               "Midwest"
              ],
              "xaxis": {
               "title": "Midwest"
              },
              "yaxis": {
               "title": "Average Housing Price in the Midwest"
              }
             }
            ],
            "label": "Midwest",
            "method": "update"
           },
           {
            "args": [
             {
              "visible": [
               false,
               false,
               false,
               false,
               true,
               true,
               true,
               false,
               true,
               true,
               false,
               false,
               false,
               false,
               false,
               false,
               false,
               false,
               true,
               false,
               true,
               false,
               true,
               true,
               true,
               false,
               false,
               false,
               false,
               true,
               false,
               false,
               false,
               false,
               false,
               false,
               true,
               true,
               false,
               true,
               false,
               true,
               true,
               true,
               true,
               true,
               true,
               false,
               false,
               false,
               true,
               false,
               false,
               false,
               false,
               true,
               false,
               false,
               false,
               false,
               true,
               false,
               false,
               false,
               true,
               true,
               true,
               false,
               true,
               false,
               false,
               true,
               true,
               true,
               true,
               false,
               true,
               false,
               false,
               true,
               true,
               false,
               false,
               false,
               false,
               false,
               true,
               true,
               false,
               false,
               false,
               false,
               true,
               true,
               true,
               true,
               false,
               false,
               false,
               true,
               false,
               false,
               false,
               false,
               false,
               true,
               true,
               true,
               true,
               false,
               false,
               true,
               true,
               true,
               true,
               false,
               false,
               true,
               true,
               false,
               false,
               false,
               false,
               false,
               true,
               false,
               true,
               true,
               false,
               false,
               true,
               false,
               false,
               false,
               true,
               false,
               true,
               true,
               false,
               true,
               false,
               true,
               false,
               true,
               false,
               true,
               true,
               false,
               false,
               false,
               false,
               true,
               false,
               false,
               true,
               false,
               true,
               false,
               true,
               true,
               true,
               false,
               true,
               false,
               false,
               true,
               false,
               false,
               true,
               true,
               false,
               true,
               false,
               true,
               false,
               false,
               false,
               false,
               false,
               false,
               false,
               true,
               true,
               true,
               true,
               false,
               true,
               true,
               false,
               false,
               false,
               true,
               false,
               false,
               true,
               true,
               false,
               true,
               false,
               false,
               false,
               false,
               false,
               false,
               true,
               false,
               false,
               true,
               true,
               false,
               false,
               false,
               true,
               true,
               false,
               true,
               false,
               true,
               true,
               true,
               false,
               false,
               false,
               false,
               true,
               false,
               false,
               true,
               false,
               false,
               false,
               true,
               false,
               true,
               false,
               true,
               false,
               true,
               false,
               false,
               true,
               false,
               true,
               true,
               false,
               false,
               false,
               true,
               false,
               false,
               false,
               false,
               true,
               false,
               false,
               false,
               true,
               false,
               false,
               true,
               false,
               true,
               false,
               false,
               false,
               false,
               true,
               false,
               false,
               false,
               false,
               true,
               false,
               false,
               true,
               false,
               false,
               true,
               true,
               true,
               true,
               false,
               true,
               true,
               true,
               false,
               false,
               true,
               false,
               true,
               false,
               true,
               true,
               false,
               true,
               false,
               false,
               false,
               true,
               false,
               false,
               true,
               false,
               false,
               false,
               false,
               true,
               false,
               true,
               false,
               false,
               false,
               true,
               false,
               false,
               true,
               true,
               false,
               false,
               false,
               true,
               false,
               false,
               true,
               false,
               false,
               false,
               true,
               false,
               false,
               true,
               false,
               false,
               false,
               false,
               false,
               true,
               false,
               true,
               true,
               false,
               true,
               false,
               false,
               false,
               false,
               false,
               false,
               false,
               true,
               false,
               true,
               true,
               false,
               false,
               false,
               true,
               false,
               false,
               false,
               true,
               false,
               true,
               false,
               false,
               false,
               false,
               true,
               false,
               true,
               false,
               true,
               false,
               true,
               true,
               true,
               true,
               false,
               false,
               false,
               true,
               false,
               false,
               true,
               false,
               false,
               false,
               false,
               false,
               false,
               false,
               false,
               true,
               true,
               false,
               true,
               false,
               true,
               true,
               false,
               false,
               false,
               true,
               false,
               false,
               false,
               false,
               true,
               false,
               false,
               false,
               false,
               true,
               false,
               true,
               true,
               false,
               true,
               false,
               false,
               true,
               false,
               false,
               false,
               true,
               true,
               false,
               false,
               false,
               false,
               true,
               false,
               false,
               false,
               true,
               false,
               false,
               false,
               false,
               false,
               true,
               false,
               false,
               false,
               false,
               false,
               true,
               false,
               true,
               true,
               true,
               true,
               true,
               true,
               false,
               true,
               false,
               true,
               true,
               false,
               false,
               false,
               false,
               true,
               true,
               false,
               false,
               false,
               false,
               false,
               true,
               true,
               true,
               false,
               true,
               true,
               false,
               false,
               false,
               false,
               true,
               true,
               false,
               false,
               false,
               true,
               false,
               false,
               false,
               true,
               false,
               false,
               false,
               false,
               false,
               false,
               false,
               true,
               true,
               false,
               false,
               false,
               false,
               true,
               true,
               true,
               false,
               true,
               false,
               true,
               false,
               false,
               false,
               true,
               true,
               false,
               false,
               false,
               true,
               false,
               true,
               false,
               false,
               true,
               true,
               true,
               true,
               false,
               false,
               false,
               false,
               true,
               false,
               false,
               true,
               true,
               true,
               true,
               false,
               true,
               false,
               false,
               true,
               false,
               false,
               true,
               false,
               false,
               true,
               false,
               true,
               false,
               true,
               true,
               false,
               true,
               false,
               false,
               false,
               true,
               false,
               false,
               false,
               true,
               false,
               false,
               true,
               false,
               false,
               true,
               false,
               false,
               true,
               false,
               false,
               false,
               false,
               false,
               false,
               true,
               true,
               true,
               true,
               false,
               true,
               true,
               false,
               true,
               false,
               false,
               true,
               false,
               true,
               false,
               false,
               false,
               true,
               true,
               true,
               true,
               false,
               true,
               false,
               false,
               true,
               false,
               true,
               true,
               false,
               false,
               true,
               false,
               false,
               true,
               true,
               true,
               true,
               true,
               true,
               false,
               false,
               true,
               true,
               false,
               false,
               false,
               false,
               true,
               false,
               false,
               true,
               false,
               true,
               true,
               false,
               false,
               false,
               false,
               false,
               false,
               false,
               false,
               false,
               true,
               true,
               false,
               false,
               true,
               false,
               true,
               false,
               false,
               false,
               true,
               false,
               false,
               false,
               true,
               true,
               true,
               true,
               false,
               false,
               false,
               true,
               false,
               false,
               false,
               false,
               true,
               false,
               true,
               true,
               false,
               false,
               false,
               false,
               false,
               false,
               true,
               true,
               false,
               false,
               true,
               true,
               false,
               false,
               true,
               false,
               true,
               false,
               true,
               true,
               true,
               false,
               true,
               true,
               false,
               false,
               false,
               true,
               false,
               false,
               true,
               true,
               true,
               false,
               true,
               false,
               false,
               false,
               false,
               true,
               false,
               true,
               false,
               true,
               false,
               false,
               true,
               true,
               true,
               false,
               false,
               false,
               false,
               true,
               false,
               false,
               true,
               true,
               false,
               false,
               true,
               true,
               true,
               false,
               false,
               true,
               false,
               false,
               false,
               true,
               true,
               false,
               true,
               false,
               false,
               true,
               true,
               true,
               false,
               false,
               true,
               false,
               true,
               false,
               false,
               false,
               false,
               true,
               false,
               true,
               true,
               false,
               false,
               true,
               true,
               false,
               false,
               true
              ]
             },
             {
              "x": [
               "South"
              ],
              "xaxis": {
               "title": "South"
              },
              "yaxis": {
               "title": "Average Housing Price in the South"
              }
             }
            ],
            "label": "South",
            "method": "update"
           }
          ],
          "direction": "down",
          "showactive": true,
          "x": 0.17,
          "xanchor": "left",
          "y": 1.15,
          "yanchor": "top"
         }
        ],
        "width": 1400,
        "xaxis": {
         "anchor": "y",
         "domain": [
          0,
          1
         ],
         "title": {
          "text": "Region"
         }
        },
        "yaxis": {
         "anchor": "x",
         "domain": [
          0,
          1
         ],
         "title": {
          "text": "Average Housing Price per Region"
         }
        }
       }
      },
      "image/png": "[encoded data removed]",
      "text/html": [
       "<div>                            <div id=\"e2e36e09-35d7-4f04-be0a-07120374526a\" class=\"plotly-graph-div\" style=\"height:700px; width:1400px;\"></div>            <script type=\"text/javascript\">                require([\"plotly\"], function(Plotly) {                    window.PLOTLYENV=window.PLOTLYENV || {};                                    if (document.getElementById(\"e2e36e09-35d7-4f04-be0a-07120374526a\")) {                    Plotly.newPlot(                        \"e2e36e09-35d7-4f04-be0a-07120374526a\",                        [{\"customdata\":[[\"Midwest\"],[\"Midwest\"],[\"Midwest\"],[\"Midwest\"],[\"Midwest\"],[\"Midwest\"],[\"Midwest\"],[\"Midwest\"],[\"Midwest\"],[\"Midwest\"],[\"Midwest\"],[\"Midwest\"],[\"Midwest\"],[\"Midwest\"],[\"Midwest\"],[\"Midwest\"],[\"Midwest\"],[\"Midwest\"],[\"Midwest\"],[\"Midwest\"],[\"Midwest\"],[\"Midwest\"],[\"Midwest\"],[\"Midwest\"],[\"Midwest\"],[\"Midwest\"],[\"Midwest\"],[\"Midwest\"],[\"Midwest\"],[\"Midwest\"],[\"Midwest\"],[\"Midwest\"],[\"Midwest\"],[\"Midwest\"],[\"Midwest\"],[\"Midwest\"],[\"Midwest\"],[\"Midwest\"],[\"Midwest\"],[\"Midwest\"],[\"Midwest\"],[\"Midwest\"],[\"Midwest\"],[\"Midwest\"],[\"Midwest\"],[\"Midwest\"],[\"Midwest\"],[\"Midwest\"],[\"Midwest\"],[\"Midwest\"],[\"Midwest\"],[\"Midwest\"],[\"Midwest\"],[\"Midwest\"],[\"Midwest\"],[\"Midwest\"],[\"Midwest\"],[\"Midwest\"],[\"Midwest\"],[\"Midwest\"],[\"Midwest\"],[\"Midwest\"],[\"Midwest\"],[\"Midwest\"],[\"Midwest\"],[\"Midwest\"],[\"Midwest\"],[\"Midwest\"],[\"Midwest\"],[\"Midwest\"],[\"Midwest\"],[\"Midwest\"],[\"Midwest\"],[\"Midwest\"],[\"Midwest\"],[\"Midwest\"],[\"Midwest\"],[\"Midwest\"],[\"Midwest\"],[\"Midwest\"],[\"Midwest\"],[\"Midwest\"],[\"Midwest\"],[\"Midwest\"],[\"Midwest\"],[\"Midwest\"],[\"Midwest\"],[\"Midwest\"],[\"Midwest\"],[\"Midwest\"],[\"Midwest\"],[\"Midwest\"],[\"Midwest\"],[\"Midwest\"],[\"Midwest\"],[\"Midwest\"],[\"Midwest\"],[\"Midwest\"],[\"Midwest\"],[\"Midwest\"],[\"Midwest\"],[\"Midwest\"],[\"Midwest\"],[\"Midwest\"],[\"Midwest\"],[\"Midwest\"],[\"Midwest\"],[\"Midwest\"],[\"Midwest\"],[\"Midwest\"],[\"Midwest\"],[\"Midwest\"],[\"Midwest\"],[\"Midwest\"],[\"Midwest\"],[\"Midwest\"],[\"Midwest\"],[\"Midwest\"],[\"Midwest\"],[\"Midwest\"],[\"Midwest\"],[\"Midwest\"],[\"Midwest\"],[\"Midwest\"],[\"Midwest\"],[\"Midwest\"],[\"Midwest\"],[\"Midwest\"],[\"Midwest\"],[\"Midwest\"],[\"Midwest\"],[\"Midwest\"],[\"Midwest\"],[\"Midwest\"],[\"Midwest\"],[\"Midwest\"],[\"Midwest\"],[\"Midwest\"],[\"Midwest\"],[\"Midwest\"],[\"Midwest\"],[\"Midwest\"],[\"Midwest\"],[\"Midwest\"],[\"Midwest\"],[\"Midwest\"],[\"Midwest\"],[\"Midwest\"],[\"Midwest\"],[\"Midwest\"],[\"Midwest\"],[\"Midwest\"],[\"Midwest\"],[\"Midwest\"],[\"Midwest\"],[\"Midwest\"],[\"Midwest\"],[\"Midwest\"],[\"Midwest\"],[\"Midwest\"],[\"Midwest\"],[\"Midwest\"],[\"Midwest\"],[\"Midwest\"],[\"Midwest\"],[\"Midwest\"],[\"Midwest\"],[\"Midwest\"],[\"Midwest\"],[\"Midwest\"],[\"Midwest\"],[\"Midwest\"],[\"Midwest\"],[\"Midwest\"],[\"Midwest\"],[\"Midwest\"],[\"Midwest\"],[\"Midwest\"],[\"Midwest\"],[\"Midwest\"],[\"Midwest\"],[\"Midwest\"],[\"Midwest\"],[\"Midwest\"],[\"Midwest\"],[\"Midwest\"],[\"Midwest\"],[\"Midwest\"],[\"Midwest\"],[\"Midwest\"],[\"Midwest\"],[\"Midwest\"],[\"Midwest\"],[\"Midwest\"],[\"Midwest\"],[\"Midwest\"],[\"Midwest\"],[\"Midwest\"],[\"Midwest\"],[\"Midwest\"],[\"Midwest\"],[\"Midwest\"],[\"Midwest\"],[\"Midwest\"],[\"Midwest\"],[\"Midwest\"],[\"Midwest\"],[\"Midwest\"],[\"Midwest\"],[\"Midwest\"],[\"Midwest\"],[\"Midwest\"],[\"Midwest\"],[\"Midwest\"],[\"Midwest\"],[\"Midwest\"],[\"Midwest\"],[\"Midwest\"],[\"Midwest\"],[\"Midwest\"],[\"Midwest\"],[\"Midwest\"],[\"Midwest\"],[\"Midwest\"],[\"Midwest\"],[\"Midwest\"],[\"Midwest\"],[\"Midwest\"],[\"Midwest\"],[\"Midwest\"],[\"Midwest\"],[\"Midwest\"],[\"Midwest\"],[\"Midwest\"],[\"Midwest\"],[\"Midwest\"],[\"Midwest\"],[\"Midwest\"],[\"Midwest\"],[\"Midwest\"],[\"Midwest\"],[\"Midwest\"],[\"Midwest\"],[\"Midwest\"],[\"Midwest\"],[\"Midwest\"],[\"Midwest\"],[\"Midwest\"],[\"Midwest\"],[\"Midwest\"],[\"Midwest\"],[\"Midwest\"],[\"Midwest\"],[\"Midwest\"],[\"Midwest\"],[\"Midwest\"],[\"Midwest\"],[\"Midwest\"],[\"Midwest\"],[\"Midwest\"],[\"Midwest\"],[\"Midwest\"],[\"Midwest\"],[\"Midwest\"],[\"Midwest\"],[\"Midwest\"],[\"Midwest\"],[\"Midwest\"],[\"Midwest\"],[\"Midwest\"],[\"Midwest\"],[\"Midwest\"],[\"Midwest\"],[\"Midwest\"],[\"Midwest\"],[\"Midwest\"],[\"Midwest\"],[\"Midwest\"],[\"Midwest\"],[\"Midwest\"],[\"Midwest\"],[\"Midwest\"],[\"Midwest\"],[\"Midwest\"],[\"Midwest\"],[\"Midwest\"],[\"Midwest\"],[\"Midwest\"],[\"Midwest\"],[\"Midwest\"],[\"Midwest\"],[\"Midwest\"],[\"Midwest\"],[\"Midwest\"],[\"Midwest\"],[\"Midwest\"],[\"Midwest\"],[\"Midwest\"],[\"Midwest\"],[\"Midwest\"],[\"Midwest\"]],\"hovertemplate\":\"RegionName=%{customdata[0]}\\u003cbr\\u003eYear (2000-2024)=%{x}\\u003cbr\\u003eLog of House Value ($)=%{y}\\u003cextra\\u003e\\u003c\\u002fextra\\u003e\",\"legendgroup\":\"Midwest\",\"line\":{\"color\":\"#636efa\",\"dash\":\"solid\"},\"marker\":{\"symbol\":\"circle\",\"size\":3},\"mode\":\"lines\",\"name\":\"Midwest\",\"showlegend\":true,\"x\":[\"2000-01-31T00:00:00\",\"2000-02-29T00:00:00\",\"2000-03-31T00:00:00\",\"2000-04-30T00:00:00\",\"2000-05-31T00:00:00\",\"2000-06-30T00:00:00\",\"2000-07-31T00:00:00\",\"2000-08-31T00:00:00\",\"2000-09-30T00:00:00\",\"2000-10-31T00:00:00\",\"2000-11-30T00:00:00\",\"2000-12-31T00:00:00\",\"2001-01-31T00:00:00\",\"2001-02-28T00:00:00\",\"2001-03-31T00:00:00\",\"2001-04-30T00:00:00\",\"2001-05-31T00:00:00\",\"2001-06-30T00:00:00\",\"2001-07-31T00:00:00\",\"2001-08-31T00:00:00\",\"2001-09-30T00:00:00\",\"2001-10-31T00:00:00\",\"2001-11-30T00:00:00\",\"2001-12-31T00:00:00\",\"2002-01-31T00:00:00\",\"2002-02-28T00:00:00\",\"2002-03-31T00:00:00\",\"2002-04-30T00:00:00\",\"2002-05-31T00:00:00\",\"2002-06-30T00:00:00\",\"2002-07-31T00:00:00\",\"2002-08-31T00:00:00\",\"2002-09-30T00:00:00\",\"2002-10-31T00:00:00\",\"2002-11-30T00:00:00\",\"2002-12-31T00:00:00\",\"2003-01-31T00:00:00\",\"2003-02-28T00:00:00\",\"2003-03-31T00:00:00\",\"2003-04-30T00:00:00\",\"2003-05-31T00:00:00\",\"2003-06-30T00:00:00\",\"2003-07-31T00:00:00\",\"2003-08-31T00:00:00\",\"2003-09-30T00:00:00\",\"2003-10-31T00:00:00\",\"2003-11-30T00:00:00\",\"2003-12-31T00:00:00\",\"2004-01-31T00:00:00\",\"2004-02-29T00:00:00\",\"2004-03-31T00:00:00\",\"2004-04-30T00:00:00\",\"2004-05-31T00:00:00\",\"2004-06-30T00:00:00\",\"2004-07-31T00:00:00\",\"2004-08-31T00:00:00\",\"2004-09-30T00:00:00\",\"2004-10-31T00:00:00\",\"2004-11-30T00:00:00\",\"2004-12-31T00:00:00\",\"2005-01-31T00:00:00\",\"2005-02-28T00:00:00\",\"2005-03-31T00:00:00\",\"2005-04-30T00:00:00\",\"2005-05-31T00:00:00\",\"2005-06-30T00:00:00\",\"2005-07-31T00:00:00\",\"2005-08-31T00:00:00\",\"2005-09-30T00:00:00\",\"2005-10-31T00:00:00\",\"2005-11-30T00:00:00\",\"2005-12-31T00:00:00\",\"2006-01-31T00:00:00\",\"2006-02-28T00:00:00\",\"2006-03-31T00:00:00\",\"2006-04-30T00:00:00\",\"2006-05-31T00:00:00\",\"2006-06-30T00:00:00\",\"2006-07-31T00:00:00\",\"2006-08-31T00:00:00\",\"2006-09-30T00:00:00\",\"2006-10-31T00:00:00\",\"2006-11-30T00:00:00\",\"2006-12-31T00:00:00\",\"2007-01-31T00:00:00\",\"2007-02-28T00:00:00\",\"2007-03-31T00:00:00\",\"2007-04-30T00:00:00\",\"2007-05-31T00:00:00\",\"2007-06-30T00:00:00\",\"2007-07-31T00:00:00\",\"2007-08-31T00:00:00\",\"2007-09-30T00:00:00\",\"2007-10-31T00:00:00\",\"2007-11-30T00:00:00\",\"2007-12-31T00:00:00\",\"2008-01-31T00:00:00\",\"2008-02-29T00:00:00\",\"2008-03-31T00:00:00\",\"2008-04-30T00:00:00\",\"2008-05-31T00:00:00\",\"2008-06-30T00:00:00\",\"2008-07-31T00:00:00\",\"2008-08-31T00:00:00\",\"2008-09-30T00:00:00\",\"2008-10-31T00:00:00\",\"2008-11-30T00:00:00\",\"2008-12-31T00:00:00\",\"2009-01-31T00:00:00\",\"2009-02-28T00:00:00\",\"2009-03-31T00:00:00\",\"2009-04-30T00:00:00\",\"2009-05-31T00:00:00\",\"2009-06-30T00:00:00\",\"2009-07-31T00:00:00\",\"2009-08-31T00:00:00\",\"2009-09-30T00:00:00\",\"2009-10-31T00:00:00\",\"2009-11-30T00:00:00\",\"2009-12-31T00:00:00\",\"2010-01-31T00:00:00\",\"2010-02-28T00:00:00\",\"2010-03-31T00:00:00\",\"2010-04-30T00:00:00\",\"2010-05-31T00:00:00\",\"2010-06-30T00:00:00\",\"2010-07-31T00:00:00\",\"2010-08-31T00:00:00\",\"2010-09-30T00:00:00\",\"2010-10-31T00:00:00\",\"2010-11-30T00:00:00\",\"2010-12-31T00:00:00\",\"2011-01-31T00:00:00\",\"2011-02-28T00:00:00\",\"2011-03-31T00:00:00\",\"2011-04-30T00:00:00\",\"2011-05-31T00:00:00\",\"2011-06-30T00:00:00\",\"2011-07-31T00:00:00\",\"2011-08-31T00:00:00\",\"2011-09-30T00:00:00\",\"2011-10-31T00:00:00\",\"2011-11-30T00:00:00\",\"2011-12-31T00:00:00\",\"2012-01-31T00:00:00\",\"2012-02-29T00:00:00\",\"2012-03-31T00:00:00\",\"2012-04-30T00:00:00\",\"2012-05-31T00:00:00\",\"2012-06-30T00:00:00\",\"2012-07-31T00:00:00\",\"2012-08-31T00:00:00\",\"2012-09-30T00:00:00\",\"2012-10-31T00:00:00\",\"2012-11-30T00:00:00\",\"2012-12-31T00:00:00\",\"2013-01-31T00:00:00\",\"2013-02-28T00:00:00\",\"2013-03-31T00:00:00\",\"2013-04-30T00:00:00\",\"2013-05-31T00:00:00\",\"2013-06-30T00:00:00\",\"2013-07-31T00:00:00\",\"2013-08-31T00:00:00\",\"2013-09-30T00:00:00\",\"2013-10-31T00:00:00\",\"2013-11-30T00:00:00\",\"2013-12-31T00:00:00\",\"2014-01-31T00:00:00\",\"2014-02-28T00:00:00\",\"2014-03-31T00:00:00\",\"2014-04-30T00:00:00\",\"2014-05-31T00:00:00\",\"2014-06-30T00:00:00\",\"2014-07-31T00:00:00\",\"2014-08-31T00:00:00\",\"2014-09-30T00:00:00\",\"2014-10-31T00:00:00\",\"2014-11-30T00:00:00\",\"2014-12-31T00:00:00\",\"2015-01-31T00:00:00\",\"2015-02-28T00:00:00\",\"2015-03-31T00:00:00\",\"2015-04-30T00:00:00\",\"2015-05-31T00:00:00\",\"2015-06-30T00:00:00\",\"2015-07-31T00:00:00\",\"2015-08-31T00:00:00\",\"2015-09-30T00:00:00\",\"2015-10-31T00:00:00\",\"2015-11-30T00:00:00\",\"2015-12-31T00:00:00\",\"2016-01-31T00:00:00\",\"2016-02-29T00:00:00\",\"2016-03-31T00:00:00\",\"2016-04-30T00:00:00\",\"2016-05-31T00:00:00\",\"2016-06-30T00:00:00\",\"2016-07-31T00:00:00\",\"2016-08-31T00:00:00\",\"2016-09-30T00:00:00\",\"2016-10-31T00:00:00\",\"2016-11-30T00:00:00\",\"2016-12-31T00:00:00\",\"2017-01-31T00:00:00\",\"2017-02-28T00:00:00\",\"2017-03-31T00:00:00\",\"2017-04-30T00:00:00\",\"2017-05-31T00:00:00\",\"2017-06-30T00:00:00\",\"2017-07-31T00:00:00\",\"2017-08-31T00:00:00\",\"2017-09-30T00:00:00\",\"2017-10-31T00:00:00\",\"2017-11-30T00:00:00\",\"2017-12-31T00:00:00\",\"2018-01-31T00:00:00\",\"2018-02-28T00:00:00\",\"2018-03-31T00:00:00\",\"2018-04-30T00:00:00\",\"2018-05-31T00:00:00\",\"2018-06-30T00:00:00\",\"2018-07-31T00:00:00\",\"2018-08-31T00:00:00\",\"2018-09-30T00:00:00\",\"2018-10-31T00:00:00\",\"2018-11-30T00:00:00\",\"2018-12-31T00:00:00\",\"2019-01-31T00:00:00\",\"2019-02-28T00:00:00\",\"2019-03-31T00:00:00\",\"2019-04-30T00:00:00\",\"2019-05-31T00:00:00\",\"2019-06-30T00:00:00\",\"2019-07-31T00:00:00\",\"2019-08-31T00:00:00\",\"2019-09-30T00:00:00\",\"2019-10-31T00:00:00\",\"2019-11-30T00:00:00\",\"2019-12-31T00:00:00\",\"2020-01-31T00:00:00\",\"2020-02-29T00:00:00\",\"2020-03-31T00:00:00\",\"2020-04-30T00:00:00\",\"2020-05-31T00:00:00\",\"2020-06-30T00:00:00\",\"2020-07-31T00:00:00\",\"2020-08-31T00:00:00\",\"2020-09-30T00:00:00\",\"2020-10-31T00:00:00\",\"2020-11-30T00:00:00\",\"2020-12-31T00:00:00\",\"2021-01-31T00:00:00\",\"2021-02-28T00:00:00\",\"2021-03-31T00:00:00\",\"2021-04-30T00:00:00\",\"2021-05-31T00:00:00\",\"2021-06-30T00:00:00\",\"2021-07-31T00:00:00\",\"2021-08-31T00:00:00\",\"2021-09-30T00:00:00\",\"2021-10-31T00:00:00\",\"2021-11-30T00:00:00\",\"2021-12-31T00:00:00\",\"2022-01-31T00:00:00\",\"2022-02-28T00:00:00\",\"2022-03-31T00:00:00\",\"2022-04-30T00:00:00\",\"2022-05-31T00:00:00\",\"2022-06-30T00:00:00\",\"2022-07-31T00:00:00\",\"2022-08-31T00:00:00\",\"2022-09-30T00:00:00\",\"2022-10-31T00:00:00\",\"2022-11-30T00:00:00\",\"2022-12-31T00:00:00\",\"2023-01-31T00:00:00\",\"2023-02-28T00:00:00\",\"2023-03-31T00:00:00\",\"2023-04-30T00:00:00\",\"2023-05-31T00:00:00\",\"2023-06-30T00:00:00\",\"2023-07-31T00:00:00\",\"2023-08-31T00:00:00\",\"2023-09-30T00:00:00\",\"2023-10-31T00:00:00\",\"2023-11-30T00:00:00\",\"2023-12-31T00:00:00\",\"2024-01-31T00:00:00\",\"2024-02-29T00:00:00\",\"2024-03-31T00:00:00\",\"2024-04-30T00:00:00\",\"2024-05-31T00:00:00\",\"2024-06-30T00:00:00\",\"2024-07-31T00:00:00\",\"2024-08-31T00:00:00\",\"2024-09-30T00:00:00\",\"2024-10-31T00:00:00\",\"2024-11-30T00:00:00\",\"2024-12-31T00:00:00\",\"2025-01-31T00:00:00\"],\"xaxis\":\"x\",\"y\":[108623.02952840803,108651.538615765,108702.86607975172,108816.57093053637,108969.71607925907,109138.99869573387,109321.3239407599,109502.85315776353,109701.8316737503,109899.44615999331,110108.58412900838,110314.73732051256,110518.90627610915,110692.546538996,110851.54138537905,111000.76721839234,111170.24503110647,111343.63988234337,111527.59437090585,111709.93719775781,111899.55187981493,112076.87604122573,112249.67565769576,112405.48870162677,112534.229230667,112638.47193266156,112741.68442272175,112865.98861239421,113004.49158886715,113150.53747173121,113301.6273242073,113456.58299938406,113605.5265076696,113759.79887461795,113910.84769460115,114061.65048249938,114177.76635493895,114285.9391260582,114382.07557913063,114490.85514919598,114616.22719952973,114764.48118064374,114938.99142368337,115146.06752184885,115382.2471047683,115665.36965527579,115898.91666993823,116100.75408912974,116251.74606875199,116419.65981363815,116593.79846683587,116786.70896999176,117017.65582157978,117275.15499156633,117549.84898349017,117807.74523217054,118063.06207829584,118303.93792838459,118544.92058035676,118770.45004865411,119019.73466116427,119250.27712066357,119467.84890983933,119641.16550523206,119815.57686323966,119963.86797776856,120121.10806804687,120299.00331579875,120499.84422124086,120692.38935089477,120874.29002883243,121021.86375993676,121150.00634341226,121253.46263681918,121339.29311221433,121409.38877013129,121463.90199690769,121481.62220826288,121471.59593834067,121466.28743845534,121485.49933864335,121532.65596553136,121566.82499905197,121598.2230832934,121617.23786013697,121641.28064648,121644.53262608731,121651.3529184144,121611.47832244667,121538.91370426261,121388.11858104721,121276.81851579144,121179.18470237625,121114.02686191331,121009.04302505213,120898.837987868,120795.68110720991,120657.40350421709,120507.19203348151,120299.30624033454,120084.0613996977,119869.30984748054,119653.04411522634,119392.28600709619,119119.4600343399,118826.50836627286,118547.48149108175,118237.41955417111,117924.68733517556,117622.87357333672,117304.79162907487,116978.74946921725,116609.52228247107,116196.77603499265,115750.87091993529,115288.64610784709,114873.70475077732,114481.65033094192,114158.0327238374,113902.61433809386,113679.35065548049,113508.60751893149,113405.07910019848,113436.76115580263,113538.45341978574,113627.55911949048,113627.3720193014,113466.98131493178,113206.88725585889,112879.02303636786,112516.15189495082,112083.8296612907,111640.3659466867,111170.76558335965,110745.86998659652,110346.49351026565,110043.5775512011,109846.09186712619,109776.76487586302,109790.98486310057,109784.03244776114,109711.71255973614,109586.09223429706,109438.54355594577,109330.8027610837,109382.962102893,109626.7892754412,109989.81745753986,110454.0576292336,110920.90595121535,111418.0726572676,111818.07007783772,112291.61322159761,112711.83823158876,112994.77420767285,113163.16184597589,113363.40060486924,113652.08761628786,114068.34200153963,114496.52633867216,115007.62558219841,115529.30208625182,116028.27613769229,116697.30124220751,117285.95080537527,117883.51571160388,118085.65727866333,118195.41197106495,118259.31041295778,118472.57789500889,118691.38681846336,119039.06499340657,119517.18087149395,120132.27484158531,120800.39525705237,121342.862944415,121650.69541243314,121617.01888728091,121596.26093032477,121750.67393636396,122037.35016427816,122300.08379615234,122636.64698221632,123169.50273920063,123872.64133842512,124536.7889821923,125140.66176797159,125745.10033550442,126296.77354162442,126850.45907796684,127197.3929350676,127644.52366185673,128157.32757628911,128738.59149306324,129010.4862190246,129196.30703113413,129386.5752411563,129754.46272921874,129909.77620471174,130041.51712619908,130204.52867535315,130602.6049365812,131070.78611659053,131590.5223376868,132062.63951850723,132465.88203962153,132831.7879526106,133265.33879941062,133735.42850890162,134214.78037333107,134704.35073151765,135166.6163107158,135675.252351716,136212.98821812432,136835.91499286873,137408.22449568528,137930.57512007706,138411.94815581516,139152.45438681493,139903.81665663046,140644.41164840435,141077.85321537434,141659.68790174715,142136.3310018618,142696.58509171367,142956.10683182234,143382.04928553596,143837.04430306322,144521.5030362714,145424.05940269373,146511.2570536323,147491.10580211875,148184.49065921849,148720.98810437546,149190.3756874248,149631.43215080022,149961.52394015243,150507.66540235482,151258.16370958977,152112.5556711,152814.92141273266,153512.01181013993,154291.8369911844,155172.37121165317,155785.34511039456,156176.01564355564,156698.75053712673,157768.12939033424,159663.70163713387,161804.69181715947,164004.01380699078,165808.99352263397,167424.58905694916,169124.8898878651,170952.79281567284,172975.1632419539,175247.80047809237,177782.3584511589,179939.1877850881,181170.52631352024,181533.78024265598,181965.74789116025,182919.8859593303,184209.34942787327,186242.69058244853,188740.01980159685,191646.86857149116,194440.2044907072,196760.36975990873,198819.03155635257,199782.93567979062,199864.20926792664,199244.63329235575,198932.5206867843,198871.58560941272,198900.0444634385,198780.81091421444,198778.86862374487,199296.8372152709,200482.36539430064,202136.43037603976,203775.75715928632,205001.0909282094,205961.70728278978,206630.67088064764,207044.52203206954,207304.37224527844,207391.70853651597,207582.56626627062,208260.06554372516,209748.35995430002,211590.99739439535,212983.38491726606,213792.2723307526,214177.16385770807,214594.1699796232,214992.42367173507,215704.7052847605,216570.73448894164,217788.03922659997,218947.7829175733],\"yaxis\":\"y\",\"type\":\"scattergl\"},{\"customdata\":[[\"Northeast\"],[\"Northeast\"],[\"Northeast\"],[\"Northeast\"],[\"Northeast\"],[\"Northeast\"],[\"Northeast\"],[\"Northeast\"],[\"Northeast\"],[\"Northeast\"],[\"Northeast\"],[\"Northeast\"],[\"Northeast\"],[\"Northeast\"],[\"Northeast\"],[\"Northeast\"],[\"Northeast\"],[\"Northeast\"],[\"Northeast\"],[\"Northeast\"],[\"Northeast\"],[\"Northeast\"],[\"Northeast\"],[\"Northeast\"],[\"Northeast\"],[\"Northeast\"],[\"Northeast\"],[\"Northeast\"],[\"Northeast\"],[\"Northeast\"],[\"Northeast\"],[\"Northeast\"],[\"Northeast\"],[\"Northeast\"],[\"Northeast\"],[\"Northeast\"],[\"Northeast\"],[\"Northeast\"],[\"Northeast\"],[\"Northeast\"],[\"Northeast\"],[\"Northeast\"],[\"Northeast\"],[\"Northeast\"],[\"Northeast\"],[\"Northeast\"],[\"Northeast\"],[\"Northeast\"],[\"Northeast\"],[\"Northeast\"],[\"Northeast\"],[\"Northeast\"],[\"Northeast\"],[\"Northeast\"],[\"Northeast\"],[\"Northeast\"],[\"Northeast\"],[\"Northeast\"],[\"Northeast\"],[\"Northeast\"],[\"Northeast\"],[\"Northeast\"],[\"Northeast\"],[\"Northeast\"],[\"Northeast\"],[\"Northeast\"],[\"Northeast\"],[\"Northeast\"],[\"Northeast\"],[\"Northeast\"],[\"Northeast\"],[\"Northeast\"],[\"Northeast\"],[\"Northeast\"],[\"Northeast\"],[\"Northeast\"],[\"Northeast\"],[\"Northeast\"],[\"Northeast\"],[\"Northeast\"],[\"Northeast\"],[\"Northeast\"],[\"Northeast\"],[\"Northeast\"],[\"Northeast\"],[\"Northeast\"],[\"Northeast\"],[\"Northeast\"],[\"Northeast\"],[\"Northeast\"],[\"Northeast\"],[\"Northeast\"],[\"Northeast\"],[\"Northeast\"],[\"Northeast\"],[\"Northeast\"],[\"Northeast\"],[\"Northeast\"],[\"Northeast\"],[\"Northeast\"],[\"Northeast\"],[\"Northeast\"],[\"Northeast\"],[\"Northeast\"],[\"Northeast\"],[\"Northeast\"],[\"Northeast\"],[\"Northeast\"],[\"Northeast\"],[\"Northeast\"],[\"Northeast\"],[\"Northeast\"],[\"Northeast\"],[\"Northeast\"],[\"Northeast\"],[\"Northeast\"],[\"Northeast\"],[\"Northeast\"],[\"Northeast\"],[\"Northeast\"],[\"Northeast\"],[\"Northeast\"],[\"Northeast\"],[\"Northeast\"],[\"Northeast\"],[\"Northeast\"],[\"Northeast\"],[\"Northeast\"],[\"Northeast\"],[\"Northeast\"],[\"Northeast\"],[\"Northeast\"],[\"Northeast\"],[\"Northeast\"],[\"Northeast\"],[\"Northeast\"],[\"Northeast\"],[\"Northeast\"],[\"Northeast\"],[\"Northeast\"],[\"Northeast\"],[\"Northeast\"],[\"Northeast\"],[\"Northeast\"],[\"Northeast\"],[\"Northeast\"],[\"Northeast\"],[\"Northeast\"],[\"Northeast\"],[\"Northeast\"],[\"Northeast\"],[\"Northeast\"],[\"Northeast\"],[\"Northeast\"],[\"Northeast\"],[\"Northeast\"],[\"Northeast\"],[\"Northeast\"],[\"Northeast\"],[\"Northeast\"],[\"Northeast\"],[\"Northeast\"],[\"Northeast\"],[\"Northeast\"],[\"Northeast\"],[\"Northeast\"],[\"Northeast\"],[\"Northeast\"],[\"Northeast\"],[\"Northeast\"],[\"Northeast\"],[\"Northeast\"],[\"Northeast\"],[\"Northeast\"],[\"Northeast\"],[\"Northeast\"],[\"Northeast\"],[\"Northeast\"],[\"Northeast\"],[\"Northeast\"],[\"Northeast\"],[\"Northeast\"],[\"Northeast\"],[\"Northeast\"],[\"Northeast\"],[\"Northeast\"],[\"Northeast\"],[\"Northeast\"],[\"Northeast\"],[\"Northeast\"],[\"Northeast\"],[\"Northeast\"],[\"Northeast\"],[\"Northeast\"],[\"Northeast\"],[\"Northeast\"],[\"Northeast\"],[\"Northeast\"],[\"Northeast\"],[\"Northeast\"],[\"Northeast\"],[\"Northeast\"],[\"Northeast\"],[\"Northeast\"],[\"Northeast\"],[\"Northeast\"],[\"Northeast\"],[\"Northeast\"],[\"Northeast\"],[\"Northeast\"],[\"Northeast\"],[\"Northeast\"],[\"Northeast\"],[\"Northeast\"],[\"Northeast\"],[\"Northeast\"],[\"Northeast\"],[\"Northeast\"],[\"Northeast\"],[\"Northeast\"],[\"Northeast\"],[\"Northeast\"],[\"Northeast\"],[\"Northeast\"],[\"Northeast\"],[\"Northeast\"],[\"Northeast\"],[\"Northeast\"],[\"Northeast\"],[\"Northeast\"],[\"Northeast\"],[\"Northeast\"],[\"Northeast\"],[\"Northeast\"],[\"Northeast\"],[\"Northeast\"],[\"Northeast\"],[\"Northeast\"],[\"Northeast\"],[\"Northeast\"],[\"Northeast\"],[\"Northeast\"],[\"Northeast\"],[\"Northeast\"],[\"Northeast\"],[\"Northeast\"],[\"Northeast\"],[\"Northeast\"],[\"Northeast\"],[\"Northeast\"],[\"Northeast\"],[\"Northeast\"],[\"Northeast\"],[\"Northeast\"],[\"Northeast\"],[\"Northeast\"],[\"Northeast\"],[\"Northeast\"],[\"Northeast\"],[\"Northeast\"],[\"Northeast\"],[\"Northeast\"],[\"Northeast\"],[\"Northeast\"],[\"Northeast\"],[\"Northeast\"],[\"Northeast\"],[\"Northeast\"],[\"Northeast\"],[\"Northeast\"],[\"Northeast\"],[\"Northeast\"],[\"Northeast\"],[\"Northeast\"],[\"Northeast\"],[\"Northeast\"],[\"Northeast\"],[\"Northeast\"],[\"Northeast\"],[\"Northeast\"],[\"Northeast\"],[\"Northeast\"],[\"Northeast\"],[\"Northeast\"],[\"Northeast\"],[\"Northeast\"],[\"Northeast\"],[\"Northeast\"],[\"Northeast\"],[\"Northeast\"],[\"Northeast\"],[\"Northeast\"],[\"Northeast\"],[\"Northeast\"],[\"Northeast\"],[\"Northeast\"],[\"Northeast\"],[\"Northeast\"],[\"Northeast\"],[\"Northeast\"],[\"Northeast\"]],\"hovertemplate\":\"RegionName=%{customdata[0]}\\u003cbr\\u003eYear (2000-2024)=%{x}\\u003cbr\\u003eLog of House Value ($)=%{y}\\u003cextra\\u003e\\u003c\\u002fextra\\u003e\",\"legendgroup\":\"Northeast\",\"line\":{\"color\":\"#EF553B\",\"dash\":\"solid\"},\"marker\":{\"symbol\":\"circle\",\"size\":3},\"mode\":\"lines\",\"name\":\"Northeast\",\"showlegend\":true,\"x\":[\"2000-01-31T00:00:00\",\"2000-02-29T00:00:00\",\"2000-03-31T00:00:00\",\"2000-04-30T00:00:00\",\"2000-05-31T00:00:00\",\"2000-06-30T00:00:00\",\"2000-07-31T00:00:00\",\"2000-08-31T00:00:00\",\"2000-09-30T00:00:00\",\"2000-10-31T00:00:00\",\"2000-11-30T00:00:00\",\"2000-12-31T00:00:00\",\"2001-01-31T00:00:00\",\"2001-02-28T00:00:00\",\"2001-03-31T00:00:00\",\"2001-04-30T00:00:00\",\"2001-05-31T00:00:00\",\"2001-06-30T00:00:00\",\"2001-07-31T00:00:00\",\"2001-08-31T00:00:00\",\"2001-09-30T00:00:00\",\"2001-10-31T00:00:00\",\"2001-11-30T00:00:00\",\"2001-12-31T00:00:00\",\"2002-01-31T00:00:00\",\"2002-02-28T00:00:00\",\"2002-03-31T00:00:00\",\"2002-04-30T00:00:00\",\"2002-05-31T00:00:00\",\"2002-06-30T00:00:00\",\"2002-07-31T00:00:00\",\"2002-08-31T00:00:00\",\"2002-09-30T00:00:00\",\"2002-10-31T00:00:00\",\"2002-11-30T00:00:00\",\"2002-12-31T00:00:00\",\"2003-01-31T00:00:00\",\"2003-02-28T00:00:00\",\"2003-03-31T00:00:00\",\"2003-04-30T00:00:00\",\"2003-05-31T00:00:00\",\"2003-06-30T00:00:00\",\"2003-07-31T00:00:00\",\"2003-08-31T00:00:00\",\"2003-09-30T00:00:00\",\"2003-10-31T00:00:00\",\"2003-11-30T00:00:00\",\"2003-12-31T00:00:00\",\"2004-01-31T00:00:00\",\"2004-02-29T00:00:00\",\"2004-03-31T00:00:00\",\"2004-04-30T00:00:00\",\"2004-05-31T00:00:00\",\"2004-06-30T00:00:00\",\"2004-07-31T00:00:00\",\"2004-08-31T00:00:00\",\"2004-09-30T00:00:00\",\"2004-10-31T00:00:00\",\"2004-11-30T00:00:00\",\"2004-12-31T00:00:00\",\"2005-01-31T00:00:00\",\"2005-02-28T00:00:00\",\"2005-03-31T00:00:00\",\"2005-04-30T00:00:00\",\"2005-05-31T00:00:00\",\"2005-06-30T00:00:00\",\"2005-07-31T00:00:00\",\"2005-08-31T00:00:00\",\"2005-09-30T00:00:00\",\"2005-10-31T00:00:00\",\"2005-11-30T00:00:00\",\"2005-12-31T00:00:00\",\"2006-01-31T00:00:00\",\"2006-02-28T00:00:00\",\"2006-03-31T00:00:00\",\"2006-04-30T00:00:00\",\"2006-05-31T00:00:00\",\"2006-06-30T00:00:00\",\"2006-07-31T00:00:00\",\"2006-08-31T00:00:00\",\"2006-09-30T00:00:00\",\"2006-10-31T00:00:00\",\"2006-11-30T00:00:00\",\"2006-12-31T00:00:00\",\"2007-01-31T00:00:00\",\"2007-02-28T00:00:00\",\"2007-03-31T00:00:00\",\"2007-04-30T00:00:00\",\"2007-05-31T00:00:00\",\"2007-06-30T00:00:00\",\"2007-07-31T00:00:00\",\"2007-08-31T00:00:00\",\"2007-09-30T00:00:00\",\"2007-10-31T00:00:00\",\"2007-11-30T00:00:00\",\"2007-12-31T00:00:00\",\"2008-01-31T00:00:00\",\"2008-02-29T00:00:00\",\"2008-03-31T00:00:00\",\"2008-04-30T00:00:00\",\"2008-05-31T00:00:00\",\"2008-06-30T00:00:00\",\"2008-07-31T00:00:00\",\"2008-08-31T00:00:00\",\"2008-09-30T00:00:00\",\"2008-10-31T00:00:00\",\"2008-11-30T00:00:00\",\"2008-12-31T00:00:00\",\"2009-01-31T00:00:00\",\"2009-02-28T00:00:00\",\"2009-03-31T00:00:00\",\"2009-04-30T00:00:00\",\"2009-05-31T00:00:00\",\"2009-06-30T00:00:00\",\"2009-07-31T00:00:00\",\"2009-08-31T00:00:00\",\"2009-09-30T00:00:00\",\"2009-10-31T00:00:00\",\"2009-11-30T00:00:00\",\"2009-12-31T00:00:00\",\"2010-01-31T00:00:00\",\"2010-02-28T00:00:00\",\"2010-03-31T00:00:00\",\"2010-04-30T00:00:00\",\"2010-05-31T00:00:00\",\"2010-06-30T00:00:00\",\"2010-07-31T00:00:00\",\"2010-08-31T00:00:00\",\"2010-09-30T00:00:00\",\"2010-10-31T00:00:00\",\"2010-11-30T00:00:00\",\"2010-12-31T00:00:00\",\"2011-01-31T00:00:00\",\"2011-02-28T00:00:00\",\"2011-03-31T00:00:00\",\"2011-04-30T00:00:00\",\"2011-05-31T00:00:00\",\"2011-06-30T00:00:00\",\"2011-07-31T00:00:00\",\"2011-08-31T00:00:00\",\"2011-09-30T00:00:00\",\"2011-10-31T00:00:00\",\"2011-11-30T00:00:00\",\"2011-12-31T00:00:00\",\"2012-01-31T00:00:00\",\"2012-02-29T00:00:00\",\"2012-03-31T00:00:00\",\"2012-04-30T00:00:00\",\"2012-05-31T00:00:00\",\"2012-06-30T00:00:00\",\"2012-07-31T00:00:00\",\"2012-08-31T00:00:00\",\"2012-09-30T00:00:00\",\"2012-10-31T00:00:00\",\"2012-11-30T00:00:00\",\"2012-12-31T00:00:00\",\"2013-01-31T00:00:00\",\"2013-02-28T00:00:00\",\"2013-03-31T00:00:00\",\"2013-04-30T00:00:00\",\"2013-05-31T00:00:00\",\"2013-06-30T00:00:00\",\"2013-07-31T00:00:00\",\"2013-08-31T00:00:00\",\"2013-09-30T00:00:00\",\"2013-10-31T00:00:00\",\"2013-11-30T00:00:00\",\"2013-12-31T00:00:00\",\"2014-01-31T00:00:00\",\"2014-02-28T00:00:00\",\"2014-03-31T00:00:00\",\"2014-04-30T00:00:00\",\"2014-05-31T00:00:00\",\"2014-06-30T00:00:00\",\"2014-07-31T00:00:00\",\"2014-08-31T00:00:00\",\"2014-09-30T00:00:00\",\"2014-10-31T00:00:00\",\"2014-11-30T00:00:00\",\"2014-12-31T00:00:00\",\"2015-01-31T00:00:00\",\"2015-02-28T00:00:00\",\"2015-03-31T00:00:00\",\"2015-04-30T00:00:00\",\"2015-05-31T00:00:00\",\"2015-06-30T00:00:00\",\"2015-07-31T00:00:00\",\"2015-08-31T00:00:00\",\"2015-09-30T00:00:00\",\"2015-10-31T00:00:00\",\"2015-11-30T00:00:00\",\"2015-12-31T00:00:00\",\"2016-01-31T00:00:00\",\"2016-02-29T00:00:00\",\"2016-03-31T00:00:00\",\"2016-04-30T00:00:00\",\"2016-05-31T00:00:00\",\"2016-06-30T00:00:00\",\"2016-07-31T00:00:00\",\"2016-08-31T00:00:00\",\"2016-09-30T00:00:00\",\"2016-10-31T00:00:00\",\"2016-11-30T00:00:00\",\"2016-12-31T00:00:00\",\"2017-01-31T00:00:00\",\"2017-02-28T00:00:00\",\"2017-03-31T00:00:00\",\"2017-04-30T00:00:00\",\"2017-05-31T00:00:00\",\"2017-06-30T00:00:00\",\"2017-07-31T00:00:00\",\"2017-08-31T00:00:00\",\"2017-09-30T00:00:00\",\"2017-10-31T00:00:00\",\"2017-11-30T00:00:00\",\"2017-12-31T00:00:00\",\"2018-01-31T00:00:00\",\"2018-02-28T00:00:00\",\"2018-03-31T00:00:00\",\"2018-04-30T00:00:00\",\"2018-05-31T00:00:00\",\"2018-06-30T00:00:00\",\"2018-07-31T00:00:00\",\"2018-08-31T00:00:00\",\"2018-09-30T00:00:00\",\"2018-10-31T00:00:00\",\"2018-11-30T00:00:00\",\"2018-12-31T00:00:00\",\"2019-01-31T00:00:00\",\"2019-02-28T00:00:00\",\"2019-03-31T00:00:00\",\"2019-04-30T00:00:00\",\"2019-05-31T00:00:00\",\"2019-06-30T00:00:00\",\"2019-07-31T00:00:00\",\"2019-08-31T00:00:00\",\"2019-09-30T00:00:00\",\"2019-10-31T00:00:00\",\"2019-11-30T00:00:00\",\"2019-12-31T00:00:00\",\"2020-01-31T00:00:00\",\"2020-02-29T00:00:00\",\"2020-03-31T00:00:00\",\"2020-04-30T00:00:00\",\"2020-05-31T00:00:00\",\"2020-06-30T00:00:00\",\"2020-07-31T00:00:00\",\"2020-08-31T00:00:00\",\"2020-09-30T00:00:00\",\"2020-10-31T00:00:00\",\"2020-11-30T00:00:00\",\"2020-12-31T00:00:00\",\"2021-01-31T00:00:00\",\"2021-02-28T00:00:00\",\"2021-03-31T00:00:00\",\"2021-04-30T00:00:00\",\"2021-05-31T00:00:00\",\"2021-06-30T00:00:00\",\"2021-07-31T00:00:00\",\"2021-08-31T00:00:00\",\"2021-09-30T00:00:00\",\"2021-10-31T00:00:00\",\"2021-11-30T00:00:00\",\"2021-12-31T00:00:00\",\"2022-01-31T00:00:00\",\"2022-02-28T00:00:00\",\"2022-03-31T00:00:00\",\"2022-04-30T00:00:00\",\"2022-05-31T00:00:00\",\"2022-06-30T00:00:00\",\"2022-07-31T00:00:00\",\"2022-08-31T00:00:00\",\"2022-09-30T00:00:00\",\"2022-10-31T00:00:00\",\"2022-11-30T00:00:00\",\"2022-12-31T00:00:00\",\"2023-01-31T00:00:00\",\"2023-02-28T00:00:00\",\"2023-03-31T00:00:00\",\"2023-04-30T00:00:00\",\"2023-05-31T00:00:00\",\"2023-06-30T00:00:00\",\"2023-07-31T00:00:00\",\"2023-08-31T00:00:00\",\"2023-09-30T00:00:00\",\"2023-10-31T00:00:00\",\"2023-11-30T00:00:00\",\"2023-12-31T00:00:00\",\"2024-01-31T00:00:00\",\"2024-02-29T00:00:00\",\"2024-03-31T00:00:00\",\"2024-04-30T00:00:00\",\"2024-05-31T00:00:00\",\"2024-06-30T00:00:00\",\"2024-07-31T00:00:00\",\"2024-08-31T00:00:00\",\"2024-09-30T00:00:00\",\"2024-10-31T00:00:00\",\"2024-11-30T00:00:00\",\"2024-12-31T00:00:00\",\"2025-01-31T00:00:00\"],\"xaxis\":\"x\",\"y\":[106130.9058124586,106389.8200572149,106652.38865354471,107209.84501033585,107770.65355289653,108355.14237109949,108940.1719130394,109539.73071230791,110150.00461484084,110790.93084019868,111479.9833181393,112200.7991891774,112899.25675784974,113545.06242987516,114171.5248019484,114807.91038157008,115499.17340371221,116226.91605810246,116979.33100031568,117722.67189362446,118464.66811666715,119208.9512149882,119984.91991683382,120756.36289814365,121502.7002440862,122236.04576619377,122965.90091329084,123723.69948870772,124525.62652404528,125392.50534789411,126323.38942201504,127266.03409114903,128217.48452848704,129214.83848245026,130247.87567374027,131265.52379951606,132212.08447375143,133092.86016170346,133934.37858753753,134786.78279256797,135727.8494643088,136734.7191284372,137767.54594492732,138942.38196133752,140245.16770333142,141630.88940176353,142831.41146360032,143894.8607843288,144835.1731929285,145837.50251971593,146841.92964649547,147929.5186441168,149247.4400039237,150697.5050022675,152203.2620697768,153528.26206662811,154822.17926400504,156103.49614983966,157471.23733581472,158814.8127247445,160110.94498713364,161354.9458654632,162620.16563377346,163944.18056631225,165250.46255588642,166544.83702401404,167813.07850341903,169192.17046600627,170579.1571538255,171971.66895009356,173262.35008999705,174413.42421584402,175440.45962794058,176247.8012216033,176998.86927115577,177713.57969594965,178456.19001116586,179133.81371450075,179654.78546712702,180117.4739458699,180463.58501573594,180774.7091421992,180933.5285615936,181014.3183470799,181108.29984324882,181210.45740561906,181299.18917373347,181346.92758317883,181361.36667308913,181292.856856668,181120.29835599536,181036.6716305731,181063.55353068025,181117.1367965295,181074.48779287972,180907.2508025324,180707.27601195328,180435.52422443638,180101.44435154978,179644.40773807434,179139.70441464524,178575.79959343822,177908.37448380963,177134.87851522426,176277.4307020119,175368.5941066801,174445.66081434555,173610.900837493,172992.04295621614,172503.50974167796,171967.22134660237,171280.95051397439,170380.5789441138,169415.0326876874,168440.2537957395,167620.15231489183,166974.2274890678,166496.45968076112,166160.08085764822,165914.59746958304,165800.3602072408,165824.1936566747,165929.72097318686,166132.32903491092,166270.41192789876,166391.50181737586,166332.5797343056,166153.66711268318,165776.15428186324,165230.01877179943,164592.03051345787,163929.21034295193,163358.7528978762,162871.4069775898,162441.93694268298,162004.88983631448,161489.86695477559,160936.6775460687,160410.93793359434,159947.38144760745,159552.2824608645,159141.344438289,158775.157912474,158431.30322722316,158193.22623569443,158184.11039586083,158494.5792301877,158877.3079125061,159244.3338290646,159434.18079397798,159608.5712998044,159586.00742187924,159622.89357976374,159599.10722206623,159639.75452198499,159660.1879420614,159793.20989916005,160024.2601715821,160376.90440401694,160826.2401418916,161458.0063844443,162102.11599985353,162565.92727035092,162898.34242875405,163111.47428418222,163443.0917761823,163632.799641411,163796.22111547407,163975.7189451074,164245.11081114117,164603.5468783409,165028.71537035148,165624.29550670105,166107.57775819316,166539.89994180689,166691.12152811303,166741.58469992894,166449.06717299428,166259.2152569559,166183.60244357216,166258.0202988341,166374.5553255226,166606.66035100806,167057.78111115997,167670.68487698305,168259.3085667865,168905.00946865848,169582.87883243134,170272.52653289307,170881.50909183844,171242.37118548993,171580.06625672622,171942.72127903177,172285.95964376925,172318.23411076056,172335.77767948626,172588.71773696964,173156.25269910635,173591.76471834234,173909.63894702948,174221.99650014957,174711.60289265832,175276.8223086974,175994.90559555608,176652.68004465319,177201.70275894908,177660.7841125816,178259.85931270602,178954.38860212348,179633.1319279708,180338.02668541236,181040.93189422172,181773.7046959254,182495.5901823936,183268.2138680432,183996.23771415724,184662.25234248507,185155.39348797634,185894.54418806641,186625.18814237945,187449.25018669784,188056.4250661346,188825.52711737508,189593.4285496402,190302.7167724162,190604.92821404198,190831.52639028098,190996.25998872585,191309.63274516127,191864.08928852074,192666.86152274325,193509.83198918006,194084.29300628492,194617.38089844992,195182.3870528228,195823.88531134292,196349.3061280055,197070.0295863255,198021.8242616223,199051.7215993622,199959.56661409026,200889.59837422977,201953.19645188045,203191.52399414335,204003.8444583349,204472.50932281994,204989.9309914297,206353.14117580213,209017.40065058396,212414.0181008945,216311.83003634552,219989.9084020534,223313.9857907445,226540.21266817077,229779.2796691988,233270.00431029758,237129.6119655192,241306.79836745613,244737.24440025788,246562.8785458235,246847.0480827591,247097.34003314754,248061.78370862306,249636.35015751142,252598.92237952133,256549.66001428658,261499.45856828825,266262.1262335242,270398.452739774,274009.1748163919,275952.7561297554,276207.586734533,275132.12215648877,274353.50414909713,274171.8374150788,274289.7851193378,274330.68054620095,274522.84345885814,275239.14023428585,276692.05376369937,278807.855781696,281358.67966963863,283805.85339147685,286034.24996221345,287824.0270503295,289202.93051030976,290235.4181172985,290917.6945384988,291324.18422846927,292044.6454535018,293637.11934664164,295975.93023896933,298205.3678947263,299725.1916208614,300634.066654173,301556.91601865244,302501.12434132176,303514.03899941355,304120.8841698552,304816.68047567026,305372.0511964293],\"yaxis\":\"y\",\"type\":\"scattergl\"},{\"customdata\":[[\"South\"],[\"South\"],[\"South\"],[\"South\"],[\"South\"],[\"South\"],[\"South\"],[\"South\"],[\"South\"],[\"South\"],[\"South\"],[\"South\"],[\"South\"],[\"South\"],[\"South\"],[\"South\"],[\"South\"],[\"South\"],[\"South\"],[\"South\"],[\"South\"],[\"South\"],[\"South\"],[\"South\"],[\"South\"],[\"South\"],[\"South\"],[\"South\"],[\"South\"],[\"South\"],[\"South\"],[\"South\"],[\"South\"],[\"South\"],[\"South\"],[\"South\"],[\"South\"],[\"South\"],[\"South\"],[\"South\"],[\"South\"],[\"South\"],[\"South\"],[\"South\"],[\"South\"],[\"South\"],[\"South\"],[\"South\"],[\"South\"],[\"South\"],[\"South\"],[\"South\"],[\"South\"],[\"South\"],[\"South\"],[\"South\"],[\"South\"],[\"South\"],[\"South\"],[\"South\"],[\"South\"],[\"South\"],[\"South\"],[\"South\"],[\"South\"],[\"South\"],[\"South\"],[\"South\"],[\"South\"],[\"South\"],[\"South\"],[\"South\"],[\"South\"],[\"South\"],[\"South\"],[\"South\"],[\"South\"],[\"South\"],[\"South\"],[\"South\"],[\"South\"],[\"South\"],[\"South\"],[\"South\"],[\"South\"],[\"South\"],[\"South\"],[\"South\"],[\"South\"],[\"South\"],[\"South\"],[\"South\"],[\"South\"],[\"South\"],[\"South\"],[\"South\"],[\"South\"],[\"South\"],[\"South\"],[\"South\"],[\"South\"],[\"South\"],[\"South\"],[\"South\"],[\"South\"],[\"South\"],[\"South\"],[\"South\"],[\"South\"],[\"South\"],[\"South\"],[\"South\"],[\"South\"],[\"South\"],[\"South\"],[\"South\"],[\"South\"],[\"South\"],[\"South\"],[\"South\"],[\"South\"],[\"South\"],[\"South\"],[\"South\"],[\"South\"],[\"South\"],[\"South\"],[\"South\"],[\"South\"],[\"South\"],[\"South\"],[\"South\"],[\"South\"],[\"South\"],[\"South\"],[\"South\"],[\"South\"],[\"South\"],[\"South\"],[\"South\"],[\"South\"],[\"South\"],[\"South\"],[\"South\"],[\"South\"],[\"South\"],[\"South\"],[\"South\"],[\"South\"],[\"South\"],[\"South\"],[\"South\"],[\"South\"],[\"South\"],[\"South\"],[\"South\"],[\"South\"],[\"South\"],[\"South\"],[\"South\"],[\"South\"],[\"South\"],[\"South\"],[\"South\"],[\"South\"],[\"South\"],[\"South\"],[\"South\"],[\"South\"],[\"South\"],[\"South\"],[\"South\"],[\"South\"],[\"South\"],[\"South\"],[\"South\"],[\"South\"],[\"South\"],[\"South\"],[\"South\"],[\"South\"],[\"South\"],[\"South\"],[\"South\"],[\"South\"],[\"South\"],[\"South\"],[\"South\"],[\"South\"],[\"South\"],[\"South\"],[\"South\"],[\"South\"],[\"South\"],[\"South\"],[\"South\"],[\"South\"],[\"South\"],[\"South\"],[\"South\"],[\"South\"],[\"South\"],[\"South\"],[\"South\"],[\"South\"],[\"South\"],[\"South\"],[\"South\"],[\"South\"],[\"South\"],[\"South\"],[\"South\"],[\"South\"],[\"South\"],[\"South\"],[\"South\"],[\"South\"],[\"South\"],[\"South\"],[\"South\"],[\"South\"],[\"South\"],[\"South\"],[\"South\"],[\"South\"],[\"South\"],[\"South\"],[\"South\"],[\"South\"],[\"South\"],[\"South\"],[\"South\"],[\"South\"],[\"South\"],[\"South\"],[\"South\"],[\"South\"],[\"South\"],[\"South\"],[\"South\"],[\"South\"],[\"South\"],[\"South\"],[\"South\"],[\"South\"],[\"South\"],[\"South\"],[\"South\"],[\"South\"],[\"South\"],[\"South\"],[\"South\"],[\"South\"],[\"South\"],[\"South\"],[\"South\"],[\"South\"],[\"South\"],[\"South\"],[\"South\"],[\"South\"],[\"South\"],[\"South\"],[\"South\"],[\"South\"],[\"South\"],[\"South\"],[\"South\"],[\"South\"],[\"South\"],[\"South\"],[\"South\"],[\"South\"],[\"South\"],[\"South\"],[\"South\"],[\"South\"],[\"South\"],[\"South\"],[\"South\"],[\"South\"],[\"South\"],[\"South\"],[\"South\"],[\"South\"],[\"South\"],[\"South\"],[\"South\"],[\"South\"],[\"South\"],[\"South\"],[\"South\"],[\"South\"],[\"South\"],[\"South\"],[\"South\"],[\"South\"],[\"South\"],[\"South\"],[\"South\"],[\"South\"]],\"hovertemplate\":\"RegionName=%{customdata[0]}\\u003cbr\\u003eYear (2000-2024)=%{x}\\u003cbr\\u003eLog of House Value ($)=%{y}\\u003cextra\\u003e\\u003c\\u002fextra\\u003e\",\"legendgroup\":\"South\",\"line\":{\"color\":\"#00cc96\",\"dash\":\"solid\"},\"marker\":{\"symbol\":\"circle\",\"size\":3},\"mode\":\"lines\",\"name\":\"South\",\"showlegend\":true,\"x\":[\"2000-01-31T00:00:00\",\"2000-02-29T00:00:00\",\"2000-03-31T00:00:00\",\"2000-04-30T00:00:00\",\"2000-05-31T00:00:00\",\"2000-06-30T00:00:00\",\"2000-07-31T00:00:00\",\"2000-08-31T00:00:00\",\"2000-09-30T00:00:00\",\"2000-10-31T00:00:00\",\"2000-11-30T00:00:00\",\"2000-12-31T00:00:00\",\"2001-01-31T00:00:00\",\"2001-02-28T00:00:00\",\"2001-03-31T00:00:00\",\"2001-04-30T00:00:00\",\"2001-05-31T00:00:00\",\"2001-06-30T00:00:00\",\"2001-07-31T00:00:00\",\"2001-08-31T00:00:00\",\"2001-09-30T00:00:00\",\"2001-10-31T00:00:00\",\"2001-11-30T00:00:00\",\"2001-12-31T00:00:00\",\"2002-01-31T00:00:00\",\"2002-02-28T00:00:00\",\"2002-03-31T00:00:00\",\"2002-04-30T00:00:00\",\"2002-05-31T00:00:00\",\"2002-06-30T00:00:00\",\"2002-07-31T00:00:00\",\"2002-08-31T00:00:00\",\"2002-09-30T00:00:00\",\"2002-10-31T00:00:00\",\"2002-11-30T00:00:00\",\"2002-12-31T00:00:00\",\"2003-01-31T00:00:00\",\"2003-02-28T00:00:00\",\"2003-03-31T00:00:00\",\"2003-04-30T00:00:00\",\"2003-05-31T00:00:00\",\"2003-06-30T00:00:00\",\"2003-07-31T00:00:00\",\"2003-08-31T00:00:00\",\"2003-09-30T00:00:00\",\"2003-10-31T00:00:00\",\"2003-11-30T00:00:00\",\"2003-12-31T00:00:00\",\"2004-01-31T00:00:00\",\"2004-02-29T00:00:00\",\"2004-03-31T00:00:00\",\"2004-04-30T00:00:00\",\"2004-05-31T00:00:00\",\"2004-06-30T00:00:00\",\"2004-07-31T00:00:00\",\"2004-08-31T00:00:00\",\"2004-09-30T00:00:00\",\"2004-10-31T00:00:00\",\"2004-11-30T00:00:00\",\"2004-12-31T00:00:00\",\"2005-01-31T00:00:00\",\"2005-02-28T00:00:00\",\"2005-03-31T00:00:00\",\"2005-04-30T00:00:00\",\"2005-05-31T00:00:00\",\"2005-06-30T00:00:00\",\"2005-07-31T00:00:00\",\"2005-08-31T00:00:00\",\"2005-09-30T00:00:00\",\"2005-10-31T00:00:00\",\"2005-11-30T00:00:00\",\"2005-12-31T00:00:00\",\"2006-01-31T00:00:00\",\"2006-02-28T00:00:00\",\"2006-03-31T00:00:00\",\"2006-04-30T00:00:00\",\"2006-05-31T00:00:00\",\"2006-06-30T00:00:00\",\"2006-07-31T00:00:00\",\"2006-08-31T00:00:00\",\"2006-09-30T00:00:00\",\"2006-10-31T00:00:00\",\"2006-11-30T00:00:00\",\"2006-12-31T00:00:00\",\"2007-01-31T00:00:00\",\"2007-02-28T00:00:00\",\"2007-03-31T00:00:00\",\"2007-04-30T00:00:00\",\"2007-05-31T00:00:00\",\"2007-06-30T00:00:00\",\"2007-07-31T00:00:00\",\"2007-08-31T00:00:00\",\"2007-09-30T00:00:00\",\"2007-10-31T00:00:00\",\"2007-11-30T00:00:00\",\"2007-12-31T00:00:00\",\"2008-01-31T00:00:00\",\"2008-02-29T00:00:00\",\"2008-03-31T00:00:00\",\"2008-04-30T00:00:00\",\"2008-05-31T00:00:00\",\"2008-06-30T00:00:00\",\"2008-07-31T00:00:00\",\"2008-08-31T00:00:00\",\"2008-09-30T00:00:00\",\"2008-10-31T00:00:00\",\"2008-11-30T00:00:00\",\"2008-12-31T00:00:00\",\"2009-01-31T00:00:00\",\"2009-02-28T00:00:00\",\"2009-03-31T00:00:00\",\"2009-04-30T00:00:00\",\"2009-05-31T00:00:00\",\"2009-06-30T00:00:00\",\"2009-07-31T00:00:00\",\"2009-08-31T00:00:00\",\"2009-09-30T00:00:00\",\"2009-10-31T00:00:00\",\"2009-11-30T00:00:00\",\"2009-12-31T00:00:00\",\"2010-01-31T00:00:00\",\"2010-02-28T00:00:00\",\"2010-03-31T00:00:00\",\"2010-04-30T00:00:00\",\"2010-05-31T00:00:00\",\"2010-06-30T00:00:00\",\"2010-07-31T00:00:00\",\"2010-08-31T00:00:00\",\"2010-09-30T00:00:00\",\"2010-10-31T00:00:00\",\"2010-11-30T00:00:00\",\"2010-12-31T00:00:00\",\"2011-01-31T00:00:00\",\"2011-02-28T00:00:00\",\"2011-03-31T00:00:00\",\"2011-04-30T00:00:00\",\"2011-05-31T00:00:00\",\"2011-06-30T00:00:00\",\"2011-07-31T00:00:00\",\"2011-08-31T00:00:00\",\"2011-09-30T00:00:00\",\"2011-10-31T00:00:00\",\"2011-11-30T00:00:00\",\"2011-12-31T00:00:00\",\"2012-01-31T00:00:00\",\"2012-02-29T00:00:00\",\"2012-03-31T00:00:00\",\"2012-04-30T00:00:00\",\"2012-05-31T00:00:00\",\"2012-06-30T00:00:00\",\"2012-07-31T00:00:00\",\"2012-08-31T00:00:00\",\"2012-09-30T00:00:00\",\"2012-10-31T00:00:00\",\"2012-11-30T00:00:00\",\"2012-12-31T00:00:00\",\"2013-01-31T00:00:00\",\"2013-02-28T00:00:00\",\"2013-03-31T00:00:00\",\"2013-04-30T00:00:00\",\"2013-05-31T00:00:00\",\"2013-06-30T00:00:00\",\"2013-07-31T00:00:00\",\"2013-08-31T00:00:00\",\"2013-09-30T00:00:00\",\"2013-10-31T00:00:00\",\"2013-11-30T00:00:00\",\"2013-12-31T00:00:00\",\"2014-01-31T00:00:00\",\"2014-02-28T00:00:00\",\"2014-03-31T00:00:00\",\"2014-04-30T00:00:00\",\"2014-05-31T00:00:00\",\"2014-06-30T00:00:00\",\"2014-07-31T00:00:00\",\"2014-08-31T00:00:00\",\"2014-09-30T00:00:00\",\"2014-10-31T00:00:00\",\"2014-11-30T00:00:00\",\"2014-12-31T00:00:00\",\"2015-01-31T00:00:00\",\"2015-02-28T00:00:00\",\"2015-03-31T00:00:00\",\"2015-04-30T00:00:00\",\"2015-05-31T00:00:00\",\"2015-06-30T00:00:00\",\"2015-07-31T00:00:00\",\"2015-08-31T00:00:00\",\"2015-09-30T00:00:00\",\"2015-10-31T00:00:00\",\"2015-11-30T00:00:00\",\"2015-12-31T00:00:00\",\"2016-01-31T00:00:00\",\"2016-02-29T00:00:00\",\"2016-03-31T00:00:00\",\"2016-04-30T00:00:00\",\"2016-05-31T00:00:00\",\"2016-06-30T00:00:00\",\"2016-07-31T00:00:00\",\"2016-08-31T00:00:00\",\"2016-09-30T00:00:00\",\"2016-10-31T00:00:00\",\"2016-11-30T00:00:00\",\"2016-12-31T00:00:00\",\"2017-01-31T00:00:00\",\"2017-02-28T00:00:00\",\"2017-03-31T00:00:00\",\"2017-04-30T00:00:00\",\"2017-05-31T00:00:00\",\"2017-06-30T00:00:00\",\"2017-07-31T00:00:00\",\"2017-08-31T00:00:00\",\"2017-09-30T00:00:00\",\"2017-10-31T00:00:00\",\"2017-11-30T00:00:00\",\"2017-12-31T00:00:00\",\"2018-01-31T00:00:00\",\"2018-02-28T00:00:00\",\"2018-03-31T00:00:00\",\"2018-04-30T00:00:00\",\"2018-05-31T00:00:00\",\"2018-06-30T00:00:00\",\"2018-07-31T00:00:00\",\"2018-08-31T00:00:00\",\"2018-09-30T00:00:00\",\"2018-10-31T00:00:00\",\"2018-11-30T00:00:00\",\"2018-12-31T00:00:00\",\"2019-01-31T00:00:00\",\"2019-02-28T00:00:00\",\"2019-03-31T00:00:00\",\"2019-04-30T00:00:00\",\"2019-05-31T00:00:00\",\"2019-06-30T00:00:00\",\"2019-07-31T00:00:00\",\"2019-08-31T00:00:00\",\"2019-09-30T00:00:00\",\"2019-10-31T00:00:00\",\"2019-11-30T00:00:00\",\"2019-12-31T00:00:00\",\"2020-01-31T00:00:00\",\"2020-02-29T00:00:00\",\"2020-03-31T00:00:00\",\"2020-04-30T00:00:00\",\"2020-05-31T00:00:00\",\"2020-06-30T00:00:00\",\"2020-07-31T00:00:00\",\"2020-08-31T00:00:00\",\"2020-09-30T00:00:00\",\"2020-10-31T00:00:00\",\"2020-11-30T00:00:00\",\"2020-12-31T00:00:00\",\"2021-01-31T00:00:00\",\"2021-02-28T00:00:00\",\"2021-03-31T00:00:00\",\"2021-04-30T00:00:00\",\"2021-05-31T00:00:00\",\"2021-06-30T00:00:00\",\"2021-07-31T00:00:00\",\"2021-08-31T00:00:00\",\"2021-09-30T00:00:00\",\"2021-10-31T00:00:00\",\"2021-11-30T00:00:00\",\"2021-12-31T00:00:00\",\"2022-01-31T00:00:00\",\"2022-02-28T00:00:00\",\"2022-03-31T00:00:00\",\"2022-04-30T00:00:00\",\"2022-05-31T00:00:00\",\"2022-06-30T00:00:00\",\"2022-07-31T00:00:00\",\"2022-08-31T00:00:00\",\"2022-09-30T00:00:00\",\"2022-10-31T00:00:00\",\"2022-11-30T00:00:00\",\"2022-12-31T00:00:00\",\"2023-01-31T00:00:00\",\"2023-02-28T00:00:00\",\"2023-03-31T00:00:00\",\"2023-04-30T00:00:00\",\"2023-05-31T00:00:00\",\"2023-06-30T00:00:00\",\"2023-07-31T00:00:00\",\"2023-08-31T00:00:00\",\"2023-09-30T00:00:00\",\"2023-10-31T00:00:00\",\"2023-11-30T00:00:00\",\"2023-12-31T00:00:00\",\"2024-01-31T00:00:00\",\"2024-02-29T00:00:00\",\"2024-03-31T00:00:00\",\"2024-04-30T00:00:00\",\"2024-05-31T00:00:00\",\"2024-06-30T00:00:00\",\"2024-07-31T00:00:00\",\"2024-08-31T00:00:00\",\"2024-09-30T00:00:00\",\"2024-10-31T00:00:00\",\"2024-11-30T00:00:00\",\"2024-12-31T00:00:00\",\"2025-01-31T00:00:00\"],\"xaxis\":\"x\",\"y\":[100839.24121343093,100907.55961128543,101005.07586776014,101205.07076562254,101439.19754795308,101681.17308778431,101934.35039789132,102203.12621740984,102481.34996113487,102749.65973789849,103055.41566167389,103405.31346585012,103808.11204080872,104129.70972208558,104404.44315703287,104637.86294178333,104910.7371210275,105178.40899896254,105447.14382349885,105713.68622337459,105983.42000775023,106245.18340318555,106475.95590234731,106682.44219360592,106849.63023048775,107026.78135740037,107212.11162139422,107431.19375325754,107694.90326807273,107976.7173450435,108292.09542399926,108591.60100149161,108896.46198584531,109192.65472850263,109478.77461566348,109751.39324776604,109979.35373492962,110219.08583849839,110476.66559587835,110776.58902421438,111085.4378954959,111397.23399911444,111720.75630835102,112073.10967108326,112459.9081704214,112844.4786433063,113209.16620438115,113580.91761927055,113934.20483120298,114323.74230808491,114746.16594224471,115224.59517915465,115730.88471522718,116294.48372743386,116911.65079513789,117562.64606309727,118228.11747054559,118893.64850699659,119522.58148166678,120118.87804534579,120679.16123238948,121274.93492468317,121922.58801180622,122708.3618534134,123563.69955822275,124472.53974996286,125421.89294807852,126380.40785210457,127307.84895814076,128194.72367416327,129037.00596362496,129849.91084888947,130585.1152823736,131328.10648706686,132082.9852740829,132890.2048920799,133651.89411691437,134351.1854811463,134953.7298943109,135502.70108075856,135958.0552684158,136330.1728618646,136595.72265075706,136787.8987561607,136921.2060132106,137055.3177563463,137229.61472283612,137382.7962137213,137438.4141761783,137383.18554019093,137238.34207522834,137110.28331223302,136961.95630920725,136788.57396445223,136536.88394885554,136238.56842143263,135902.83287232346,135571.5831387921,135187.2967513621,134785.82374255912,134332.46752651237,133871.8269855673,133384.63665731376,132848.44015943265,132262.64460283014,131667.36545179994,131064.4646579503,130452.61152284582,129894.45056409872,129370.5300479315,128867.77032043006,128300.47246166757,127701.00190596556,127069.41677067839,126455.53496099518,125834.9935583865,125221.9325840926,124637.83148882969,124158.00695399827,123751.64272643578,123452.24770698261,123182.2358468193,122995.0475194677,122854.97671374986,122782.39506692672,122685.50121397171,122502.0850171699,122198.52284991388,121806.22631392625,121370.5551595268,120848.93355528648,120310.74407436028,119747.00717037573,119229.38117957402,118743.63680793328,118291.14776778487,117894.81724164805,117554.59029786085,117307.03656166309,117101.60370919808,116926.50970883021,116689.6158345135,116464.81676741327,116240.00717554078,116114.06443149058,116126.61060181662,116287.6360517261,116561.410496073,116981.66745716565,117456.37205984318,117912.63468939159,118083.31985070523,118226.30684324427,118292.56092794926,118405.0146579149,118515.76331070697,118707.65796870901,118938.13680244566,119273.24353609279,119645.11485800674,120133.48556928211,120672.50094133495,121121.12953158602,121660.99586894274,122080.98159256153,122558.18951463072,122751.03142363261,122932.43509471792,123175.72256311815,123626.11211359169,124036.6948805063,124462.02868564105,124914.56954420233,125411.31627055383,125936.69499146234,126380.2995118699,126700.67699776845,126773.39874481171,126907.86134428067,127172.81658837428,127509.28093384103,127824.87022942046,128194.15442427155,128756.32223588438,129463.83000644034,130139.21750545995,130817.2141391417,131461.063943,132146.17839281537,132857.88962148523,133413.33978821186,133956.85811596346,134502.0995501224,135051.66710268616,135314.7994825038,135530.32202455527,135788.2289747116,136268.21299392573,136567.3475192586,136878.8923890692,137225.48014967077,137800.24836290668,138354.04515353747,138854.3018998602,139223.02431894516,139555.5343975378,139864.97284079032,140254.9823594132,140619.41184065444,141013.71357468975,141488.6399634754,142075.03220792228,142758.42097041113,143463.39844756128,144182.98761422533,144855.06005101005,145475.42516127272,146038.84726650204,146842.48321677794,147592.9622565532,148294.44261903377,148653.8423107768,149187.93310984896,149723.42786587274,150386.2411481982,150768.09443566253,151311.3731800725,151905.68337482112,152610.43055717633,153356.49806562733,154218.69079878335,155061.00531621455,155756.68745201957,156363.01042753356,156942.98174602378,157527.98915389227,157992.32572207318,158657.83525067798,159517.47369103078,160542.07127395534,161445.15182629047,162299.83756647634,163200.61189259644,164169.14099702926,164849.11194429078,165327.92902712114,165998.67040455702,167333.64107442452,169473.7741184347,171803.80899322525,174106.37129097586,176070.59625868493,177988.39983893573,180080.18331868725,182345.2739597826,184779.01745558757,187492.4273017716,190636.9296237639,193589.16931805463,195857.65512765318,197325.91544667954,198977.6190577413,201202.71873458105,203696.9481247235,206802.79089222173,210130.36277303795,213710.25850956017,217127.56713617753,220250.57580502116,223326.13513506227,225331.9488128114,226140.5645359646,225773.53282285764,225314.87435420748,224874.01976445288,224364.79657582415,223594.15812084213,223102.16789131006,223376.6453504673,224435.9313148659,225889.4038757141,227289.11267267633,228273.33849920725,228927.2411149679,229346.93739606824,229650.19849775435,229961.10665915484,230092.51674179905,230082.3389946231,230356.509919874,231343.67673422507,232873.1500788624,234194.6299842202,234878.6604137051,235024.97606903323,234992.111685944,234815.92327586253,234794.91754784677,234806.15189604534,235338.0280474793,235932.91346098276],\"yaxis\":\"y\",\"type\":\"scattergl\"},{\"customdata\":[[\"West\"],[\"West\"],[\"West\"],[\"West\"],[\"West\"],[\"West\"],[\"West\"],[\"West\"],[\"West\"],[\"West\"],[\"West\"],[\"West\"],[\"West\"],[\"West\"],[\"West\"],[\"West\"],[\"West\"],[\"West\"],[\"West\"],[\"West\"],[\"West\"],[\"West\"],[\"West\"],[\"West\"],[\"West\"],[\"West\"],[\"West\"],[\"West\"],[\"West\"],[\"West\"],[\"West\"],[\"West\"],[\"West\"],[\"West\"],[\"West\"],[\"West\"],[\"West\"],[\"West\"],[\"West\"],[\"West\"],[\"West\"],[\"West\"],[\"West\"],[\"West\"],[\"West\"],[\"West\"],[\"West\"],[\"West\"],[\"West\"],[\"West\"],[\"West\"],[\"West\"],[\"West\"],[\"West\"],[\"West\"],[\"West\"],[\"West\"],[\"West\"],[\"West\"],[\"West\"],[\"West\"],[\"West\"],[\"West\"],[\"West\"],[\"West\"],[\"West\"],[\"West\"],[\"West\"],[\"West\"],[\"West\"],[\"West\"],[\"West\"],[\"West\"],[\"West\"],[\"West\"],[\"West\"],[\"West\"],[\"West\"],[\"West\"],[\"West\"],[\"West\"],[\"West\"],[\"West\"],[\"West\"],[\"West\"],[\"West\"],[\"West\"],[\"West\"],[\"West\"],[\"West\"],[\"West\"],[\"West\"],[\"West\"],[\"West\"],[\"West\"],[\"West\"],[\"West\"],[\"West\"],[\"West\"],[\"West\"],[\"West\"],[\"West\"],[\"West\"],[\"West\"],[\"West\"],[\"West\"],[\"West\"],[\"West\"],[\"West\"],[\"West\"],[\"West\"],[\"West\"],[\"West\"],[\"West\"],[\"West\"],[\"West\"],[\"West\"],[\"West\"],[\"West\"],[\"West\"],[\"West\"],[\"West\"],[\"West\"],[\"West\"],[\"West\"],[\"West\"],[\"West\"],[\"West\"],[\"West\"],[\"West\"],[\"West\"],[\"West\"],[\"West\"],[\"West\"],[\"West\"],[\"West\"],[\"West\"],[\"West\"],[\"West\"],[\"West\"],[\"West\"],[\"West\"],[\"West\"],[\"West\"],[\"West\"],[\"West\"],[\"West\"],[\"West\"],[\"West\"],[\"West\"],[\"West\"],[\"West\"],[\"West\"],[\"West\"],[\"West\"],[\"West\"],[\"West\"],[\"West\"],[\"West\"],[\"West\"],[\"West\"],[\"West\"],[\"West\"],[\"West\"],[\"West\"],[\"West\"],[\"West\"],[\"West\"],[\"West\"],[\"West\"],[\"West\"],[\"West\"],[\"West\"],[\"West\"],[\"West\"],[\"West\"],[\"West\"],[\"West\"],[\"West\"],[\"West\"],[\"West\"],[\"West\"],[\"West\"],[\"West\"],[\"West\"],[\"West\"],[\"West\"],[\"West\"],[\"West\"],[\"West\"],[\"West\"],[\"West\"],[\"West\"],[\"West\"],[\"West\"],[\"West\"],[\"West\"],[\"West\"],[\"West\"],[\"West\"],[\"West\"],[\"West\"],[\"West\"],[\"West\"],[\"West\"],[\"West\"],[\"West\"],[\"West\"],[\"West\"],[\"West\"],[\"West\"],[\"West\"],[\"West\"],[\"West\"],[\"West\"],[\"West\"],[\"West\"],[\"West\"],[\"West\"],[\"West\"],[\"West\"],[\"West\"],[\"West\"],[\"West\"],[\"West\"],[\"West\"],[\"West\"],[\"West\"],[\"West\"],[\"West\"],[\"West\"],[\"West\"],[\"West\"],[\"West\"],[\"West\"],[\"West\"],[\"West\"],[\"West\"],[\"West\"],[\"West\"],[\"West\"],[\"West\"],[\"West\"],[\"West\"],[\"West\"],[\"West\"],[\"West\"],[\"West\"],[\"West\"],[\"West\"],[\"West\"],[\"West\"],[\"West\"],[\"West\"],[\"West\"],[\"West\"],[\"West\"],[\"West\"],[\"West\"],[\"West\"],[\"West\"],[\"West\"],[\"West\"],[\"West\"],[\"West\"],[\"West\"],[\"West\"],[\"West\"],[\"West\"],[\"West\"],[\"West\"],[\"West\"],[\"West\"],[\"West\"],[\"West\"],[\"West\"],[\"West\"],[\"West\"],[\"West\"],[\"West\"],[\"West\"],[\"West\"],[\"West\"],[\"West\"],[\"West\"],[\"West\"],[\"West\"],[\"West\"],[\"West\"],[\"West\"],[\"West\"],[\"West\"],[\"West\"],[\"West\"],[\"West\"],[\"West\"],[\"West\"],[\"West\"],[\"West\"],[\"West\"],[\"West\"]],\"hovertemplate\":\"RegionName=%{customdata[0]}\\u003cbr\\u003eYear (2000-2024)=%{x}\\u003cbr\\u003eLog of House Value ($)=%{y}\\u003cextra\\u003e\\u003c\\u002fextra\\u003e\",\"legendgroup\":\"West\",\"line\":{\"color\":\"#ab63fa\",\"dash\":\"solid\"},\"marker\":{\"symbol\":\"circle\",\"size\":3},\"mode\":\"lines\",\"name\":\"West\",\"showlegend\":true,\"x\":[\"2000-01-31T00:00:00\",\"2000-02-29T00:00:00\",\"2000-03-31T00:00:00\",\"2000-04-30T00:00:00\",\"2000-05-31T00:00:00\",\"2000-06-30T00:00:00\",\"2000-07-31T00:00:00\",\"2000-08-31T00:00:00\",\"2000-09-30T00:00:00\",\"2000-10-31T00:00:00\",\"2000-11-30T00:00:00\",\"2000-12-31T00:00:00\",\"2001-01-31T00:00:00\",\"2001-02-28T00:00:00\",\"2001-03-31T00:00:00\",\"2001-04-30T00:00:00\",\"2001-05-31T00:00:00\",\"2001-06-30T00:00:00\",\"2001-07-31T00:00:00\",\"2001-08-31T00:00:00\",\"2001-09-30T00:00:00\",\"2001-10-31T00:00:00\",\"2001-11-30T00:00:00\",\"2001-12-31T00:00:00\",\"2002-01-31T00:00:00\",\"2002-02-28T00:00:00\",\"2002-03-31T00:00:00\",\"2002-04-30T00:00:00\",\"2002-05-31T00:00:00\",\"2002-06-30T00:00:00\",\"2002-07-31T00:00:00\",\"2002-08-31T00:00:00\",\"2002-09-30T00:00:00\",\"2002-10-31T00:00:00\",\"2002-11-30T00:00:00\",\"2002-12-31T00:00:00\",\"2003-01-31T00:00:00\",\"2003-02-28T00:00:00\",\"2003-03-31T00:00:00\",\"2003-04-30T00:00:00\",\"2003-05-31T00:00:00\",\"2003-06-30T00:00:00\",\"2003-07-31T00:00:00\",\"2003-08-31T00:00:00\",\"2003-09-30T00:00:00\",\"2003-10-31T00:00:00\",\"2003-11-30T00:00:00\",\"2003-12-31T00:00:00\",\"2004-01-31T00:00:00\",\"2004-02-29T00:00:00\",\"2004-03-31T00:00:00\",\"2004-04-30T00:00:00\",\"2004-05-31T00:00:00\",\"2004-06-30T00:00:00\",\"2004-07-31T00:00:00\",\"2004-08-31T00:00:00\",\"2004-09-30T00:00:00\",\"2004-10-31T00:00:00\",\"2004-11-30T00:00:00\",\"2004-12-31T00:00:00\",\"2005-01-31T00:00:00\",\"2005-02-28T00:00:00\",\"2005-03-31T00:00:00\",\"2005-04-30T00:00:00\",\"2005-05-31T00:00:00\",\"2005-06-30T00:00:00\",\"2005-07-31T00:00:00\",\"2005-08-31T00:00:00\",\"2005-09-30T00:00:00\",\"2005-10-31T00:00:00\",\"2005-11-30T00:00:00\",\"2005-12-31T00:00:00\",\"2006-01-31T00:00:00\",\"2006-02-28T00:00:00\",\"2006-03-31T00:00:00\",\"2006-04-30T00:00:00\",\"2006-05-31T00:00:00\",\"2006-06-30T00:00:00\",\"2006-07-31T00:00:00\",\"2006-08-31T00:00:00\",\"2006-09-30T00:00:00\",\"2006-10-31T00:00:00\",\"2006-11-30T00:00:00\",\"2006-12-31T00:00:00\",\"2007-01-31T00:00:00\",\"2007-02-28T00:00:00\",\"2007-03-31T00:00:00\",\"2007-04-30T00:00:00\",\"2007-05-31T00:00:00\",\"2007-06-30T00:00:00\",\"2007-07-31T00:00:00\",\"2007-08-31T00:00:00\",\"2007-09-30T00:00:00\",\"2007-10-31T00:00:00\",\"2007-11-30T00:00:00\",\"2007-12-31T00:00:00\",\"2008-01-31T00:00:00\",\"2008-02-29T00:00:00\",\"2008-03-31T00:00:00\",\"2008-04-30T00:00:00\",\"2008-05-31T00:00:00\",\"2008-06-30T00:00:00\",\"2008-07-31T00:00:00\",\"2008-08-31T00:00:00\",\"2008-09-30T00:00:00\",\"2008-10-31T00:00:00\",\"2008-11-30T00:00:00\",\"2008-12-31T00:00:00\",\"2009-01-31T00:00:00\",\"2009-02-28T00:00:00\",\"2009-03-31T00:00:00\",\"2009-04-30T00:00:00\",\"2009-05-31T00:00:00\",\"2009-06-30T00:00:00\",\"2009-07-31T00:00:00\",\"2009-08-31T00:00:00\",\"2009-09-30T00:00:00\",\"2009-10-31T00:00:00\",\"2009-11-30T00:00:00\",\"2009-12-31T00:00:00\",\"2010-01-31T00:00:00\",\"2010-02-28T00:00:00\",\"2010-03-31T00:00:00\",\"2010-04-30T00:00:00\",\"2010-05-31T00:00:00\",\"2010-06-30T00:00:00\",\"2010-07-31T00:00:00\",\"2010-08-31T00:00:00\",\"2010-09-30T00:00:00\",\"2010-10-31T00:00:00\",\"2010-11-30T00:00:00\",\"2010-12-31T00:00:00\",\"2011-01-31T00:00:00\",\"2011-02-28T00:00:00\",\"2011-03-31T00:00:00\",\"2011-04-30T00:00:00\",\"2011-05-31T00:00:00\",\"2011-06-30T00:00:00\",\"2011-07-31T00:00:00\",\"2011-08-31T00:00:00\",\"2011-09-30T00:00:00\",\"2011-10-31T00:00:00\",\"2011-11-30T00:00:00\",\"2011-12-31T00:00:00\",\"2012-01-31T00:00:00\",\"2012-02-29T00:00:00\",\"2012-03-31T00:00:00\",\"2012-04-30T00:00:00\",\"2012-05-31T00:00:00\",\"2012-06-30T00:00:00\",\"2012-07-31T00:00:00\",\"2012-08-31T00:00:00\",\"2012-09-30T00:00:00\",\"2012-10-31T00:00:00\",\"2012-11-30T00:00:00\",\"2012-12-31T00:00:00\",\"2013-01-31T00:00:00\",\"2013-02-28T00:00:00\",\"2013-03-31T00:00:00\",\"2013-04-30T00:00:00\",\"2013-05-31T00:00:00\",\"2013-06-30T00:00:00\",\"2013-07-31T00:00:00\",\"2013-08-31T00:00:00\",\"2013-09-30T00:00:00\",\"2013-10-31T00:00:00\",\"2013-11-30T00:00:00\",\"2013-12-31T00:00:00\",\"2014-01-31T00:00:00\",\"2014-02-28T00:00:00\",\"2014-03-31T00:00:00\",\"2014-04-30T00:00:00\",\"2014-05-31T00:00:00\",\"2014-06-30T00:00:00\",\"2014-07-31T00:00:00\",\"2014-08-31T00:00:00\",\"2014-09-30T00:00:00\",\"2014-10-31T00:00:00\",\"2014-11-30T00:00:00\",\"2014-12-31T00:00:00\",\"2015-01-31T00:00:00\",\"2015-02-28T00:00:00\",\"2015-03-31T00:00:00\",\"2015-04-30T00:00:00\",\"2015-05-31T00:00:00\",\"2015-06-30T00:00:00\",\"2015-07-31T00:00:00\",\"2015-08-31T00:00:00\",\"2015-09-30T00:00:00\",\"2015-10-31T00:00:00\",\"2015-11-30T00:00:00\",\"2015-12-31T00:00:00\",\"2016-01-31T00:00:00\",\"2016-02-29T00:00:00\",\"2016-03-31T00:00:00\",\"2016-04-30T00:00:00\",\"2016-05-31T00:00:00\",\"2016-06-30T00:00:00\",\"2016-07-31T00:00:00\",\"2016-08-31T00:00:00\",\"2016-09-30T00:00:00\",\"2016-10-31T00:00:00\",\"2016-11-30T00:00:00\",\"2016-12-31T00:00:00\",\"2017-01-31T00:00:00\",\"2017-02-28T00:00:00\",\"2017-03-31T00:00:00\",\"2017-04-30T00:00:00\",\"2017-05-31T00:00:00\",\"2017-06-30T00:00:00\",\"2017-07-31T00:00:00\",\"2017-08-31T00:00:00\",\"2017-09-30T00:00:00\",\"2017-10-31T00:00:00\",\"2017-11-30T00:00:00\",\"2017-12-31T00:00:00\",\"2018-01-31T00:00:00\",\"2018-02-28T00:00:00\",\"2018-03-31T00:00:00\",\"2018-04-30T00:00:00\",\"2018-05-31T00:00:00\",\"2018-06-30T00:00:00\",\"2018-07-31T00:00:00\",\"2018-08-31T00:00:00\",\"2018-09-30T00:00:00\",\"2018-10-31T00:00:00\",\"2018-11-30T00:00:00\",\"2018-12-31T00:00:00\",\"2019-01-31T00:00:00\",\"2019-02-28T00:00:00\",\"2019-03-31T00:00:00\",\"2019-04-30T00:00:00\",\"2019-05-31T00:00:00\",\"2019-06-30T00:00:00\",\"2019-07-31T00:00:00\",\"2019-08-31T00:00:00\",\"2019-09-30T00:00:00\",\"2019-10-31T00:00:00\",\"2019-11-30T00:00:00\",\"2019-12-31T00:00:00\",\"2020-01-31T00:00:00\",\"2020-02-29T00:00:00\",\"2020-03-31T00:00:00\",\"2020-04-30T00:00:00\",\"2020-05-31T00:00:00\",\"2020-06-30T00:00:00\",\"2020-07-31T00:00:00\",\"2020-08-31T00:00:00\",\"2020-09-30T00:00:00\",\"2020-10-31T00:00:00\",\"2020-11-30T00:00:00\",\"2020-12-31T00:00:00\",\"2021-01-31T00:00:00\",\"2021-02-28T00:00:00\",\"2021-03-31T00:00:00\",\"2021-04-30T00:00:00\",\"2021-05-31T00:00:00\",\"2021-06-30T00:00:00\",\"2021-07-31T00:00:00\",\"2021-08-31T00:00:00\",\"2021-09-30T00:00:00\",\"2021-10-31T00:00:00\",\"2021-11-30T00:00:00\",\"2021-12-31T00:00:00\",\"2022-01-31T00:00:00\",\"2022-02-28T00:00:00\",\"2022-03-31T00:00:00\",\"2022-04-30T00:00:00\",\"2022-05-31T00:00:00\",\"2022-06-30T00:00:00\",\"2022-07-31T00:00:00\",\"2022-08-31T00:00:00\",\"2022-09-30T00:00:00\",\"2022-10-31T00:00:00\",\"2022-11-30T00:00:00\",\"2022-12-31T00:00:00\",\"2023-01-31T00:00:00\",\"2023-02-28T00:00:00\",\"2023-03-31T00:00:00\",\"2023-04-30T00:00:00\",\"2023-05-31T00:00:00\",\"2023-06-30T00:00:00\",\"2023-07-31T00:00:00\",\"2023-08-31T00:00:00\",\"2023-09-30T00:00:00\",\"2023-10-31T00:00:00\",\"2023-11-30T00:00:00\",\"2023-12-31T00:00:00\",\"2024-01-31T00:00:00\",\"2024-02-29T00:00:00\",\"2024-03-31T00:00:00\",\"2024-04-30T00:00:00\",\"2024-05-31T00:00:00\",\"2024-06-30T00:00:00\",\"2024-07-31T00:00:00\",\"2024-08-31T00:00:00\",\"2024-09-30T00:00:00\",\"2024-10-31T00:00:00\",\"2024-11-30T00:00:00\",\"2024-12-31T00:00:00\",\"2025-01-31T00:00:00\"],\"xaxis\":\"x\",\"y\":[179457.7052353552,179605.3706495985,179800.6402852449,180242.82451378673,180789.7917280935,181424.6676178152,182117.42701382664,182871.22923601797,183642.99374227526,184391.55740630862,185129.91948764373,185866.528362769,186621.9831164523,187367.0637360521,188168.90659355262,189004.4494471157,189835.68302826674,190575.31610974536,191291.56328477425,192011.05879809326,192716.24550252222,193356.72736676564,193928.51051491278,194448.35632035756,194866.64858384454,195277.81326809505,195713.27255968345,196256.36634622086,196850.63295248267,197508.78486456035,198253.8016915562,199042.2040042617,199842.9432236207,200619.44136576017,201404.9595765892,202161.16286249436,202893.5358524494,203629.0062407755,204429.380473645,205340.84191923172,206293.43559658015,207266.05766323933,208262.7480367134,209378.30522228015,210600.88453278196,211865.95379643267,213035.20233781042,214115.6744155768,215168.83152167546,216431.6736939074,217864.0362612209,219508.1119362121,221332.29014941776,223362.5930946336,225616.8392379137,227812.84401593363,229997.1252519533,232084.25164327514,234187.31848153492,236222.40508375218,238143.04354489615,240085.30208656212,242251.807732498,244746.06331974006,247392.16566746682,250098.02638464002,252810.42978138605,255550.9850260157,258218.89600017044,260710.18867445347,262887.1577029923,264859.9090563072,266595.3193565853,268235.1469543396,269862.87628797395,271488.72703624965,272974.68711078604,274187.2352928919,275159.6540610947,275934.27597527613,276430.9833630834,276568.40620265494,276512.8965819226,276397.2298570217,276324.41920012,276328.15054890723,276408.99495516124,276464.1683095101,276302.8840336329,275940.9859939491,275415.160862056,274793.35451690626,274006.43991147226,273070.0850547068,271895.42675336706,270569.8506657429,269121.33757735643,267564.020705015,265644.00304289797,263461.8193499916,261099.87218854434,258722.1965000809,256158.8620951271,253487.81930814238,250765.59484363956,248200.360553823,245660.13299556763,243348.18120450966,241231.1431613823,239351.7202288387,237325.6249919133,235149.01757523062,232954.39357546688,230908.97124004576,229097.41655861147,227291.79847601012,225483.7053529342,223911.47987036812,222931.27945425973,222370.37206603092,222071.4123879603,221712.45012908312,221540.41447052328,221408.1003615112,221198.95908599376,220665.40808551727,219820.02769115116,218838.8109137134,217632.70374620092,216282.97415331443,214842.05549343152,213393.9595069684,212017.53074531574,210651.70775130406,209336.06043371503,207988.2245742943,206623.3736423036,205434.52572354712,204447.49452739992,203602.70565224302,202858.6013132899,202188.46584300662,201706.21465454155,201379.82188862393,201269.9081432831,201326.54655486814,201598.93950031511,202048.63476328953,202752.86015646518,203663.40853508134,204570.63615686444,205454.5870885941,206476.26238656932,207672.43513067006,209039.45468553764,210466.5529998728,211932.86601538974,213249.22007933783,214533.15644237335,216105.00534916337,218241.0108430419,220701.64281795485,222898.17614658902,224926.05911346263,226818.70735723965,228775.78299773135,230342.0564639467,231641.83038887064,232752.4068224243,233886.71938439758,235107.2116329301,236484.0148487121,238088.76670814888,239421.2332888591,240516.7084473361,241310.75904907918,242266.89967446539,243223.16423047442,244421.9570105923,245714.9070747115,247101.39714708165,248541.7966282665,249983.43758662217,251542.6780613094,253219.2303780352,254865.06506771105,256517.28390005976,258217.9810494359,260110.7104268778,262160.3149807012,264034.23146223923,265811.0849055815,267725.2558674318,269683.7122266196,271314.4388896514,272681.63687449653,273903.6538303994,275226.4049523227,276242.1915539979,277142.53301991586,278049.6747584062,279361.68169895903,280993.0011857659,282890.13432899484,284826.96761212574,286911.1430038761,289017.9121575341,291191.99506186636,293037.1119346348,294853.0386507085,296416.9316401207,298011.59801104426,299646.66742239555,301524.46884155995,303499.2862653145,305615.20467817766,307802.6389171807,310100.4242322255,312543.97719637444,314853.2844261163,317166.4205912289,319057.7485948048,321054.81643582246,322901.19678547553,324661.965389272,326061.89439922455,327268.21148656175,328384.70311200153,329488.33961097966,330677.01153286686,332144.07408487034,333681.6144682976,335006.9277458569,336192.24155653885,337369.52000925643,338760.1599408945,340065.2439934401,341554.94501821615,343310.02048664296,345304.84058816975,347396.8686809111,349526.791480753,351889.9971470736,354145.0555112667,355386.59950246365,355888.4241308617,356712.18057154136,359232.3283678308,363763.4610593152,369425.31189837534,375869.0206775732,382318.4762264034,388538.3618361257,395001.28764367156,401953.72680731985,409882.5997018699,418665.61765979393,427527.68480362755,435414.5952474635,441069.8872301989,445140.245544826,448891.9710651576,453310.3070957716,458212.2617544475,464728.17707448505,472890.5702691785,482914.6492121179,492649.4276368733,500662.9720113371,505843.0042632093,506732.6773573695,503863.8807792655,498691.1068583175,494313.76424702903,490834.2250932908,487890.9040309465,484498.41975521407,481769.80743532535,480271.83355888014,480672.37645311625,482326.03567755787,484891.2119295651,487490.30304398015,490115.5591304156,492196.8207265127,493604.777912509,494307.90015181556,494458.15642185946,494490.0195177474,495116.4380474209,497028.6097939991,499723.7513992676,502061.2069755814,503048.43544349837,503468.95511325455,503957.89144384506,505047.4495234961,506183.3558802403,507136.14146953967,508135.4092839291,508749.5576040633],\"yaxis\":\"y\",\"type\":\"scattergl\"}],                        {\"template\":{\"data\":{\"histogram2dcontour\":[{\"type\":\"histogram2dcontour\",\"colorbar\":{\"outlinewidth\":0,\"ticks\":\"\"},\"colorscale\":[[0.0,\"#0d0887\"],[0.1111111111111111,\"#46039f\"],[0.2222222222222222,\"#7201a8\"],[0.3333333333333333,\"#9c179e\"],[0.4444444444444444,\"#bd3786\"],[0.5555555555555556,\"#d8576b\"],[0.6666666666666666,\"#ed7953\"],[0.7777777777777778,\"#fb9f3a\"],[0.8888888888888888,\"#fdca26\"],[1.0,\"#f0f921\"]]}],\"choropleth\":[{\"type\":\"choropleth\",\"colorbar\":{\"outlinewidth\":0,\"ticks\":\"\"}}],\"histogram2d\":[{\"type\":\"histogram2d\",\"colorbar\":{\"outlinewidth\":0,\"ticks\":\"\"},\"colorscale\":[[0.0,\"#0d0887\"],[0.1111111111111111,\"#46039f\"],[0.2222222222222222,\"#7201a8\"],[0.3333333333333333,\"#9c179e\"],[0.4444444444444444,\"#bd3786\"],[0.5555555555555556,\"#d8576b\"],[0.6666666666666666,\"#ed7953\"],[0.7777777777777778,\"#fb9f3a\"],[0.8888888888888888,\"#fdca26\"],[1.0,\"#f0f921\"]]}],\"heatmap\":[{\"type\":\"heatmap\",\"colorbar\":{\"outlinewidth\":0,\"ticks\":\"\"},\"colorscale\":[[0.0,\"#0d0887\"],[0.1111111111111111,\"#46039f\"],[0.2222222222222222,\"#7201a8\"],[0.3333333333333333,\"#9c179e\"],[0.4444444444444444,\"#bd3786\"],[0.5555555555555556,\"#d8576b\"],[0.6666666666666666,\"#ed7953\"],[0.7777777777777778,\"#fb9f3a\"],[0.8888888888888888,\"#fdca26\"],[1.0,\"#f0f921\"]]}],\"heatmapgl\":[{\"type\":\"heatmapgl\",\"colorbar\":{\"outlinewidth\":0,\"ticks\":\"\"},\"colorscale\":[[0.0,\"#0d0887\"],[0.1111111111111111,\"#46039f\"],[0.2222222222222222,\"#7201a8\"],[0.3333333333333333,\"#9c179e\"],[0.4444444444444444,\"#bd3786\"],[0.5555555555555556,\"#d8576b\"],[0.6666666666666666,\"#ed7953\"],[0.7777777777777778,\"#fb9f3a\"],[0.8888888888888888,\"#fdca26\"],[1.0,\"#f0f921\"]]}],\"contourcarpet\":[{\"type\":\"contourcarpet\",\"colorbar\":{\"outlinewidth\":0,\"ticks\":\"\"}}],\"contour\":[{\"type\":\"contour\",\"colorbar\":{\"outlinewidth\":0,\"ticks\":\"\"},\"colorscale\":[[0.0,\"#0d0887\"],[0.1111111111111111,\"#46039f\"],[0.2222222222222222,\"#7201a8\"],[0.3333333333333333,\"#9c179e\"],[0.4444444444444444,\"#bd3786\"],[0.5555555555555556,\"#d8576b\"],[0.6666666666666666,\"#ed7953\"],[0.7777777777777778,\"#fb9f3a\"],[0.8888888888888888,\"#fdca26\"],[1.0,\"#f0f921\"]]}],\"surface\":[{\"type\":\"surface\",\"colorbar\":{\"outlinewidth\":0,\"ticks\":\"\"},\"colorscale\":[[0.0,\"#0d0887\"],[0.1111111111111111,\"#46039f\"],[0.2222222222222222,\"#7201a8\"],[0.3333333333333333,\"#9c179e\"],[0.4444444444444444,\"#bd3786\"],[0.5555555555555556,\"#d8576b\"],[0.6666666666666666,\"#ed7953\"],[0.7777777777777778,\"#fb9f3a\"],[0.8888888888888888,\"#fdca26\"],[1.0,\"#f0f921\"]]}],\"mesh3d\":[{\"type\":\"mesh3d\",\"colorbar\":{\"outlinewidth\":0,\"ticks\":\"\"}}],\"scatter\":[{\"fillpattern\":{\"fillmode\":\"overlay\",\"size\":10,\"solidity\":0.2},\"type\":\"scatter\"}],\"parcoords\":[{\"type\":\"parcoords\",\"line\":{\"colorbar\":{\"outlinewidth\":0,\"ticks\":\"\"}}}],\"scatterpolargl\":[{\"type\":\"scatterpolargl\",\"marker\":{\"colorbar\":{\"outlinewidth\":0,\"ticks\":\"\"}}}],\"bar\":[{\"error_x\":{\"color\":\"#2a3f5f\"},\"error_y\":{\"color\":\"#2a3f5f\"},\"marker\":{\"line\":{\"color\":\"#E5ECF6\",\"width\":0.5},\"pattern\":{\"fillmode\":\"overlay\",\"size\":10,\"solidity\":0.2}},\"type\":\"bar\"}],\"scattergeo\":[{\"type\":\"scattergeo\",\"marker\":{\"colorbar\":{\"outlinewidth\":0,\"ticks\":\"\"}}}],\"scatterpolar\":[{\"type\":\"scatterpolar\",\"marker\":{\"colorbar\":{\"outlinewidth\":0,\"ticks\":\"\"}}}],\"histogram\":[{\"marker\":{\"pattern\":{\"fillmode\":\"overlay\",\"size\":10,\"solidity\":0.2}},\"type\":\"histogram\"}],\"scattergl\":[{\"type\":\"scattergl\",\"marker\":{\"colorbar\":{\"outlinewidth\":0,\"ticks\":\"\"}}}],\"scatter3d\":[{\"type\":\"scatter3d\",\"line\":{\"colorbar\":{\"outlinewidth\":0,\"ticks\":\"\"}},\"marker\":{\"colorbar\":{\"outlinewidth\":0,\"ticks\":\"\"}}}],\"scattermapbox\":[{\"type\":\"scattermapbox\",\"marker\":{\"colorbar\":{\"outlinewidth\":0,\"ticks\":\"\"}}}],\"scatterternary\":[{\"type\":\"scatterternary\",\"marker\":{\"colorbar\":{\"outlinewidth\":0,\"ticks\":\"\"}}}],\"scattercarpet\":[{\"type\":\"scattercarpet\",\"marker\":{\"colorbar\":{\"outlinewidth\":0,\"ticks\":\"\"}}}],\"carpet\":[{\"aaxis\":{\"endlinecolor\":\"#2a3f5f\",\"gridcolor\":\"white\",\"linecolor\":\"white\",\"minorgridcolor\":\"white\",\"startlinecolor\":\"#2a3f5f\"},\"baxis\":{\"endlinecolor\":\"#2a3f5f\",\"gridcolor\":\"white\",\"linecolor\":\"white\",\"minorgridcolor\":\"white\",\"startlinecolor\":\"#2a3f5f\"},\"type\":\"carpet\"}],\"table\":[{\"cells\":{\"fill\":{\"color\":\"#EBF0F8\"},\"line\":{\"color\":\"white\"}},\"header\":{\"fill\":{\"color\":\"#C8D4E3\"},\"line\":{\"color\":\"white\"}},\"type\":\"table\"}],\"barpolar\":[{\"marker\":{\"line\":{\"color\":\"#E5ECF6\",\"width\":0.5},\"pattern\":{\"fillmode\":\"overlay\",\"size\":10,\"solidity\":0.2}},\"type\":\"barpolar\"}],\"pie\":[{\"automargin\":true,\"type\":\"pie\"}]},\"layout\":{\"autotypenumbers\":\"strict\",\"colorway\":[\"#636efa\",\"#EF553B\",\"#00cc96\",\"#ab63fa\",\"#FFA15A\",\"#19d3f3\",\"#FF6692\",\"#B6E880\",\"#FF97FF\",\"#FECB52\"],\"font\":{\"color\":\"#2a3f5f\"},\"hovermode\":\"closest\",\"hoverlabel\":{\"align\":\"left\"},\"paper_bgcolor\":\"white\",\"plot_bgcolor\":\"#E5ECF6\",\"polar\":{\"bgcolor\":\"#E5ECF6\",\"angularaxis\":{\"gridcolor\":\"white\",\"linecolor\":\"white\",\"ticks\":\"\"},\"radialaxis\":{\"gridcolor\":\"white\",\"linecolor\":\"white\",\"ticks\":\"\"}},\"ternary\":{\"bgcolor\":\"#E5ECF6\",\"aaxis\":{\"gridcolor\":\"white\",\"linecolor\":\"white\",\"ticks\":\"\"},\"baxis\":{\"gridcolor\":\"white\",\"linecolor\":\"white\",\"ticks\":\"\"},\"caxis\":{\"gridcolor\":\"white\",\"linecolor\":\"white\",\"ticks\":\"\"}},\"coloraxis\":{\"colorbar\":{\"outlinewidth\":0,\"ticks\":\"\"}},\"colorscale\":{\"sequential\":[[0.0,\"#0d0887\"],[0.1111111111111111,\"#46039f\"],[0.2222222222222222,\"#7201a8\"],[0.3333333333333333,\"#9c179e\"],[0.4444444444444444,\"#bd3786\"],[0.5555555555555556,\"#d8576b\"],[0.6666666666666666,\"#ed7953\"],[0.7777777777777778,\"#fb9f3a\"],[0.8888888888888888,\"#fdca26\"],[1.0,\"#f0f921\"]],\"sequentialminus\":[[0.0,\"#0d0887\"],[0.1111111111111111,\"#46039f\"],[0.2222222222222222,\"#7201a8\"],[0.3333333333333333,\"#9c179e\"],[0.4444444444444444,\"#bd3786\"],[0.5555555555555556,\"#d8576b\"],[0.6666666666666666,\"#ed7953\"],[0.7777777777777778,\"#fb9f3a\"],[0.8888888888888888,\"#fdca26\"],[1.0,\"#f0f921\"]],\"diverging\":[[0,\"#8e0152\"],[0.1,\"#c51b7d\"],[0.2,\"#de77ae\"],[0.3,\"#f1b6da\"],[0.4,\"#fde0ef\"],[0.5,\"#f7f7f7\"],[0.6,\"#e6f5d0\"],[0.7,\"#b8e186\"],[0.8,\"#7fbc41\"],[0.9,\"#4d9221\"],[1,\"#276419\"]]},\"xaxis\":{\"gridcolor\":\"white\",\"linecolor\":\"white\",\"ticks\":\"\",\"title\":{\"standoff\":15},\"zerolinecolor\":\"white\",\"automargin\":true,\"zerolinewidth\":2},\"yaxis\":{\"gridcolor\":\"white\",\"linecolor\":\"white\",\"ticks\":\"\",\"title\":{\"standoff\":15},\"zerolinecolor\":\"white\",\"automargin\":true,\"zerolinewidth\":2},\"scene\":{\"xaxis\":{\"backgroundcolor\":\"#E5ECF6\",\"gridcolor\":\"white\",\"linecolor\":\"white\",\"showbackground\":true,\"ticks\":\"\",\"zerolinecolor\":\"white\",\"gridwidth\":2},\"yaxis\":{\"backgroundcolor\":\"#E5ECF6\",\"gridcolor\":\"white\",\"linecolor\":\"white\",\"showbackground\":true,\"ticks\":\"\",\"zerolinecolor\":\"white\",\"gridwidth\":2},\"zaxis\":{\"backgroundcolor\":\"#E5ECF6\",\"gridcolor\":\"white\",\"linecolor\":\"white\",\"showbackground\":true,\"ticks\":\"\",\"zerolinecolor\":\"white\",\"gridwidth\":2}},\"shapedefaults\":{\"line\":{\"color\":\"#2a3f5f\"}},\"annotationdefaults\":{\"arrowcolor\":\"#2a3f5f\",\"arrowhead\":0,\"arrowwidth\":1},\"geo\":{\"bgcolor\":\"white\",\"landcolor\":\"#E5ECF6\",\"subunitcolor\":\"white\",\"showland\":true,\"showlakes\":true,\"lakecolor\":\"white\"},\"title\":{\"x\":0.05},\"mapbox\":{\"style\":\"light\"}}},\"xaxis\":{\"anchor\":\"y\",\"domain\":[0.0,1.0],\"title\":{\"text\":\"Region\"}},\"yaxis\":{\"anchor\":\"x\",\"domain\":[0.0,1.0],\"title\":{\"text\":\"Average Housing Price per Region\"}},\"legend\":{\"title\":{\"text\":\"Region\"},\"tracegroupgap\":0,\"orientation\":\"h\",\"yanchor\":\"bottom\",\"y\":-0.3,\"xanchor\":\"right\",\"x\":1},\"title\":{\"text\":\"Average Prices based on Region\",\"x\":0.5},\"height\":700,\"width\":1400,\"updatemenus\":[{\"active\":0,\"buttons\":[{\"args\":[{\"visible\":[true,true,true,true]},{\"xaxis\":{\"title\":\"All Regions\"},\"yaxis\":{\"title\":\"Average Housing Price per Region\"}}],\"label\":\"All\",\"method\":\"update\"},{\"args\":[{\"visible\":[false,true,false,false,false,false,false,true,false,false,true,false,false,false,false,false,false,false,false,false,false,false,false,false,false,false,false,true,false,false,false,false,false,false,false,false,false,false,true,false,false,false,false,false,false,false,false,false,true,true,false,true,false,false,false,false,false,true,false,true,false,false,false,true,false,false,false,true,false,true,false,false,false,false,false,false,false,false,false,false,false,false,false,true,false,false,false,false,true,false,false,false,false,false,false,false,true,false,true,false,false,true,true,false,false,false,false,false,false,false,false,false,false,false,false,false,false,false,false,true,false,false,false,false,false,true,false,false,true,false,false,false,false,false,false,false,false,false,true,false,false,false,false,false,false,false,false,false,false,false,false,false,false,false,false,false,false,false,false,false,false,false,false,false,true,false,false,false,false,false,false,false,false,false,false,true,false,false,false,true,true,false,false,false,false,false,false,false,false,false,true,false,false,false,false,false,true,false,false,true,false,false,false,false,false,false,false,false,false,false,false,false,false,false,false,false,false,false,false,false,false,false,false,false,false,false,true,false,false,false,true,false,false,false,false,false,false,false,false,false,false,false,false,false,false,false,false,false,false,false,true,false,false,false,false,false,false,false,true,false,false,false,true,true,false,false,false,false,false,false,true,false,false,true,false,false,false,false,false,false,false,false,false,false,false,false,false,false,true,false,true,false,false,false,false,false,false,false,false,false,false,false,false,false,false,true,false,false,false,true,false,true,false,false,true,false,false,false,false,false,false,true,true,false,false,false,false,false,false,false,false,true,false,false,false,false,false,true,false,false,false,false,false,false,false,true,false,true,false,false,false,false,false,false,true,false,false,false,false,true,false,false,false,false,false,false,false,false,false,false,false,false,false,false,false,false,false,false,false,false,false,false,false,false,true,false,false,true,false,true,false,false,false,false,false,false,false,false,false,false,true,false,false,false,true,true,false,false,true,false,false,true,false,false,false,false,false,false,false,false,false,true,false,true,false,false,false,false,true,false,false,false,false,true,false,true,false,false,false,false,false,false,false,false,true,false,false,false,false,false,false,false,false,false,false,false,false,false,false,false,false,false,false,false,false,false,false,false,false,false,false,false,false,false,false,false,false,false,true,false,false,false,false,false,true,false,false,false,true,false,true,false,true,false,true,false,true,false,false,false,false,false,false,false,false,false,false,false,false,false,false,false,false,false,false,false,false,false,false,false,false,false,false,false,false,false,false,false,true,false,false,false,false,false,false,false,false,false,false,false,false,false,false,true,false,false,false,false,false,false,false,true,false,false,false,false,false,false,false,false,false,false,true,false,false,false,false,false,true,false,false,false,false,false,false,false,false,false,false,false,false,false,false,false,false,false,false,false,false,false,false,false,false,false,true,false,false,false,false,false,false,false,false,false,false,false,false,false,false,false,false,false,false,false,false,false,false,false,false,false,true,false,false,false,false,false,false,false,false,false,false,false,false,false,false,false,false,false,false,false,false,false,false,false,false,false,false,false,true,false,false,false,false,false,false,true,false,false,false,false,false,false,false,false,false,false,false,false,false,false,false,false,false,false,false,false,false,false,false,false,false,false,false,false,false,true,false,false,false,false,false,false,false,false,false,false,false,false,true,false,false,false,false,false,false,false,false,false,false,false,false,false,false,false,false,false,false,false,false,false,false,false,false,false,false,false,false,false,false,false,false,false,false,false,false,false,false,false,false,false,false,false,false,false,false,false,false,false,false,false,false,false,false,false,false,false,false,true,false,false,false,false,false,false,false,false,false,false,false,false,false]},{\"xaxis\":{\"title\":\"Northeast\"},\"yaxis\":{\"title\":\"Average Housing Price in the Northeast\"},\"x\":[\"Northeast\"]}],\"label\":\"Northeast\",\"method\":\"update\"},{\"args\":[{\"visible\":[false,false,true,false,false,false,false,false,false,false,false,true,true,true,false,true,false,true,false,true,false,false,false,false,false,true,true,false,false,false,true,false,false,false,false,true,false,false,false,false,false,false,false,false,false,false,false,true,false,false,false,false,false,true,true,false,true,false,false,false,false,true,true,false,false,false,false,false,false,false,true,false,false,false,false,true,false,true,true,false,false,false,false,false,true,false,false,false,false,true,false,false,false,false,false,false,false,true,false,false,true,false,false,false,false,false,false,false,false,true,true,false,false,false,false,false,true,false,false,false,true,true,true,true,false,false,false,false,false,false,false,false,false,false,false,true,false,false,false,false,false,false,true,false,false,false,false,false,true,false,false,false,true,false,false,false,false,true,false,false,false,false,false,true,false,false,false,true,false,false,true,false,true,false,false,false,true,false,true,false,false,false,false,false,false,false,false,false,true,false,false,false,false,false,false,false,false,false,true,false,false,false,false,true,false,true,true,false,false,true,false,false,false,false,false,false,true,false,false,false,false,false,true,false,false,false,false,false,true,true,false,false,false,false,true,false,true,false,true,false,false,false,false,false,false,false,false,false,false,true,false,true,false,false,true,false,false,false,false,false,true,false,false,false,true,true,false,false,false,true,false,false,false,false,false,true,false,false,false,false,false,false,false,false,false,true,true,false,false,false,false,false,false,false,false,false,true,false,false,true,false,false,false,false,false,false,false,false,false,false,true,false,false,true,false,false,false,true,false,false,false,false,false,false,true,false,true,false,false,false,false,false,false,false,true,true,false,false,false,false,true,false,false,false,true,false,true,false,false,false,true,false,false,false,false,false,false,false,false,false,false,true,false,false,false,false,true,false,true,false,false,false,false,false,false,false,false,true,false,false,false,true,false,false,false,true,true,false,false,false,true,true,false,false,false,false,true,false,false,false,false,true,false,false,false,false,true,false,false,false,false,false,false,true,false,false,false,false,true,false,false,false,false,false,false,false,true,false,false,false,false,false,true,false,false,false,true,false,false,false,false,false,true,false,false,false,false,true,false,false,false,false,false,false,true,false,true,false,false,false,false,false,false,false,false,false,false,false,true,true,false,false,false,true,false,false,true,true,false,false,false,false,false,true,false,false,true,false,false,false,false,false,false,false,false,false,false,false,false,false,false,true,true,false,false,false,false,false,true,false,false,false,true,false,false,false,true,true,false,false,false,false,true,false,false,false,false,false,false,false,false,false,true,false,false,false,false,false,false,false,false,false,false,false,false,false,false,true,false,true,false,false,false,false,true,false,false,false,false,false,false,true,false,false,false,true,false,true,false,false,false,true,false,false,false,false,false,false,true,false,false,false,false,false,false,false,false,false,false,false,false,false,false,false,false,true,false,false,false,false,false,false,false,false,false,false,false,false,false,false,false,false,false,false,false,false,false,false,false,true,false,false,false,false,false,false,false,false,false,true,false,true,false,false,false,false,false,false,false,false,false,true,false,false,false,false,false,false,false,false,false,false,true,false,false,false,false,false,false,false,false,false,false,false,false,false,false,false,false,false,false,false,false,true,false,true,false,false,false,false,false,false,false,false,false,false,false,false,false,false,true,false,false,false,false,false,false,true,false,false,false,false,true,false,false,false,false,false,false,false,false,false,false,true,false,false,false,true,false,false,false,false,true,true,false,false,false,false,true,false,false,true,true,false,false,false,true,true,false,true,false,false,false,false,false,false,true,false,false,false,false,false,false,false,true,false,true,false,true,true,false,false,false,false,false,false,false,false,true,true,false]},{\"xaxis\":{\"title\":\"West\"},\"yaxis\":{\"title\":\"Average Housing Price in the West\"},\"x\":[\"West\"]}],\"label\":\"West\",\"method\":\"update\"},{\"args\":[{\"visible\":[false,false,false,true,false,false,false,false,false,false,false,false,false,false,true,false,true,false,false,false,false,true,false,false,false,false,false,false,true,false,false,true,true,true,true,false,false,false,false,false,true,false,false,false,false,false,false,false,false,false,false,false,true,false,false,false,false,false,true,false,false,false,false,false,false,false,false,false,false,false,false,false,false,false,false,false,false,false,false,false,false,true,true,false,false,true,false,false,false,false,true,true,false,false,false,false,false,false,false,false,false,false,false,true,true,false,false,false,false,false,false,false,false,false,false,true,false,false,false,false,false,false,false,false,false,false,false,false,false,true,false,true,true,true,false,false,false,false,false,false,true,false,false,false,true,false,false,true,false,true,true,false,false,true,false,true,false,false,false,false,false,true,false,false,false,false,true,false,false,false,false,false,false,false,true,false,false,true,false,false,false,false,false,false,false,true,false,false,false,true,false,false,true,true,false,false,false,false,false,false,true,true,true,false,false,false,false,false,false,false,true,true,false,false,true,false,false,false,false,false,true,true,false,true,false,true,false,false,false,false,false,false,true,false,false,false,false,false,false,true,false,true,false,false,true,true,true,false,true,false,false,false,false,true,false,true,false,true,false,false,false,false,false,false,false,false,false,true,true,false,false,false,true,false,false,false,true,false,false,false,false,true,false,false,false,false,false,false,false,false,false,false,false,true,false,true,false,true,false,false,true,false,true,true,true,false,false,true,false,false,false,false,false,false,false,false,false,false,true,true,false,false,false,false,false,true,false,false,true,true,false,false,true,true,false,false,false,false,false,false,false,false,true,true,false,false,false,false,true,false,false,false,false,true,false,true,false,true,true,false,false,false,false,true,true,true,false,false,false,false,true,false,true,false,false,false,false,false,true,true,false,false,true,false,false,false,false,false,true,false,false,false,false,false,true,false,false,false,false,true,false,false,false,true,false,false,false,false,false,true,true,false,false,false,false,false,true,false,false,true,false,false,true,false,false,false,false,true,false,true,false,true,false,false,false,false,false,true,true,true,false,true,false,true,false,true,false,false,false,false,false,false,false,false,false,false,false,false,false,true,true,true,true,false,false,true,true,true,false,false,false,false,false,false,false,false,false,false,false,true,false,false,true,false,false,false,false,true,false,false,false,true,false,true,false,true,false,false,false,true,true,false,false,false,false,false,true,false,false,false,true,true,false,false,false,true,false,false,false,true,false,true,false,false,false,false,false,true,false,true,true,false,false,true,false,false,false,false,true,false,true,true,false,false,true,false,true,false,false,false,false,false,false,false,false,false,true,true,true,false,true,false,false,false,true,false,false,false,false,false,true,false,false,true,true,true,true,true,false,false,false,false,false,true,false,false,true,false,true,true,false,true,false,true,false,false,false,false,false,false,true,false,true,true,false,true,false,false,true,true,false,true,true,false,false,false,false,false,false,false,false,false,false,true,true,true,true,false,true,false,false,false,false,false,true,true,true,true,true,true,true,false,true,false,false,true,true,false,false,false,true,true,false,false,true,false,true,false,false,false,false,true,true,true,false,true,true,true,true,false,true,false,false,false,true,false,true,true,true,false,false,true,true,false,false,false,true,false,true,false,false,false,false,false,true,false,false,false,false,true,false,true,false,false,false,false,true,false,true,true,true,true,false,false,false,true,false,false,true,false,false,false,false,false,true,true,false,true,false,false,false,false,false,false,false,false,false,false,false,false,true,true,false,false,true,false,false,true,false,false,false,true,true,false,false,false,false,false,false,false,false,true,false,false,true,true,false,false,false,false,false]},{\"xaxis\":{\"title\":\"Midwest\"},\"yaxis\":{\"title\":\"Average Housing Price in the Midwest\"},\"x\":[\"Midwest\"]}],\"label\":\"Midwest\",\"method\":\"update\"},{\"args\":[{\"visible\":[false,false,false,false,true,true,true,false,true,true,false,false,false,false,false,false,false,false,true,false,true,false,true,true,true,false,false,false,false,true,false,false,false,false,false,false,true,true,false,true,false,true,true,true,true,true,true,false,false,false,true,false,false,false,false,true,false,false,false,false,true,false,false,false,true,true,true,false,true,false,false,true,true,true,true,false,true,false,false,true,true,false,false,false,false,false,true,true,false,false,false,false,true,true,true,true,false,false,false,true,false,false,false,false,false,true,true,true,true,false,false,true,true,true,true,false,false,true,true,false,false,false,false,false,true,false,true,true,false,false,true,false,false,false,true,false,true,true,false,true,false,true,false,true,false,true,true,false,false,false,false,true,false,false,true,false,true,false,true,true,true,false,true,false,false,true,false,false,true,true,false,true,false,true,false,false,false,false,false,false,false,true,true,true,true,false,true,true,false,false,false,true,false,false,true,true,false,true,false,false,false,false,false,false,true,false,false,true,true,false,false,false,true,true,false,true,false,true,true,true,false,false,false,false,true,false,false,true,false,false,false,true,false,true,false,true,false,true,false,false,true,false,true,true,false,false,false,true,false,false,false,false,true,false,false,false,true,false,false,true,false,true,false,false,false,false,true,false,false,false,false,true,false,false,true,false,false,true,true,true,true,false,true,true,true,false,false,true,false,true,false,true,true,false,true,false,false,false,true,false,false,true,false,false,false,false,true,false,true,false,false,false,true,false,false,true,true,false,false,false,true,false,false,true,false,false,false,true,false,false,true,false,false,false,false,false,true,false,true,true,false,true,false,false,false,false,false,false,false,true,false,true,true,false,false,false,true,false,false,false,true,false,true,false,false,false,false,true,false,true,false,true,false,true,true,true,true,false,false,false,true,false,false,true,false,false,false,false,false,false,false,false,true,true,false,true,false,true,true,false,false,false,true,false,false,false,false,true,false,false,false,false,true,false,true,true,false,true,false,false,true,false,false,false,true,true,false,false,false,false,true,false,false,false,true,false,false,false,false,false,true,false,false,false,false,false,true,false,true,true,true,true,true,true,false,true,false,true,true,false,false,false,false,true,true,false,false,false,false,false,true,true,true,false,true,true,false,false,false,false,true,true,false,false,false,true,false,false,false,true,false,false,false,false,false,false,false,true,true,false,false,false,false,true,true,true,false,true,false,true,false,false,false,true,true,false,false,false,true,false,true,false,false,true,true,true,true,false,false,false,false,true,false,false,true,true,true,true,false,true,false,false,true,false,false,true,false,false,true,false,true,false,true,true,false,true,false,false,false,true,false,false,false,true,false,false,true,false,false,true,false,false,true,false,false,false,false,false,false,true,true,true,true,false,true,true,false,true,false,false,true,false,true,false,false,false,true,true,true,true,false,true,false,false,true,false,true,true,false,false,true,false,false,true,true,true,true,true,true,false,false,true,true,false,false,false,false,true,false,false,true,false,true,true,false,false,false,false,false,false,false,false,false,true,true,false,false,true,false,true,false,false,false,true,false,false,false,true,true,true,true,false,false,false,true,false,false,false,false,true,false,true,true,false,false,false,false,false,false,true,true,false,false,true,true,false,false,true,false,true,false,true,true,true,false,true,true,false,false,false,true,false,false,true,true,true,false,true,false,false,false,false,true,false,true,false,true,false,false,true,true,true,false,false,false,false,true,false,false,true,true,false,false,true,true,true,false,false,true,false,false,false,true,true,false,true,false,false,true,true,true,false,false,true,false,true,false,false,false,false,true,false,true,true,false,false,true,true,false,false,true]},{\"xaxis\":{\"title\":\"South\"},\"yaxis\":{\"title\":\"Average Housing Price in the South\"},\"x\":[\"South\"]}],\"label\":\"South\",\"method\":\"update\"}],\"direction\":\"down\",\"showactive\":true,\"x\":0.17,\"xanchor\":\"left\",\"y\":1.15,\"yanchor\":\"top\"}]},                        {\"responsive\": true}                    ).then(function(){\n",
       "                            \n",
       "var gd = document.getElementById('e2e36e09-35d7-4f04-be0a-07120374526a');\n",
       "var x = new MutationObserver(function (mutations, observer) {{\n",
       "        var display = window.getComputedStyle(gd).display;\n",
       "        if (!display || display === 'none') {{\n",
       "            console.log([gd, 'removed!']);\n",
       "            Plotly.purge(gd);\n",
       "            observer.disconnect();\n",
       "        }}\n",
       "}});\n",
       "\n",
       "// Listen for the removal of the full notebook cells\n",
       "var notebookContainer = gd.closest('#notebook-container');\n",
       "if (notebookContainer) {{\n",
       "    x.observe(notebookContainer, {childList: true});\n",
       "}}\n",
       "\n",
       "// Listen for the clearing of the current output cell\n",
       "var outputEl = gd.closest('.output');\n",
       "if (outputEl) {{\n",
       "    x.observe(outputEl, {childList: true});\n",
       "}}\n",
       "\n",
       "                        })                };                });            </script>        </div>"
      ]
     },
     "metadata": {},
     "output_type": "display_data"
    }
   ],
   "source": [
    "import plotly.express as px\n",
    "import plotly.graph_objects as go\n",
    "\n",
    "# Assuming hv is the home_value DataFrame\n",
    "hv = home_value.copy()\n",
    "\n",
    "region_mapping = {\n",
    "    # list of states given, paired with their region\n",
    "    'ME': 'Northeast', 'NH': 'Northeast', 'VT': 'Northeast', 'MA': 'Northeast', \n",
    "    'RI': 'Northeast', 'CT': 'Northeast', 'NY': 'Northeast', 'NJ': 'Northeast', 'PA': 'Northeast',\n",
    "    \n",
    "    'ND': 'Midwest', 'SD': 'Midwest', 'NE': 'Midwest', 'KS': 'Midwest', 'MN': 'Midwest', 'IA': 'Midwest',\n",
    "    'MO': 'Midwest', 'WI': 'Midwest', 'IL': 'Midwest', 'IN': 'Midwest', 'OH': 'Midwest', 'MI': 'Midwest',\n",
    "    \n",
    "    'DE': 'South', 'MD': 'South', 'DC': 'South', 'VA': 'South', 'WV': 'South', 'NC': 'South', 'SC': 'South', \n",
    "    'GA': 'South', 'FL': 'South', 'KY': 'South', 'TN': 'South', 'AL': 'South', 'MS': 'South', 'AR': 'South', \n",
    "    'LA': 'South', 'OK': 'South', 'TX': 'South',\n",
    "    \n",
    "    'MT': 'West', 'ID': 'West', 'WY': 'West', 'CO': 'West', 'NM': 'West', 'AZ': 'West', 'UT': 'West', \n",
    "    'NV': 'West', 'WA': 'West', 'OR': 'West', 'CA': 'West', 'AK': 'West', 'HI': 'West'\n",
    "}\n",
    "\n",
    "\n",
    "# Add region column based on the state abbreviation\n",
    "hv['RegionName'] = hv['StateName'].map(region_mapping)\n",
    "\n",
    "# Grab Columns\n",
    "categorical_columns = hv.columns[:5]\n",
    "dates = hv.columns[5:]\n",
    "\n",
    "# Convert to date time and melt the DataFrame\n",
    "df_melted = hv.melt(id_vars=categorical_columns, value_vars=dates, var_name='Date', value_name='Value')\n",
    "df_melted['Date'] = pd.to_datetime(df_melted['Date'])\n",
    "df_melted = df_melted.dropna(subset=['Value'])\n",
    "\n",
    "# Sort the DataFrame\n",
    "df_sorted = df_melted.sort_values(by=[\"RegionName\", \"Date\"])\n",
    "\n",
    "df_region = df_sorted.groupby([\"RegionName\",\"Date\"])['Value'].mean().reset_index()\n",
    "# Create the Plotly scatter plot\n",
    "fig = px.line(df_region, x=\"Date\", y=\"Value\", color=\"RegionName\", \n",
    "              title=\"Average Prices based on Region\",\n",
    "              labels={\"Date\": \"Year (2000-2024)\", \"Value\": \"Log of House Value ($)\", \"StateName\": \"State Abbreviation\"},\n",
    "              width=1400, height=700, hover_data=[\"RegionName\"])\n",
    "\n",
    "# Update layout for better spacing\n",
    "fig.update_layout(\n",
    "    legend_title=\"Region\",\n",
    "    legend=dict(title=\"Region\", orientation=\"h\", yanchor=\"bottom\", y=-0.3, xanchor=\"right\", x=1),\n",
    "    xaxis_title=\"Year (2000-2024)\",\n",
    "    yaxis_title=\"House Value ($)\",\n",
    "    title_x=0.5  # Center the title\n",
    ")\n",
    "\n",
    "fig.update_traces(marker=dict(size=3))\n",
    "\n",
    "def create_visibility(region):\n",
    "    # Boolean indexing to filter the data based on the selected region\n",
    "    return [True if hv['RegionName'].iloc[i] == region else False for i in range(len(hv))]\n",
    "\n",
    "fig.update_layout(\n",
    "    updatemenus=[\n",
    "        {\n",
    "            'buttons': [\n",
    "                {\n",
    "                    'label': 'All',\n",
    "                    'method': 'update',\n",
    "                    'args': [{'visible': [True] * len(fig.data)},{'xaxis': {'title': 'All Regions'}, 'yaxis': {'title': 'Average Housing Price per Region'}}]\n",
    "                },{\n",
    "                    'label': 'Northeast',\n",
    "                    'method': 'update',\n",
    "                    'args': [ {'visible': create_visibility('Northeast')\n",
    "                    },{'xaxis': {'title': 'Northeast'}, 'yaxis': {'title': 'Average Housing Price in the Northeast'}, \n",
    "                              'x': ['Northeast']}]\n",
    "                },{\n",
    "                    'label': 'West',\n",
    "                    'method': 'update',\n",
    "                    'args': [{'visible': create_visibility('West')}, {'xaxis': {'title': 'West'}, 'yaxis': {'title': 'Average Housing Price in the West'}, \n",
    "                              'x': ['West']}]\n",
    "                },{\n",
    "                    'label': 'Midwest',\n",
    "                    'method': 'update',\n",
    "                    'args': [{'visible': create_visibility('Midwest')},{'xaxis': {'title': 'Midwest'}, 'yaxis': {'title': 'Average Housing Price in the Midwest'}, \n",
    "                              'x': ['Midwest']}]\n",
    "                },{\n",
    "                    'label': 'South',\n",
    "                    'method': 'update',\n",
    "                    'args': [{'visible': create_visibility('South')},{'xaxis': {'title': 'South'}, 'yaxis': {'title': 'Average Housing Price in the South'}, \n",
    "                              'x': ['South']}]\n",
    "                }\n",
    "            ],\n",
    "            \n",
    "            'direction': 'down',\n",
    "            'showactive': True,\n",
    "            'active': 0,  # \"All\" is the default\n",
    "            'x': 0.17,\n",
    "            'xanchor': 'left',\n",
    "            'y': 1.15,\n",
    "            'yanchor': 'top',\n",
    "        }\n",
    "    ],\n",
    "    xaxis_title=\"Region\",\n",
    "    yaxis_title=\"Average Housing Price per Region\",\n",
    "    title_x=0.5  # Center the title\n",
    ")\n",
    "\n",
    "fig.show()"
   ]
  },
  {
   "cell_type": "code",
   "execution_count": 54,
   "id": "41ec0e51-f599-45aa-9d6a-0745d054b0e3",
   "metadata": {
    "scrolled": true
   },
   "outputs": [
    {
     "data": {
      "application/vnd.plotly.v1+json": {
       "config": {
        "plotlyServerURL": "https://plot.ly"
       },
       "data": [
        {
         "alignmentgroup": "True",
         "cliponaxis": false,
         "hovertemplate": "StateName=%{x}<br>Value=%{y}<extra></extra>",
         "legendgroup": "",
         "marker": {
          "color": "#636efa",
          "pattern": {
           "shape": ""
          }
         },
         "name": "",
         "offsetgroup": "",
         "orientation": "v",
         "showlegend": false,
         "textangle": 0,
         "textfont": {
          "size": 12
         },
         "textposition": "outside",
         "texttemplate": "%{y:.2s}",
         "type": "bar",
         "x": [
          "AK",
          "AL",
          "AR",
          "AZ",
          "CA",
          "CO",
          "CT",
          "DE",
          "FL",
          "GA",
          "HI",
          "IA",
          "ID",
          "IL",
          "IN",
          "KS",
          "KY",
          "LA",
          "MA",
          "MD",
          "ME",
          "MI",
          "MN",
          "MO",
          "MS",
          "MT",
          "NC",
          "ND",
          "NE",
          "NH",
          "NJ",
          "NM",
          "NV",
          "NY",
          "OH",
          "OK",
          "OR",
          "PA",
          "RI",
          "SC",
          "SD",
          "TN",
          "TX",
          "UT",
          "VA",
          "VT",
          "WA",
          "WI",
          "WV",
          "WY"
         ],
         "xaxis": "x",
         "y": [
          274315.7455110723,
          132572.49477316387,
          109979.99618000709,
          200448.039823375,
          368882.11503036163,
          324836.95923783275,
          273706.89218399423,
          238428.62028386391,
          183692.03453745943,
          125392.17086762477,
          510140.13298599306,
          126967.75257160603,
          238461.5055378866,
          116597.80836020739,
          122109.04727787513,
          129868.53807358915,
          109328.96894436743,
          141249.10333554272,
          373679.5185295015,
          220633.89709494074,
          180452.04790859576,
          134697.40094634207,
          179717.3940177043,
          131514.01226934456,
          149806.83919698893,
          266193.6101181558,
          163100.3385607229,
          197980.3276949816,
          133905.67327163467,
          208371.8489436429,
          256750.05646715508,
          206825.52812355978,
          253601.05065664375,
          139465.03641341397,
          113791.47369758948,
          99883.75398067952,
          239780.2530012125,
          141361.22511171747,
          271472.4342844036,
          157647.44124110794,
          176617.60801891412,
          139178.97137029143,
          142009.40654638896,
          283304.6432977831,
          183078.98869865254,
          225321.42955317287,
          254028.51769291918,
          169409.68583472166,
          107102.26980776174,
          301747.19261368696
         ],
         "yaxis": "y"
        }
       ],
       "layout": {
        "barmode": "relative",
        "legend": {
         "tracegroupgap": 0
        },
        "template": {
         "data": {
          "bar": [
           {
            "error_x": {
             "color": "#2a3f5f"
            },
            "error_y": {
             "color": "#2a3f5f"
            },
            "marker": {
             "line": {
              "color": "#E5ECF6",
              "width": 0.5
             },
             "pattern": {
              "fillmode": "overlay",
              "size": 10,
              "solidity": 0.2
             }
            },
            "type": "bar"
           }
          ],
          "barpolar": [
           {
            "marker": {
             "line": {
              "color": "#E5ECF6",
              "width": 0.5
             },
             "pattern": {
              "fillmode": "overlay",
              "size": 10,
              "solidity": 0.2
             }
            },
            "type": "barpolar"
           }
          ],
          "carpet": [
           {
            "aaxis": {
             "endlinecolor": "#2a3f5f",
             "gridcolor": "white",
             "linecolor": "white",
             "minorgridcolor": "white",
             "startlinecolor": "#2a3f5f"
            },
            "baxis": {
             "endlinecolor": "#2a3f5f",
             "gridcolor": "white",
             "linecolor": "white",
             "minorgridcolor": "white",
             "startlinecolor": "#2a3f5f"
            },
            "type": "carpet"
           }
          ],
          "choropleth": [
           {
            "colorbar": {
             "outlinewidth": 0,
             "ticks": ""
            },
            "type": "choropleth"
           }
          ],
          "contour": [
           {
            "colorbar": {
             "outlinewidth": 0,
             "ticks": ""
            },
            "colorscale": [
             [
              0,
              "#0d0887"
             ],
             [
              0.1111111111111111,
              "#46039f"
             ],
             [
              0.2222222222222222,
              "#7201a8"
             ],
             [
              0.3333333333333333,
              "#9c179e"
             ],
             [
              0.4444444444444444,
              "#bd3786"
             ],
             [
              0.5555555555555556,
              "#d8576b"
             ],
             [
              0.6666666666666666,
              "#ed7953"
             ],
             [
              0.7777777777777778,
              "#fb9f3a"
             ],
             [
              0.8888888888888888,
              "#fdca26"
             ],
             [
              1,
              "#f0f921"
             ]
            ],
            "type": "contour"
           }
          ],
          "contourcarpet": [
           {
            "colorbar": {
             "outlinewidth": 0,
             "ticks": ""
            },
            "type": "contourcarpet"
           }
          ],
          "heatmap": [
           {
            "colorbar": {
             "outlinewidth": 0,
             "ticks": ""
            },
            "colorscale": [
             [
              0,
              "#0d0887"
             ],
             [
              0.1111111111111111,
              "#46039f"
             ],
             [
              0.2222222222222222,
              "#7201a8"
             ],
             [
              0.3333333333333333,
              "#9c179e"
             ],
             [
              0.4444444444444444,
              "#bd3786"
             ],
             [
              0.5555555555555556,
              "#d8576b"
             ],
             [
              0.6666666666666666,
              "#ed7953"
             ],
             [
              0.7777777777777778,
              "#fb9f3a"
             ],
             [
              0.8888888888888888,
              "#fdca26"
             ],
             [
              1,
              "#f0f921"
             ]
            ],
            "type": "heatmap"
           }
          ],
          "heatmapgl": [
           {
            "colorbar": {
             "outlinewidth": 0,
             "ticks": ""
            },
            "colorscale": [
             [
              0,
              "#0d0887"
             ],
             [
              0.1111111111111111,
              "#46039f"
             ],
             [
              0.2222222222222222,
              "#7201a8"
             ],
             [
              0.3333333333333333,
              "#9c179e"
             ],
             [
              0.4444444444444444,
              "#bd3786"
             ],
             [
              0.5555555555555556,
              "#d8576b"
             ],
             [
              0.6666666666666666,
              "#ed7953"
             ],
             [
              0.7777777777777778,
              "#fb9f3a"
             ],
             [
              0.8888888888888888,
              "#fdca26"
             ],
             [
              1,
              "#f0f921"
             ]
            ],
            "type": "heatmapgl"
           }
          ],
          "histogram": [
           {
            "marker": {
             "pattern": {
              "fillmode": "overlay",
              "size": 10,
              "solidity": 0.2
             }
            },
            "type": "histogram"
           }
          ],
          "histogram2d": [
           {
            "colorbar": {
             "outlinewidth": 0,
             "ticks": ""
            },
            "colorscale": [
             [
              0,
              "#0d0887"
             ],
             [
              0.1111111111111111,
              "#46039f"
             ],
             [
              0.2222222222222222,
              "#7201a8"
             ],
             [
              0.3333333333333333,
              "#9c179e"
             ],
             [
              0.4444444444444444,
              "#bd3786"
             ],
             [
              0.5555555555555556,
              "#d8576b"
             ],
             [
              0.6666666666666666,
              "#ed7953"
             ],
             [
              0.7777777777777778,
              "#fb9f3a"
             ],
             [
              0.8888888888888888,
              "#fdca26"
             ],
             [
              1,
              "#f0f921"
             ]
            ],
            "type": "histogram2d"
           }
          ],
          "histogram2dcontour": [
           {
            "colorbar": {
             "outlinewidth": 0,
             "ticks": ""
            },
            "colorscale": [
             [
              0,
              "#0d0887"
             ],
             [
              0.1111111111111111,
              "#46039f"
             ],
             [
              0.2222222222222222,
              "#7201a8"
             ],
             [
              0.3333333333333333,
              "#9c179e"
             ],
             [
              0.4444444444444444,
              "#bd3786"
             ],
             [
              0.5555555555555556,
              "#d8576b"
             ],
             [
              0.6666666666666666,
              "#ed7953"
             ],
             [
              0.7777777777777778,
              "#fb9f3a"
             ],
             [
              0.8888888888888888,
              "#fdca26"
             ],
             [
              1,
              "#f0f921"
             ]
            ],
            "type": "histogram2dcontour"
           }
          ],
          "mesh3d": [
           {
            "colorbar": {
             "outlinewidth": 0,
             "ticks": ""
            },
            "type": "mesh3d"
           }
          ],
          "parcoords": [
           {
            "line": {
             "colorbar": {
              "outlinewidth": 0,
              "ticks": ""
             }
            },
            "type": "parcoords"
           }
          ],
          "pie": [
           {
            "automargin": true,
            "type": "pie"
           }
          ],
          "scatter": [
           {
            "fillpattern": {
             "fillmode": "overlay",
             "size": 10,
             "solidity": 0.2
            },
            "type": "scatter"
           }
          ],
          "scatter3d": [
           {
            "line": {
             "colorbar": {
              "outlinewidth": 0,
              "ticks": ""
             }
            },
            "marker": {
             "colorbar": {
              "outlinewidth": 0,
              "ticks": ""
             }
            },
            "type": "scatter3d"
           }
          ],
          "scattercarpet": [
           {
            "marker": {
             "colorbar": {
              "outlinewidth": 0,
              "ticks": ""
             }
            },
            "type": "scattercarpet"
           }
          ],
          "scattergeo": [
           {
            "marker": {
             "colorbar": {
              "outlinewidth": 0,
              "ticks": ""
             }
            },
            "type": "scattergeo"
           }
          ],
          "scattergl": [
           {
            "marker": {
             "colorbar": {
              "outlinewidth": 0,
              "ticks": ""
             }
            },
            "type": "scattergl"
           }
          ],
          "scattermapbox": [
           {
            "marker": {
             "colorbar": {
              "outlinewidth": 0,
              "ticks": ""
             }
            },
            "type": "scattermapbox"
           }
          ],
          "scatterpolar": [
           {
            "marker": {
             "colorbar": {
              "outlinewidth": 0,
              "ticks": ""
             }
            },
            "type": "scatterpolar"
           }
          ],
          "scatterpolargl": [
           {
            "marker": {
             "colorbar": {
              "outlinewidth": 0,
              "ticks": ""
             }
            },
            "type": "scatterpolargl"
           }
          ],
          "scatterternary": [
           {
            "marker": {
             "colorbar": {
              "outlinewidth": 0,
              "ticks": ""
             }
            },
            "type": "scatterternary"
           }
          ],
          "surface": [
           {
            "colorbar": {
             "outlinewidth": 0,
             "ticks": ""
            },
            "colorscale": [
             [
              0,
              "#0d0887"
             ],
             [
              0.1111111111111111,
              "#46039f"
             ],
             [
              0.2222222222222222,
              "#7201a8"
             ],
             [
              0.3333333333333333,
              "#9c179e"
             ],
             [
              0.4444444444444444,
              "#bd3786"
             ],
             [
              0.5555555555555556,
              "#d8576b"
             ],
             [
              0.6666666666666666,
              "#ed7953"
             ],
             [
              0.7777777777777778,
              "#fb9f3a"
             ],
             [
              0.8888888888888888,
              "#fdca26"
             ],
             [
              1,
              "#f0f921"
             ]
            ],
            "type": "surface"
           }
          ],
          "table": [
           {
            "cells": {
             "fill": {
              "color": "#EBF0F8"
             },
             "line": {
              "color": "white"
             }
            },
            "header": {
             "fill": {
              "color": "#C8D4E3"
             },
             "line": {
              "color": "white"
             }
            },
            "type": "table"
           }
          ]
         },
         "layout": {
          "annotationdefaults": {
           "arrowcolor": "#2a3f5f",
           "arrowhead": 0,
           "arrowwidth": 1
          },
          "autotypenumbers": "strict",
          "coloraxis": {
           "colorbar": {
            "outlinewidth": 0,
            "ticks": ""
           }
          },
          "colorscale": {
           "diverging": [
            [
             0,
             "#8e0152"
            ],
            [
             0.1,
             "#c51b7d"
            ],
            [
             0.2,
             "#de77ae"
            ],
            [
             0.3,
             "#f1b6da"
            ],
            [
             0.4,
             "#fde0ef"
            ],
            [
             0.5,
             "#f7f7f7"
            ],
            [
             0.6,
             "#e6f5d0"
            ],
            [
             0.7,
             "#b8e186"
            ],
            [
             0.8,
             "#7fbc41"
            ],
            [
             0.9,
             "#4d9221"
            ],
            [
             1,
             "#276419"
            ]
           ],
           "sequential": [
            [
             0,
             "#0d0887"
            ],
            [
             0.1111111111111111,
             "#46039f"
            ],
            [
             0.2222222222222222,
             "#7201a8"
            ],
            [
             0.3333333333333333,
             "#9c179e"
            ],
            [
             0.4444444444444444,
             "#bd3786"
            ],
            [
             0.5555555555555556,
             "#d8576b"
            ],
            [
             0.6666666666666666,
             "#ed7953"
            ],
            [
             0.7777777777777778,
             "#fb9f3a"
            ],
            [
             0.8888888888888888,
             "#fdca26"
            ],
            [
             1,
             "#f0f921"
            ]
           ],
           "sequentialminus": [
            [
             0,
             "#0d0887"
            ],
            [
             0.1111111111111111,
             "#46039f"
            ],
            [
             0.2222222222222222,
             "#7201a8"
            ],
            [
             0.3333333333333333,
             "#9c179e"
            ],
            [
             0.4444444444444444,
             "#bd3786"
            ],
            [
             0.5555555555555556,
             "#d8576b"
            ],
            [
             0.6666666666666666,
             "#ed7953"
            ],
            [
             0.7777777777777778,
             "#fb9f3a"
            ],
            [
             0.8888888888888888,
             "#fdca26"
            ],
            [
             1,
             "#f0f921"
            ]
           ]
          },
          "colorway": [
           "#636efa",
           "#EF553B",
           "#00cc96",
           "#ab63fa",
           "#FFA15A",
           "#19d3f3",
           "#FF6692",
           "#B6E880",
           "#FF97FF",
           "#FECB52"
          ],
          "font": {
           "color": "#2a3f5f"
          },
          "geo": {
           "bgcolor": "white",
           "lakecolor": "white",
           "landcolor": "#E5ECF6",
           "showlakes": true,
           "showland": true,
           "subunitcolor": "white"
          },
          "hoverlabel": {
           "align": "left"
          },
          "hovermode": "closest",
          "mapbox": {
           "style": "light"
          },
          "paper_bgcolor": "white",
          "plot_bgcolor": "#E5ECF6",
          "polar": {
           "angularaxis": {
            "gridcolor": "white",
            "linecolor": "white",
            "ticks": ""
           },
           "bgcolor": "#E5ECF6",
           "radialaxis": {
            "gridcolor": "white",
            "linecolor": "white",
            "ticks": ""
           }
          },
          "scene": {
           "xaxis": {
            "backgroundcolor": "#E5ECF6",
            "gridcolor": "white",
            "gridwidth": 2,
            "linecolor": "white",
            "showbackground": true,
            "ticks": "",
            "zerolinecolor": "white"
           },
           "yaxis": {
            "backgroundcolor": "#E5ECF6",
            "gridcolor": "white",
            "gridwidth": 2,
            "linecolor": "white",
            "showbackground": true,
            "ticks": "",
            "zerolinecolor": "white"
           },
           "zaxis": {
            "backgroundcolor": "#E5ECF6",
            "gridcolor": "white",
            "gridwidth": 2,
            "linecolor": "white",
            "showbackground": true,
            "ticks": "",
            "zerolinecolor": "white"
           }
          },
          "shapedefaults": {
           "line": {
            "color": "#2a3f5f"
           }
          },
          "ternary": {
           "aaxis": {
            "gridcolor": "white",
            "linecolor": "white",
            "ticks": ""
           },
           "baxis": {
            "gridcolor": "white",
            "linecolor": "white",
            "ticks": ""
           },
           "bgcolor": "#E5ECF6",
           "caxis": {
            "gridcolor": "white",
            "linecolor": "white",
            "ticks": ""
           }
          },
          "title": {
           "x": 0.05
          },
          "xaxis": {
           "automargin": true,
           "gridcolor": "white",
           "linecolor": "white",
           "ticks": "",
           "title": {
            "standoff": 15
           },
           "zerolinecolor": "white",
           "zerolinewidth": 2
          },
          "yaxis": {
           "automargin": true,
           "gridcolor": "white",
           "linecolor": "white",
           "ticks": "",
           "title": {
            "standoff": 15
           },
           "zerolinecolor": "white",
           "zerolinewidth": 2
          }
         }
        },
        "title": {
         "text": "Test_test",
         "x": 0.5
        },
        "xaxis": {
         "anchor": "y",
         "domain": [
          0,
          1
         ],
         "title": {
          "text": "State (Abbreviated)"
         }
        },
        "yaxis": {
         "anchor": "x",
         "domain": [
          0,
          1
         ],
         "title": {
          "text": "Average housing price per State"
         }
        }
       }
      },
      "image/png": "[encoded data removed]",
      "text/html": [
       "<div>                            <div id=\"9cd42351-c06d-4b10-b6fc-5ac83938fdc8\" class=\"plotly-graph-div\" style=\"height:525px; width:100%;\"></div>            <script type=\"text/javascript\">                require([\"plotly\"], function(Plotly) {                    window.PLOTLYENV=window.PLOTLYENV || {};                                    if (document.getElementById(\"9cd42351-c06d-4b10-b6fc-5ac83938fdc8\")) {                    Plotly.newPlot(                        \"9cd42351-c06d-4b10-b6fc-5ac83938fdc8\",                        [{\"alignmentgroup\":\"True\",\"hovertemplate\":\"StateName=%{x}\\u003cbr\\u003eValue=%{y}\\u003cextra\\u003e\\u003c\\u002fextra\\u003e\",\"legendgroup\":\"\",\"marker\":{\"color\":\"#636efa\",\"pattern\":{\"shape\":\"\"}},\"name\":\"\",\"offsetgroup\":\"\",\"orientation\":\"v\",\"showlegend\":false,\"textposition\":\"outside\",\"texttemplate\":\"%{y:.2s}\",\"x\":[\"AK\",\"AL\",\"AR\",\"AZ\",\"CA\",\"CO\",\"CT\",\"DE\",\"FL\",\"GA\",\"HI\",\"IA\",\"ID\",\"IL\",\"IN\",\"KS\",\"KY\",\"LA\",\"MA\",\"MD\",\"ME\",\"MI\",\"MN\",\"MO\",\"MS\",\"MT\",\"NC\",\"ND\",\"NE\",\"NH\",\"NJ\",\"NM\",\"NV\",\"NY\",\"OH\",\"OK\",\"OR\",\"PA\",\"RI\",\"SC\",\"SD\",\"TN\",\"TX\",\"UT\",\"VA\",\"VT\",\"WA\",\"WI\",\"WV\",\"WY\"],\"xaxis\":\"x\",\"y\":[274315.7455110723,132572.49477316387,109979.99618000709,200448.039823375,368882.11503036163,324836.95923783275,273706.89218399423,238428.62028386391,183692.03453745943,125392.17086762477,510140.13298599306,126967.75257160603,238461.5055378866,116597.80836020739,122109.04727787513,129868.53807358915,109328.96894436743,141249.10333554272,373679.5185295015,220633.89709494074,180452.04790859576,134697.40094634207,179717.3940177043,131514.01226934456,149806.83919698893,266193.6101181558,163100.3385607229,197980.3276949816,133905.67327163467,208371.8489436429,256750.05646715508,206825.52812355978,253601.05065664375,139465.03641341397,113791.47369758948,99883.75398067952,239780.2530012125,141361.22511171747,271472.4342844036,157647.44124110794,176617.60801891412,139178.97137029143,142009.40654638896,283304.6432977831,183078.98869865254,225321.42955317287,254028.51769291918,169409.68583472166,107102.26980776174,301747.19261368696],\"yaxis\":\"y\",\"type\":\"bar\",\"textfont\":{\"size\":12},\"cliponaxis\":false,\"textangle\":0}],                        {\"template\":{\"data\":{\"histogram2dcontour\":[{\"type\":\"histogram2dcontour\",\"colorbar\":{\"outlinewidth\":0,\"ticks\":\"\"},\"colorscale\":[[0.0,\"#0d0887\"],[0.1111111111111111,\"#46039f\"],[0.2222222222222222,\"#7201a8\"],[0.3333333333333333,\"#9c179e\"],[0.4444444444444444,\"#bd3786\"],[0.5555555555555556,\"#d8576b\"],[0.6666666666666666,\"#ed7953\"],[0.7777777777777778,\"#fb9f3a\"],[0.8888888888888888,\"#fdca26\"],[1.0,\"#f0f921\"]]}],\"choropleth\":[{\"type\":\"choropleth\",\"colorbar\":{\"outlinewidth\":0,\"ticks\":\"\"}}],\"histogram2d\":[{\"type\":\"histogram2d\",\"colorbar\":{\"outlinewidth\":0,\"ticks\":\"\"},\"colorscale\":[[0.0,\"#0d0887\"],[0.1111111111111111,\"#46039f\"],[0.2222222222222222,\"#7201a8\"],[0.3333333333333333,\"#9c179e\"],[0.4444444444444444,\"#bd3786\"],[0.5555555555555556,\"#d8576b\"],[0.6666666666666666,\"#ed7953\"],[0.7777777777777778,\"#fb9f3a\"],[0.8888888888888888,\"#fdca26\"],[1.0,\"#f0f921\"]]}],\"heatmap\":[{\"type\":\"heatmap\",\"colorbar\":{\"outlinewidth\":0,\"ticks\":\"\"},\"colorscale\":[[0.0,\"#0d0887\"],[0.1111111111111111,\"#46039f\"],[0.2222222222222222,\"#7201a8\"],[0.3333333333333333,\"#9c179e\"],[0.4444444444444444,\"#bd3786\"],[0.5555555555555556,\"#d8576b\"],[0.6666666666666666,\"#ed7953\"],[0.7777777777777778,\"#fb9f3a\"],[0.8888888888888888,\"#fdca26\"],[1.0,\"#f0f921\"]]}],\"heatmapgl\":[{\"type\":\"heatmapgl\",\"colorbar\":{\"outlinewidth\":0,\"ticks\":\"\"},\"colorscale\":[[0.0,\"#0d0887\"],[0.1111111111111111,\"#46039f\"],[0.2222222222222222,\"#7201a8\"],[0.3333333333333333,\"#9c179e\"],[0.4444444444444444,\"#bd3786\"],[0.5555555555555556,\"#d8576b\"],[0.6666666666666666,\"#ed7953\"],[0.7777777777777778,\"#fb9f3a\"],[0.8888888888888888,\"#fdca26\"],[1.0,\"#f0f921\"]]}],\"contourcarpet\":[{\"type\":\"contourcarpet\",\"colorbar\":{\"outlinewidth\":0,\"ticks\":\"\"}}],\"contour\":[{\"type\":\"contour\",\"colorbar\":{\"outlinewidth\":0,\"ticks\":\"\"},\"colorscale\":[[0.0,\"#0d0887\"],[0.1111111111111111,\"#46039f\"],[0.2222222222222222,\"#7201a8\"],[0.3333333333333333,\"#9c179e\"],[0.4444444444444444,\"#bd3786\"],[0.5555555555555556,\"#d8576b\"],[0.6666666666666666,\"#ed7953\"],[0.7777777777777778,\"#fb9f3a\"],[0.8888888888888888,\"#fdca26\"],[1.0,\"#f0f921\"]]}],\"surface\":[{\"type\":\"surface\",\"colorbar\":{\"outlinewidth\":0,\"ticks\":\"\"},\"colorscale\":[[0.0,\"#0d0887\"],[0.1111111111111111,\"#46039f\"],[0.2222222222222222,\"#7201a8\"],[0.3333333333333333,\"#9c179e\"],[0.4444444444444444,\"#bd3786\"],[0.5555555555555556,\"#d8576b\"],[0.6666666666666666,\"#ed7953\"],[0.7777777777777778,\"#fb9f3a\"],[0.8888888888888888,\"#fdca26\"],[1.0,\"#f0f921\"]]}],\"mesh3d\":[{\"type\":\"mesh3d\",\"colorbar\":{\"outlinewidth\":0,\"ticks\":\"\"}}],\"scatter\":[{\"fillpattern\":{\"fillmode\":\"overlay\",\"size\":10,\"solidity\":0.2},\"type\":\"scatter\"}],\"parcoords\":[{\"type\":\"parcoords\",\"line\":{\"colorbar\":{\"outlinewidth\":0,\"ticks\":\"\"}}}],\"scatterpolargl\":[{\"type\":\"scatterpolargl\",\"marker\":{\"colorbar\":{\"outlinewidth\":0,\"ticks\":\"\"}}}],\"bar\":[{\"error_x\":{\"color\":\"#2a3f5f\"},\"error_y\":{\"color\":\"#2a3f5f\"},\"marker\":{\"line\":{\"color\":\"#E5ECF6\",\"width\":0.5},\"pattern\":{\"fillmode\":\"overlay\",\"size\":10,\"solidity\":0.2}},\"type\":\"bar\"}],\"scattergeo\":[{\"type\":\"scattergeo\",\"marker\":{\"colorbar\":{\"outlinewidth\":0,\"ticks\":\"\"}}}],\"scatterpolar\":[{\"type\":\"scatterpolar\",\"marker\":{\"colorbar\":{\"outlinewidth\":0,\"ticks\":\"\"}}}],\"histogram\":[{\"marker\":{\"pattern\":{\"fillmode\":\"overlay\",\"size\":10,\"solidity\":0.2}},\"type\":\"histogram\"}],\"scattergl\":[{\"type\":\"scattergl\",\"marker\":{\"colorbar\":{\"outlinewidth\":0,\"ticks\":\"\"}}}],\"scatter3d\":[{\"type\":\"scatter3d\",\"line\":{\"colorbar\":{\"outlinewidth\":0,\"ticks\":\"\"}},\"marker\":{\"colorbar\":{\"outlinewidth\":0,\"ticks\":\"\"}}}],\"scattermapbox\":[{\"type\":\"scattermapbox\",\"marker\":{\"colorbar\":{\"outlinewidth\":0,\"ticks\":\"\"}}}],\"scatterternary\":[{\"type\":\"scatterternary\",\"marker\":{\"colorbar\":{\"outlinewidth\":0,\"ticks\":\"\"}}}],\"scattercarpet\":[{\"type\":\"scattercarpet\",\"marker\":{\"colorbar\":{\"outlinewidth\":0,\"ticks\":\"\"}}}],\"carpet\":[{\"aaxis\":{\"endlinecolor\":\"#2a3f5f\",\"gridcolor\":\"white\",\"linecolor\":\"white\",\"minorgridcolor\":\"white\",\"startlinecolor\":\"#2a3f5f\"},\"baxis\":{\"endlinecolor\":\"#2a3f5f\",\"gridcolor\":\"white\",\"linecolor\":\"white\",\"minorgridcolor\":\"white\",\"startlinecolor\":\"#2a3f5f\"},\"type\":\"carpet\"}],\"table\":[{\"cells\":{\"fill\":{\"color\":\"#EBF0F8\"},\"line\":{\"color\":\"white\"}},\"header\":{\"fill\":{\"color\":\"#C8D4E3\"},\"line\":{\"color\":\"white\"}},\"type\":\"table\"}],\"barpolar\":[{\"marker\":{\"line\":{\"color\":\"#E5ECF6\",\"width\":0.5},\"pattern\":{\"fillmode\":\"overlay\",\"size\":10,\"solidity\":0.2}},\"type\":\"barpolar\"}],\"pie\":[{\"automargin\":true,\"type\":\"pie\"}]},\"layout\":{\"autotypenumbers\":\"strict\",\"colorway\":[\"#636efa\",\"#EF553B\",\"#00cc96\",\"#ab63fa\",\"#FFA15A\",\"#19d3f3\",\"#FF6692\",\"#B6E880\",\"#FF97FF\",\"#FECB52\"],\"font\":{\"color\":\"#2a3f5f\"},\"hovermode\":\"closest\",\"hoverlabel\":{\"align\":\"left\"},\"paper_bgcolor\":\"white\",\"plot_bgcolor\":\"#E5ECF6\",\"polar\":{\"bgcolor\":\"#E5ECF6\",\"angularaxis\":{\"gridcolor\":\"white\",\"linecolor\":\"white\",\"ticks\":\"\"},\"radialaxis\":{\"gridcolor\":\"white\",\"linecolor\":\"white\",\"ticks\":\"\"}},\"ternary\":{\"bgcolor\":\"#E5ECF6\",\"aaxis\":{\"gridcolor\":\"white\",\"linecolor\":\"white\",\"ticks\":\"\"},\"baxis\":{\"gridcolor\":\"white\",\"linecolor\":\"white\",\"ticks\":\"\"},\"caxis\":{\"gridcolor\":\"white\",\"linecolor\":\"white\",\"ticks\":\"\"}},\"coloraxis\":{\"colorbar\":{\"outlinewidth\":0,\"ticks\":\"\"}},\"colorscale\":{\"sequential\":[[0.0,\"#0d0887\"],[0.1111111111111111,\"#46039f\"],[0.2222222222222222,\"#7201a8\"],[0.3333333333333333,\"#9c179e\"],[0.4444444444444444,\"#bd3786\"],[0.5555555555555556,\"#d8576b\"],[0.6666666666666666,\"#ed7953\"],[0.7777777777777778,\"#fb9f3a\"],[0.8888888888888888,\"#fdca26\"],[1.0,\"#f0f921\"]],\"sequentialminus\":[[0.0,\"#0d0887\"],[0.1111111111111111,\"#46039f\"],[0.2222222222222222,\"#7201a8\"],[0.3333333333333333,\"#9c179e\"],[0.4444444444444444,\"#bd3786\"],[0.5555555555555556,\"#d8576b\"],[0.6666666666666666,\"#ed7953\"],[0.7777777777777778,\"#fb9f3a\"],[0.8888888888888888,\"#fdca26\"],[1.0,\"#f0f921\"]],\"diverging\":[[0,\"#8e0152\"],[0.1,\"#c51b7d\"],[0.2,\"#de77ae\"],[0.3,\"#f1b6da\"],[0.4,\"#fde0ef\"],[0.5,\"#f7f7f7\"],[0.6,\"#e6f5d0\"],[0.7,\"#b8e186\"],[0.8,\"#7fbc41\"],[0.9,\"#4d9221\"],[1,\"#276419\"]]},\"xaxis\":{\"gridcolor\":\"white\",\"linecolor\":\"white\",\"ticks\":\"\",\"title\":{\"standoff\":15},\"zerolinecolor\":\"white\",\"automargin\":true,\"zerolinewidth\":2},\"yaxis\":{\"gridcolor\":\"white\",\"linecolor\":\"white\",\"ticks\":\"\",\"title\":{\"standoff\":15},\"zerolinecolor\":\"white\",\"automargin\":true,\"zerolinewidth\":2},\"scene\":{\"xaxis\":{\"backgroundcolor\":\"#E5ECF6\",\"gridcolor\":\"white\",\"linecolor\":\"white\",\"showbackground\":true,\"ticks\":\"\",\"zerolinecolor\":\"white\",\"gridwidth\":2},\"yaxis\":{\"backgroundcolor\":\"#E5ECF6\",\"gridcolor\":\"white\",\"linecolor\":\"white\",\"showbackground\":true,\"ticks\":\"\",\"zerolinecolor\":\"white\",\"gridwidth\":2},\"zaxis\":{\"backgroundcolor\":\"#E5ECF6\",\"gridcolor\":\"white\",\"linecolor\":\"white\",\"showbackground\":true,\"ticks\":\"\",\"zerolinecolor\":\"white\",\"gridwidth\":2}},\"shapedefaults\":{\"line\":{\"color\":\"#2a3f5f\"}},\"annotationdefaults\":{\"arrowcolor\":\"#2a3f5f\",\"arrowhead\":0,\"arrowwidth\":1},\"geo\":{\"bgcolor\":\"white\",\"landcolor\":\"#E5ECF6\",\"subunitcolor\":\"white\",\"showland\":true,\"showlakes\":true,\"lakecolor\":\"white\"},\"title\":{\"x\":0.05},\"mapbox\":{\"style\":\"light\"}}},\"xaxis\":{\"anchor\":\"y\",\"domain\":[0.0,1.0],\"title\":{\"text\":\"State (Abbreviated)\"}},\"yaxis\":{\"anchor\":\"x\",\"domain\":[0.0,1.0],\"title\":{\"text\":\"Average housing price per State\"}},\"legend\":{\"tracegroupgap\":0},\"title\":{\"text\":\"Test_test\",\"x\":0.5},\"barmode\":\"relative\"},                        {\"responsive\": true}                    ).then(function(){\n",
       "                            \n",
       "var gd = document.getElementById('9cd42351-c06d-4b10-b6fc-5ac83938fdc8');\n",
       "var x = new MutationObserver(function (mutations, observer) {{\n",
       "        var display = window.getComputedStyle(gd).display;\n",
       "        if (!display || display === 'none') {{\n",
       "            console.log([gd, 'removed!']);\n",
       "            Plotly.purge(gd);\n",
       "            observer.disconnect();\n",
       "        }}\n",
       "}});\n",
       "\n",
       "// Listen for the removal of the full notebook cells\n",
       "var notebookContainer = gd.closest('#notebook-container');\n",
       "if (notebookContainer) {{\n",
       "    x.observe(notebookContainer, {childList: true});\n",
       "}}\n",
       "\n",
       "// Listen for the clearing of the current output cell\n",
       "var outputEl = gd.closest('.output');\n",
       "if (outputEl) {{\n",
       "    x.observe(outputEl, {childList: true});\n",
       "}}\n",
       "\n",
       "                        })                };                });            </script>        </div>"
      ]
     },
     "metadata": {},
     "output_type": "display_data"
    }
   ],
   "source": [
    "# Bar chart based on region\n",
    "\n",
    "# Assuming hv is the home_value DataFrame\n",
    "hv = home_value.copy()\n",
    "\n",
    "# Grab Columns\n",
    "categorical_columns = hv.columns[:5]\n",
    "dates = hv.columns[5:]\n",
    "\n",
    "# Convert to date time and melt the DataFrame\n",
    "df_melted = hv.melt(id_vars=categorical_columns, value_vars=dates, var_name='Date', value_name='Value')\n",
    "df_melted['Date'] = pd.to_datetime(df_melted['Date'])\n",
    "df_melted = df_melted.dropna(subset=['Value'])\n",
    "\n",
    "# Sort the DataFrame\n",
    "df_sorted = df_melted.sort_values(by=[\"StateName\", \"Date\"]).groupby(by=\"StateName\")['Value'].mean()\n",
    "df_sorted = df_sorted.reset_index()  # Convert the Series into a DataFrame\n",
    "\n",
    "fig = px.bar(df_sorted, y= \"Value\", x=\"StateName\", text_auto='.2s',title=\"Test_test\")\n",
    "\n",
    "fig.update_traces(textfont_size=12, textangle=0, textposition=\"outside\", cliponaxis=False)\n",
    "\n",
    "# Update layout for better spacing\n",
    "fig.update_layout(\n",
    "    xaxis_title=\"State (Abbreviated)\",\n",
    "    yaxis_title=\"Average housing price per State\",\n",
    "    title_x=0.5  # Center the title\n",
    ")\n",
    "\n",
    "fig.show()"
   ]
  },
  {
   "cell_type": "code",
   "execution_count": 7,
   "id": "1f6c4319-d75e-46cb-87df-c3bf99e811c0",
   "metadata": {},
   "outputs": [
    {
     "data": {
      "text/plain": [
       "<Axes: >"
      ]
     },
     "execution_count": 7,
     "metadata": {},
     "output_type": "execute_result"
    },
    {
     "data": {
      "image/png": "[encoded data removed]",
      "text/plain": [
       "<Figure size 640x480 with 2 Axes>"
      ]
     },
     "metadata": {},
     "output_type": "display_data"
    }
   ],
   "source": [
    "data_numeric = hv.select_dtypes('number')\n",
    "sns.heatmap(data_numeric)"
   ]
  },
  {
   "cell_type": "markdown",
   "id": "1a77eaac-29d7-486f-97df-65f3cc34b432",
   "metadata": {},
   "source": [
    "https://www.chase.com/personal/mortgage/education/financing-a-home/how-much-you-can-afford"
   ]
  },
  {
   "cell_type": "code",
   "execution_count": null,
   "id": "2fdc43a0-4b00-4e9a-b180-ea1c75bb7646",
   "metadata": {},
   "outputs": [],
   "source": []
  }
 ],
 "metadata": {
  "kernelspec": {
   "display_name": "Python 3 (ipykernel)",
   "language": "python",
   "name": "python3"
  },
  "language_info": {
   "codemirror_mode": {
    "name": "ipython",
    "version": 3
   },
   "file_extension": ".py",
   "mimetype": "text/x-python",
   "name": "python",
   "nbconvert_exporter": "python",
   "pygments_lexer": "ipython3",
   "version": "3.12.9"
  }
 },
 "nbformat": 4,
 "nbformat_minor": 5
}
